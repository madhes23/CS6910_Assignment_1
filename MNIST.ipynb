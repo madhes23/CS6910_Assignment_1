{
  "cells": [
    {
      "cell_type": "markdown",
      "metadata": {
        "id": "view-in-github",
        "colab_type": "text"
      },
      "source": [
        "<a href=\"https://colab.research.google.com/github/madhes23/deep_learning/blob/main/MNIST.ipynb\" target=\"_parent\"><img src=\"https://colab.research.google.com/assets/colab-badge.svg\" alt=\"Open In Colab\"/></a>"
      ]
    },
    {
      "cell_type": "code",
      "execution_count": 18,
      "metadata": {
        "id": "nAdxJ3ukrXg4"
      },
      "outputs": [],
      "source": [
        "! pip install wandb -qU"
      ]
    },
    {
      "cell_type": "code",
      "execution_count": 19,
      "metadata": {
        "id": "BKJei9hr3MlP"
      },
      "outputs": [],
      "source": [
        "from keras.datasets import fashion_mnist\n",
        "import matplotlib.pyplot as plt\n",
        "import numpy as np\n",
        "import math\n",
        "from enum import Enum\n",
        "import wandb\n",
        "from sklearn.model_selection import train_test_split"
      ]
    },
    {
      "cell_type": "markdown",
      "metadata": {
        "id": "e_H7qxjT2_r8"
      },
      "source": [
        "# Importing and plotting samples"
      ]
    },
    {
      "cell_type": "code",
      "execution_count": 20,
      "metadata": {
        "id": "jjBCjYrvwVre"
      },
      "outputs": [],
      "source": [
        "(x_train, y_train), (x_test, y_test) = fashion_mnist.load_data()\n",
        "x_train, x_validation, y_train, y_validation = train_test_split(x_train, y_train, train_size=0.8)"
      ]
    },
    {
      "cell_type": "code",
      "execution_count": 21,
      "metadata": {
        "colab": {
          "base_uri": "https://localhost:8080/",
          "height": 196
        },
        "id": "QKKTyjeynEAH",
        "outputId": "eaf22343-5ef9-4ed9-d142-30583259807b"
      },
      "outputs": [
        {
          "output_type": "display_data",
          "data": {
            "text/plain": [
              "<Figure size 2016x2016 with 10 Axes>"
            ],
            "image/png": "[encoded data removed]"
          },
          "metadata": {
            "needs_background": "light"
          }
        }
      ],
      "source": [
        "no_of_items = 10\n",
        "\n",
        "fig, axes = plt.subplots(nrows = 1, ncols=10, figsize = (28, 28))\n",
        "for item in range(no_of_items):\n",
        "  index = 0\n",
        "  while(y_train[index] != item): #searching for the first occurance of the element\n",
        "    index = index+1\n",
        "  \n",
        "  ax = axes[item]\n",
        "  ax.imshow(x_train[index], cmap='gray_r')\n",
        "  ax.set_title('Label {}'.format(item))"
      ]
    },
    {
      "cell_type": "markdown",
      "metadata": {
        "id": "PfO1a_Bl3F7U"
      },
      "source": [
        "# Reshaping the data for nerual network\n"
      ]
    },
    {
      "cell_type": "code",
      "execution_count": 22,
      "metadata": {
        "id": "EX-O8TPP3FTm"
      },
      "outputs": [],
      "source": [
        "no_of_pixels = x_train[0].size\n",
        "x_train = x_train.reshape(-1, no_of_pixels)/255\n",
        "x_test = x_test.reshape(-1, no_of_pixels)/255\n",
        "x_validation = x_validation.reshape(-1, no_of_pixels)/255"
      ]
    },
    {
      "cell_type": "markdown",
      "metadata": {
        "id": "UCrUeXGzewLj"
      },
      "source": [
        "# Some Utility functions"
      ]
    },
    {
      "cell_type": "code",
      "execution_count": 23,
      "metadata": {
        "id": "LMEmeqnafDw5"
      },
      "outputs": [],
      "source": [
        "class ActivationFunction(Enum):\n",
        "  SIGMOID = \"sigmoid\"\n",
        "  RELU = \"relu\"\n",
        "  TAN_H = \"tanh\"\n",
        "\n",
        "class InitializationMethod(Enum):\n",
        "  UNIFORM_RANDOM = \"uniform_rand\"\n",
        "  UNIFORM_XAVIER = \"uniform_xav\"\n",
        "  GAUSSIAN_XAVIER = \"gaussian_xav\"\n",
        "\n",
        "class OutputFunction(Enum):\n",
        "  SOFTMAX = \"softmax\"\n",
        "\n",
        "class OptimizationAlgorithm(Enum):\n",
        "  GD = \"gd\"\n",
        "  SGD = \"sgd\"\n",
        "  MINI_BATCH = \"mini_batch\"\n",
        "  MOMENTUM_GD = \"momentum_gd\"\n",
        "  NAG = \"nag\"\n",
        "  RMS_PROP = \"rms\"\n",
        "  ADAM = \"adam\"\n",
        "  NADAM = \"nadam\"\n",
        "\n",
        "class ErrorCalculationMethod(Enum):\n",
        "  CROSS_ENTROPY = \"cross_entropy\"\n",
        "  MEAN_SQUARE_ERROR = \"mse\"\n",
        "\n",
        "\n",
        "def activation_function(a, func):\n",
        "  \"\"\"\n",
        "  Calculates post activation values from pre-activation values, functions implemented:\n",
        "  * Sigmoid\n",
        "  * ReLU\n",
        "  * Tan h\n",
        "\n",
        "  Parameters:\n",
        "  -----------\n",
        "  a: ndarray, pre-activation values\n",
        "  func: Enum describing the activation function type\n",
        "\n",
        "  Retruns:\n",
        "  -------\n",
        "  Post activation values in ndarray of the same dimention\n",
        "  \"\"\"\n",
        "  if(func == ActivationFunction.SIGMOID):   \n",
        "    # clipping_limit = 400\n",
        "    # return 1.0 / (1.0 + np.exp(-np.clip(a,-clipping_limit,clipping_limit)))\n",
        "    new = a.copy()\n",
        "    new[a<0] = np.exp(a[a<0])/(1.0 + np.exp(a[a<0]))\n",
        "    new[a>=0] = 1/(1+np.exp(-a[a>=0]))\n",
        "    return new\n",
        "\n",
        "  if(func == ActivationFunction.RELU):\n",
        "    return np.maximum(0,a)\n",
        "\n",
        "  if(func == ActivationFunction.TAN_H):\n",
        "    return np.tanh(a)\n",
        "\n",
        "\n",
        "def df_activation_function(a, func):\n",
        "  \"\"\"\n",
        "  Calculates the derivative of the activation function\n",
        "  \n",
        "  Parameters:\n",
        "  -------\n",
        "  a: ndarray, pre-activation values\n",
        "  func: Enum describing the activation function type\n",
        "  \n",
        "  \"\"\"\n",
        "  if(func == ActivationFunction.SIGMOID): \n",
        "    return activation_function(a, func) * (1 - activation_function(a, func))\n",
        "\n",
        "  if(func == ActivationFunction.RELU):\n",
        "    result = a.copy()\n",
        "    result[result>=0] = 1\n",
        "    result[result<0] = 0\n",
        "    return result\n",
        "  \n",
        "  if(func == ActivationFunction.TAN_H):\n",
        "    return 1 - np.square(activation_function(a, func))\n",
        "\n",
        "\n",
        "\n",
        "def output_function(a, func):\n",
        "  \"\"\"\n",
        "  Given the pre-activation values, post activation values of the output layer\n",
        "  \"\"\"\n",
        "  if(func == OutputFunction.SOFTMAX): \n",
        "    # a = a - np.max(a)\n",
        "    # return np.exp(a) / np.sum(np.exp(a), axis=1, keepdims=True)\n",
        "    num = np.exp(a - ((np.ones(shape=(a.shape[1],a.shape[0]))* (np.max(a,axis=1))).transpose()))\n",
        "    den = ((np.ones(shape=(a.shape[1],a.shape[0]))* (1/(np.sum(num,axis=1)))).transpose())\n",
        "    return np.multiply(num,den)\n",
        "\n",
        "\n",
        "def calc_total_error(predicted_distribution, true_label, method):\n",
        "  \"\"\"Calculates the total error based on the error calculation method\n",
        "  \n",
        "  Params:\n",
        "  --------\n",
        "  predicted_distribution:\n",
        "    ndarray containing the predicted probability distribution for each input\n",
        "  true label:\n",
        "    ndarray containing the true label for each inputs\n",
        "  method:\n",
        "    Enum describing the type of error calculation method used\n",
        "  \"\"\"\n",
        "  if(method == ErrorCalculationMethod.CROSS_ENTROPY):\n",
        "    rows = np.arange(true_label.shape[0]) #setting row number from 0 to length(true label)\n",
        "    cols = true_label\n",
        "    predicted_distribution = predicted_distribution[rows,cols]\n",
        "    predicted_distribution[predicted_distribution == 0] = 1e-6  #setting 0 values to very small value, so we dont get inf \n",
        "    return sum(-np.log(predicted_distribution)) \n",
        "\n",
        "\n",
        "\n",
        "def plot_graphs(training_errors, validation_errors, training_accuracy, validation_accuracy):\n",
        "  x = np.arange(len(training_errors))\n",
        "  fig, (ax1, ax2) = plt.subplots(1, 2)\n",
        "  ax1.plot(x, training_errors, label = \"Training Error\")\n",
        "  ax1.plot(x, validation_errors, label = \"Validation Error\")\n",
        "  ax1.set_title(\"Errors\")\n",
        "  ax1.legend()\n",
        "  ax2.plot(x, training_accuracy, label = \"Training Accuracy\")\n",
        "  ax2.plot(x, validation_accuracy, label = \"Validation Accuracy\")\n",
        "  ax2.set_title(\"Accuracy\")\n",
        "  ax2.legend()\n"
      ]
    },
    {
      "cell_type": "markdown",
      "metadata": {
        "id": "ft8laK_twVri"
      },
      "source": [
        "# Main Class"
      ]
    },
    {
      "cell_type": "code",
      "execution_count": 24,
      "metadata": {
        "id": "D3Wcr7PFwVrj"
      },
      "outputs": [],
      "source": [
        "class Classification:\n",
        "  weight = []\n",
        "  bias = []\n",
        "  def __init__(self, _no_of_class, _hidden_layer, _input_layer, _max_epoch, _optimization_algorithm=OptimizationAlgorithm.SGD, _activation_fun=ActivationFunction.RELU, _initialization_method=InitializationMethod.UNIFORM_XAVIER, _output_function = OutputFunction.SOFTMAX, _error_calculation=ErrorCalculationMethod.CROSS_ENTROPY, _learning_rate = 0.01, _batch_size = 32, _momentum = 0.9, _decay_rate_for_update = 0.99, _weight_decay_l2_reg = 0) -> None:\n",
        "    self.no_of_class = _no_of_class\n",
        "    self.hidden_layer = _hidden_layer\n",
        "    self.activation_func = _activation_fun\n",
        "    self.max_epoch = _max_epoch\n",
        "    self.input_layer = _input_layer\n",
        "    self.output_func = _output_function\n",
        "    self.learning_rate = _learning_rate\n",
        "    self.initialization_method = _initialization_method\n",
        "    self.error_calculation = _error_calculation\n",
        "    self.optimization_algorithm = _optimization_algorithm\n",
        "    self.batch_size = _batch_size\n",
        "    self.momentum = _momentum\n",
        "    self.decay_rate_for_update = _decay_rate_for_update\n",
        "    self.weight_decay_l2_reg = _weight_decay_l2_reg\n",
        "\n",
        "    #inferred values (for easier calculation)\n",
        "    self.layer = [_input_layer]\n",
        "    self.layer = self.layer + _hidden_layer\n",
        "    self.layer.append(_no_of_class)    \n",
        "    self.L = len(self.layer) - 1  #number of layers excluding the input layer (L value used in the lectures)\n",
        "\n",
        "    # print(\"no_of_class\", _no_of_class)\n",
        "    # print(\"hidden_lyaer\" , _hidden_layer)\n",
        "    # print(\"activ \", _activation_fun)\n",
        "    # print(\"optimi \", _output_function)\n",
        "\n",
        "  def init_weight_and_bias(self):\n",
        "    #going to use 1-based indexing (as tought in the class)\n",
        "    #so adding some random matrix in 0-th index\n",
        "    w = [np.random.rand(1,1)]\n",
        "    b = [np.random.rand(1,1)]\n",
        "    if(self.initialization_method == InitializationMethod.UNIFORM_RANDOM): \n",
        "      low = -1\n",
        "      high = 1\n",
        "      i = 1\n",
        "      while i < len(self.layer):\n",
        "        w.append(np.random.uniform(low, high, size=(self.layer[i], self.layer[i-1])))\n",
        "        b.append(np.zeros(self.layer[i]))\n",
        "        i +=1\n",
        "    \n",
        "    if(self.initialization_method == InitializationMethod.UNIFORM_XAVIER): \n",
        "      for i in range(1, len(self.layer)):\n",
        "        inputs = self.layer[i-1]\n",
        "        outputs = self.layer[i]\n",
        "        # x = math.sqrt(6/ inputs+outputs)\n",
        "        x = math.sqrt(1/inputs)\n",
        "        w.append(np.random.uniform(low=-x, high=x, size=(self.layer[i], self.layer[i-1])))\n",
        "        b.append(np.zeros(self.layer[i]))\n",
        "\n",
        "    if(self.initialization_method == InitializationMethod.GAUSSIAN_XAVIER): \n",
        "      mu = 0.0\n",
        "      for i in range(1, len(self.layer)):\n",
        "        inputs = self.layer[i-1]\n",
        "        outputs = self.layer[i]\n",
        "        # sigma = math.sqrt(6 / inputs+outputs)\n",
        "        sigma = math.sqrt(1/ inputs)\n",
        "        w.append(np.random.normal(mu, sigma, size=(self.layer[i], self.layer[i-1])))\n",
        "        b.append(np.zeros(self.layer[i]))\n",
        "    self.weight = np.array(w, dtype=object)\n",
        "    self.bias = np.array(b, dtype=object)\n",
        "\n",
        "\n",
        "  def init_prev_moments(self):\n",
        "    \"\"\"\n",
        "    Returns the previous moments for both weight and bias (ie zeros)\n",
        "\n",
        "    Returns:\n",
        "    ------\n",
        "    prev_moment_w: ndarray, dtype=object\n",
        "      All the values are initialized with zero, with same structure as weight matrix of the network\n",
        "    prev_moment_b: ndarray, dtype=object\n",
        "      All the values are initialized with zero, with same structure as bias matrix of the network\n",
        "    \"\"\"\n",
        "    #going to use 1-based indexing (as tought in the class)\n",
        "    #so adding some random matrix in 0-th index\n",
        "    prev_moment_w = [np.random.rand(1,1)]\n",
        "    prev_moment_b = [np.random.rand(1,1)]\n",
        "    for i in range(1, len(self.layer)):\n",
        "      prev_moment_w.append(np.zeros(shape=(self.layer[i], self.layer[i-1])))\n",
        "      prev_moment_b.append(np.zeros(self.layer[i]))\n",
        "\n",
        "    return np.array(prev_moment_w, dtype=object), np.array(prev_moment_b, dtype=object)\n",
        "\n",
        "  def forward_propogation(self, input_images):\n",
        "    #for using 1 based indexing, adding some random matrix in 0-th index\n",
        "    a = [np.random.rand(1,1)]\n",
        "    h = [input_images]\n",
        "\n",
        "    for i in range(1, self.L):\n",
        "      a.append(self.bias[i] + np.dot(h[i-1], self.weight[i].T))\n",
        "      h.append(activation_function(a[i], self.activation_func))\n",
        "\n",
        "    a.append(self.bias[self.L] + np.dot(h[self.L-1], self.weight[self.L].T))\n",
        "    h.append(output_function(a[-1], self.output_func))\n",
        "    return a, h\n",
        "\n",
        "\n",
        "  def backward_propogation(self, a, h, true_label, weight = None, use_custom_weight_matrix = False):\n",
        "    \"\"\"\n",
        "    Params:\n",
        "    ------\n",
        "    a: list of ndarray\n",
        "      pre activation values of the layers of the network (for the data points the in the batch)\n",
        "    h: list of ndarray\n",
        "      post activation values of the layers of the network (for the data points the in the batch)\n",
        "    true_label: ndarray\n",
        "      true label values of each of the data points in the batch\n",
        "    weight: ndarray\n",
        "      By default weight = weights populated in the network\n",
        "      But we can pass a custom weight matrix to perfom back propogation\n",
        "\n",
        "    Returns:\n",
        "    -------\n",
        "    del_w: ndarray\n",
        "    del_b: ndarray\n",
        "    \"\"\"\n",
        "    if(use_custom_weight_matrix == False):\n",
        "      weight = self.weight\n",
        "    \n",
        "    del_a = [None] * (self.L+1)\n",
        "    del_h = [None] * (self.L+1)\n",
        "    del_w = [None] * (self.L+1)\n",
        "    del_b = [None] * (self.L+1)\n",
        "    \n",
        "    #computing del_a_l\n",
        "    del_a[-1] = h[-1].copy()\n",
        "    row_ind = np.arange(true_label.shape[0]) #creating numbers 0 to batch size (for row indices)\n",
        "    del_a[-1][row_ind,true_label] -= 1\n",
        "\n",
        "    for k in range(self.L, 0, -1):\n",
        "      #computing gradients w.r.t parameters\n",
        "      del_w[k] = np.dot(del_a[k].T, h[k-1])\n",
        "      del_b[k] = np.sum(del_a[k], axis=0)\n",
        "\n",
        "      #computing gradients w.r.t layer below (post-activation)\n",
        "      del_h[k-1] = np.dot(del_a[k],weight[k])\n",
        "\n",
        "      #computing gradients w.r.t layer below (pre-activation)\n",
        "      del_a[k-1] = del_h[k-1] * df_activation_function(a[k-1], self.activation_func)\n",
        "    \n",
        "    #setting the 0-th index to some random array of (1,1)\n",
        "    #so that it won't cause dimention mismatch\n",
        "    del_w[0] = np.random.rand(1,1)\n",
        "    del_b[0] = np.random.rand(1,1)\n",
        "    return np.array(del_w, dtype=object), np.array(del_b, dtype=object)\n",
        "\n",
        "\n",
        "  def fit(self, x_train, y_train, x_validation, y_validation): \n",
        "    self.data_size = x_train.shape[0]\n",
        "    no_of_batches = self.data_size // self.batch_size\n",
        "\n",
        "    training_error_list = []\n",
        "    validation_error_list = []\n",
        "    training_accuracy = []\n",
        "    validation_accuracy = []\n",
        "\n",
        "    if(self.optimization_algorithm == OptimizationAlgorithm.GD):\n",
        "      for i in range(self.max_epoch):\n",
        "        a, h = self.forward_propogation(x_train)\n",
        "        del_w, del_b = self.backward_propogation(a, h, y_train) \n",
        "\n",
        "        if(self.activation_func == ActivationFunction.RELU):\n",
        "          #dividing by the batch size\n",
        "          del_w /= self.data_size\n",
        "          del_b /= self.data_size\n",
        "        self.weight = self.weight - (self.learning_rate * del_w) - (self.learning_rate * self.weight_decay_l2_reg * self.weight)\n",
        "        self.bias = self.bias - (self.learning_rate * del_b) - (self.learning_rate * self.weight_decay_l2_reg * self.bias)\n",
        "        err = calc_total_error(h[-1], y_train, self.error_calculation) / self.data_size \n",
        "        training_error_list.append(err)\n",
        "        _, h_val = self.forward_propogation(x_validation)\n",
        "        validation_error_list.append(calc_total_error(h_val[-1], y_validation, self.error_calculation) / y_validation.size)\n",
        "        acc = self.calc_accuracy(x_train, y_train)\n",
        "        training_accuracy.append(acc)\n",
        "        validation_accuracy.append(self.calc_accuracy(x_validation, y_validation))\n",
        "        print(\"Completed epoch : {} \\t Error: {} \\t Accuracy: {}\".format(i+1, err, acc))\n",
        "    \n",
        "    if(self.optimization_algorithm == OptimizationAlgorithm.MINI_BATCH):\n",
        "      for i in range(self.max_epoch):\n",
        "        err = 0\n",
        "        for j in range(no_of_batches+1): \n",
        "          begin = j * self.batch_size\n",
        "          end = begin + self.batch_size\n",
        "          if(end > self.data_size):\n",
        "            end = self.data_size\n",
        "\n",
        "          a, h = self.forward_propogation(x_train[begin:end])\n",
        "          del_w, del_b = self.backward_propogation(a, h, y_train[begin:end])\n",
        "\n",
        "          self.weight = self.weight - (self.learning_rate * del_w) - (self.learning_rate * self.weight_decay_l2_reg * self.weight)\n",
        "          self.bias = self.bias - (self.learning_rate * del_b) - (self.learning_rate * self.weight_decay_l2_reg * self.bias)\n",
        "\n",
        "          err += calc_total_error(h[-1], y_train[begin:end], self.error_calculation)\n",
        "        err /= self.data_size\n",
        "        training_error_list.append(err)\n",
        "        _, h_val = self.forward_propogation(x_validation)\n",
        "        validation_error_list.append(calc_total_error(h_val[-1], y_validation, self.error_calculation) / y_validation.size)\n",
        "        acc = self.calc_accuracy(x_train, y_train)\n",
        "        training_accuracy.append(acc)\n",
        "        validation_accuracy.append(self.calc_accuracy(x_validation, y_validation))\n",
        "        print(\"Completed epoch : {} \\t Error: {} \\t Accuracy: {}\".format(i+1, err, acc))\n",
        "    \n",
        "    if(self.optimization_algorithm == OptimizationAlgorithm.SGD): #same as above code, but with batch size = 1\n",
        "      self.batch_size = 1\n",
        "      no_of_batches = self.data_size // self.batch_size\n",
        "      for i in range(self.max_epoch):\n",
        "        err = 0\n",
        "        for j in range(no_of_batches+1): \n",
        "          begin = j * self.batch_size\n",
        "          end = begin + self.batch_size\n",
        "          if(end > self.data_size):\n",
        "            end = self.data_size\n",
        "\n",
        "          a, h = self.forward_propogation(x_train[begin:end])\n",
        "          del_w, del_b = self.backward_propogation(a, h, y_train[begin:end])\n",
        "\n",
        "          self.weight = self.weight - (self.learning_rate * del_w) - (self.learning_rate * self.weight_decay_l2_reg * self.weight)\n",
        "          self.bias = self.bias - (self.learning_rate * del_b) - (self.learning_rate * self.weight_decay_l2_reg * self.bias)\n",
        "\n",
        "          err += calc_total_error(h[-1], y_train[begin:end], self.error_calculation)\n",
        "        err /= self.data_size\n",
        "        training_error_list.append(err)\n",
        "        _, h_val = self.forward_propogation(x_validation)\n",
        "        validation_error_list.append(calc_total_error(h_val[-1], y_validation, self.error_calculation) / y_validation.size)\n",
        "        acc = self.calc_accuracy(x_train, y_train)\n",
        "        training_accuracy.append(acc)\n",
        "        validation_accuracy.append(self.calc_accuracy(x_validation, y_validation))\n",
        "        print(\"Completed epoch : {} \\t Error: {} \\t Accuracy: {}\".format(i+1, err, acc))\n",
        "    \n",
        "    if(self.optimization_algorithm == OptimizationAlgorithm.MOMENTUM_GD):\n",
        "      prev_moment_w, prev_moment_b = self.init_prev_moments()\n",
        "      for i in range(self.max_epoch):\n",
        "        err = 0\n",
        "        for j in range(no_of_batches+1):\n",
        "          begin = j * self.batch_size\n",
        "          end = begin + self.batch_size\n",
        "          if(end > self.data_size):\n",
        "            end = self.data_size\n",
        "          \n",
        "          a, h = self.forward_propogation(x_train[begin:end])\n",
        "          del_w, del_b = self.backward_propogation(a, h, y_train[begin:end])\n",
        "\n",
        "          prev_moment_w = self.momentum * prev_moment_w + (1 - self.momentum) * del_w\n",
        "          prev_moment_b = self.momentum * prev_moment_b + (1 - self.momentum) * del_b\n",
        "\n",
        "          self.weight = self.weight - (self.learning_rate * prev_moment_w) - (self.learning_rate * self.weight_decay_l2_reg * self.weight)\n",
        "          self.bias = self.bias - (self.learning_rate * prev_moment_b) - (self.learning_rate * self.weight_decay_l2_reg * self.bias)\n",
        "          err += calc_total_error(h[-1], y_train[begin:end], self.error_calculation)\n",
        "        err /= self.data_size\n",
        "        training_error_list.append(err)\n",
        "        _, h_val = self.forward_propogation(x_validation)\n",
        "        validation_error_list.append(calc_total_error(h_val[-1], y_validation, self.error_calculation) / y_validation.size)\n",
        "        acc = self.calc_accuracy(x_train, y_train)\n",
        "        training_accuracy.append(acc)\n",
        "        validation_accuracy.append(self.calc_accuracy(x_validation, y_validation))\n",
        "        print(\"Completed epoch : {} \\t Error: {} \\t Accuracy: {}\".format(i+1, err, acc))\n",
        "\n",
        "    if(self.optimization_algorithm == OptimizationAlgorithm.NAG):\n",
        "      prev_moment_w, prev_moment_b = self.init_prev_moments()\n",
        "      for i in range(self.max_epoch):\n",
        "        err = 0\n",
        "        for j in range(no_of_batches+1):\n",
        "          begin = j * self.batch_size\n",
        "          end = begin + self.batch_size\n",
        "          if(end > self.data_size):\n",
        "            end = self.data_size\n",
        "          \n",
        "          a, h = self.forward_propogation(x_train[begin:end])\n",
        "          w_lookahead = self.weight - self.momentum * prev_moment_w\n",
        "          del_w_lookahead, del_b = self.backward_propogation(a, h, y_train[begin:end],weight=w_lookahead, use_custom_weight_matrix=True)\n",
        "\n",
        "          prev_moment_w = self.momentum * prev_moment_w + (1 - self.momentum) * del_w_lookahead\n",
        "          prev_moment_b = self.momentum * prev_moment_b + (1 - self.momentum) * del_b\n",
        "\n",
        "          self.weight = self.weight - (self.learning_rate * prev_moment_w) - (self.learning_rate * self.weight_decay_l2_reg * self.weight)\n",
        "          self.bias = self.bias - (self.learning_rate * prev_moment_b) - (self.learning_rate * self.weight_decay_l2_reg * self.bias)\n",
        "          err += calc_total_error(h[-1], y_train[begin:end], self.error_calculation)\n",
        "        err /= self.data_size\n",
        "        training_error_list.append(err)\n",
        "        _, h_val = self.forward_propogation(x_validation)\n",
        "        validation_error_list.append(calc_total_error(h_val[-1], y_validation, self.error_calculation) / y_validation.size)\n",
        "        acc = self.calc_accuracy(x_train, y_train)\n",
        "        training_accuracy.append(acc)\n",
        "        validation_accuracy.append(self.calc_accuracy(x_validation, y_validation))\n",
        "        print(\"Completed epoch : {} \\t Error: {} \\t Accuracy: {}\".format(i+1, err, acc))\n",
        "\n",
        "    if(self.optimization_algorithm == OptimizationAlgorithm.RMS_PROP):\n",
        "      eta = 1e-7 #a very small constant \n",
        "      prev_update_w, prev_update_b = self.init_prev_moments()\n",
        "      for i in range(self.max_epoch):\n",
        "        err = 0\n",
        "        for j in range(no_of_batches+1):\n",
        "          begin = j * self.batch_size\n",
        "          end = begin + self.batch_size\n",
        "          if(end > self.data_size):\n",
        "            end = self.data_size\n",
        "          \n",
        "          a, h = self.forward_propogation(x_train[begin:end])\n",
        "          del_w, del_b = self.backward_propogation(a, h, y_train[begin:end])\n",
        "\n",
        "          prev_update_w = self.decay_rate_for_update * prev_update_w + (1 - self.decay_rate_for_update) * np.square(del_w)\n",
        "          prev_update_b = self.decay_rate_for_update * prev_update_b + (1 - self.decay_rate_for_update) * np.square(del_b)\n",
        "\n",
        "          new_lr_w = self.learning_rate / (prev_update_w**0.5 + eta)\n",
        "          new_lr_b = self.learning_rate / (prev_update_b**0.5 + eta)\n",
        "\n",
        "          self.weight = self.weight - (new_lr_w * del_w) - (self.learning_rate * self.weight_decay_l2_reg * self.weight)\n",
        "          self.bias = self.bias - (new_lr_b * del_b) - (self.learning_rate * self.weight_decay_l2_reg * self.bias)\n",
        "\n",
        "          err += calc_total_error(h[-1], y_train[begin:end], self.error_calculation)\n",
        "        err /= self.data_size\n",
        "        training_error_list.append(err)\n",
        "        _, h_val = self.forward_propogation(x_validation)\n",
        "        validation_error_list.append(calc_total_error(h_val[-1], y_validation, self.error_calculation) / y_validation.size)\n",
        "        acc = self.calc_accuracy(x_train, y_train)\n",
        "        training_accuracy.append(acc)\n",
        "        validation_accuracy.append(self.calc_accuracy(x_validation, y_validation))\n",
        "        print(\"Completed epoch : {} \\t Error: {} \\t Accuracy: {}\".format(i+1, err, acc))\n",
        "    \n",
        "    if(self.optimization_algorithm == OptimizationAlgorithm.ADAM):\n",
        "      eta = 1e-8 #a very small constant \n",
        "      prev_moment_w, prev_moment_b = self.init_prev_moments()\n",
        "      prev_update_w, prev_update_b = prev_moment_w.copy(), prev_moment_b.copy()\n",
        "      for i in range(self.max_epoch):\n",
        "        err = 0\n",
        "        for j in range(no_of_batches+1):\n",
        "          begin = j * self.batch_size\n",
        "          end = begin + self.batch_size\n",
        "          if(end > self.data_size):\n",
        "            end = self.data_size\n",
        "          \n",
        "          a, h = self.forward_propogation(x_train[begin:end])\n",
        "          del_w, del_b = self.backward_propogation(a, h, y_train[begin:end])\n",
        "\n",
        "          prev_moment_w = self.momentum * prev_moment_w + (1 - self.momentum) * del_w\n",
        "          prev_w_hat = prev_moment_w / (1 - self.momentum)\n",
        "          prev_moment_b = self.momentum * prev_moment_b + (1 - self.momentum) * del_b\n",
        "          prev_b_hat = prev_moment_b / (1 - self.momentum)\n",
        "\n",
        "          prev_update_w = self.momentum * prev_update_w + (1 - self.momentum) * np.square(del_w)\n",
        "          prev_update_m_hat = prev_update_w / (1 - self.momentum)\n",
        "          prev_update_b = self.momentum * prev_update_b + (1 - self.momentum) * np.square(del_b)\n",
        "          prev_update_b_hat = prev_update_b / (1 - self.momentum)\n",
        "\n",
        "          new_lr_w = self.learning_rate / (prev_update_m_hat**0.5 + eta)\n",
        "          new_lr_b = self.learning_rate / (prev_update_b_hat**0.5 + eta)\n",
        "\n",
        "          self.weight = self.weight - (new_lr_w * prev_w_hat) - (self.learning_rate * self.weight_decay_l2_reg * self.weight)\n",
        "          self.bias = self.bias - (new_lr_b * prev_b_hat) - (self.learning_rate * self.weight_decay_l2_reg * self.bias)\n",
        "          err += calc_total_error(h[-1], y_train[begin:end], self.error_calculation)\n",
        "        err /= self.data_size\n",
        "        training_error_list.append(err)\n",
        "        _, h_val = self.forward_propogation(x_validation)\n",
        "        validation_error_list.append(calc_total_error(h_val[-1], y_validation, self.error_calculation) / y_validation.size)\n",
        "        acc = self.calc_accuracy(x_train, y_train)\n",
        "        training_accuracy.append(acc)\n",
        "        validation_accuracy.append(self.calc_accuracy(x_validation, y_validation))\n",
        "        print(\"Completed epoch : {} \\t Error: {} \\t Accuracy: {}\".format(i+1, err, acc))\n",
        "      \n",
        "    if(self.optimization_algorithm == OptimizationAlgorithm.NADAM):\n",
        "      eta = 1e-8 #a very small constant \n",
        "      prev_moment_w, prev_moment_b = self.init_prev_moments()\n",
        "      prev_update_w, prev_update_b = prev_moment_w.copy(), prev_moment_b.copy()\n",
        "\n",
        "      for i in range(self.max_epoch):\n",
        "        err = 0\n",
        "        for j in range(no_of_batches+1):\n",
        "          begin = j * self.batch_size\n",
        "          end = begin + self.batch_size\n",
        "          if(end > self.data_size):\n",
        "            end = self.data_size\n",
        "          \n",
        "          a, h = self.forward_propogation(x_train[begin:end])\n",
        "          del_w, del_b = self.backward_propogation(a, h, y_train[begin:end])\n",
        "\n",
        "          prev_moment_w = self.momentum * prev_moment_w + (1 - self.momentum) * del_w\n",
        "          prev_w_hat = prev_moment_w / (1 - self.momentum)\n",
        "          prev_moment_b = self.momentum * prev_moment_b + (1 - self.momentum) * del_b\n",
        "          prev_b_hat = prev_moment_b / (1 - self.momentum)\n",
        "\n",
        "          prev_update_w = self.decay_rate_for_update * prev_update_w + (1 - self.decay_rate_for_update) * np.square(del_w)\n",
        "          prev_update_m_hat = prev_update_w / (1 - self.decay_rate_for_update)\n",
        "          prev_update_b = self.decay_rate_for_update * prev_update_b + (1 - self.decay_rate_for_update) * np.square(del_b)\n",
        "          prev_update_b_hat = prev_update_b / (1 - self.decay_rate_for_update)\n",
        "\n",
        "          new_lr_w = self.learning_rate / (prev_update_m_hat**0.5 + eta)\n",
        "          new_lr_b = self.learning_rate / (prev_update_b_hat**0.5 + eta)\n",
        "\n",
        "          self.weight = self.weight - (new_lr_w * (self.momentum * prev_w_hat + (((1/self.momentum) * del_w) / (1-self.momentum)))) - (self.learning_rate * self.weight_decay_l2_reg * self.weight)\n",
        "          self.bias = self.bias - (new_lr_b * (self.momentum * prev_b_hat + (((1/self.momentum) * del_b) / (1-self.momentum)))) - (self.learning_rate * self.weight_decay_l2_reg * self.bias)\n",
        "          err += calc_total_error(h[-1], y_train[begin:end], self.error_calculation)\n",
        "        err /= self.data_size\n",
        "        training_error_list.append(err)\n",
        "        _, h_val = self.forward_propogation(x_validation)\n",
        "        validation_error_list.append(calc_total_error(h_val[-1], y_validation, self.error_calculation) / y_validation.size)\n",
        "        acc = self.calc_accuracy(x_train, y_train)\n",
        "        training_accuracy.append(acc)\n",
        "        validation_accuracy.append(self.calc_accuracy(x_validation, y_validation))\n",
        "        print(\"Completed epoch : {} \\t Error: {} \\t Accuracy: {}\".format(i+1, err, acc))\n",
        "\n",
        "    return training_error_list, validation_error_list, training_accuracy, validation_accuracy\n",
        "\n",
        "        \n",
        "\n",
        "  def calc_accuracy(self, x_test, y_test):\n",
        "    _ , h = self.forward_propogation(x_test)\n",
        "    predicted_distribution = h[-1]\n",
        "    return np.sum(np.argmax(predicted_distribution, axis=1) == y_test) / y_test.size"
      ]
    },
    {
      "cell_type": "markdown",
      "metadata": {
        "id": "AZ35jZd2e7Jr"
      },
      "source": [
        "# Models"
      ]
    },
    {
      "cell_type": "code",
      "execution_count": null,
      "metadata": {
        "colab": {
          "base_uri": "https://localhost:8080/",
          "height": 382
        },
        "id": "UMwVEtk2rXhA",
        "outputId": "cd44de33-dcfc-4299-f3d8-d065a88e6bcd"
      },
      "outputs": [
        {
          "output_type": "stream",
          "name": "stdout",
          "text": [
            "Create sweep with ID: qgsjjk4b\n",
            "Sweep URL: https://wandb.ai/madhes23/CS6910_Assignment-1/sweeps/qgsjjk4b\n"
          ]
        },
        {
          "output_type": "stream",
          "name": "stderr",
          "text": [
            "\u001b[34m\u001b[1mwandb\u001b[0m: Agent Starting Run: qe0ivay0 with config:\n",
            "\u001b[34m\u001b[1mwandb\u001b[0m: \tactivation_function: tanh\n",
            "\u001b[34m\u001b[1mwandb\u001b[0m: \tbatch_size: 64\n",
            "\u001b[34m\u001b[1mwandb\u001b[0m: \thidden_layers: 6\n",
            "\u001b[34m\u001b[1mwandb\u001b[0m: \tinitialization_method: uniform_rand\n",
            "\u001b[34m\u001b[1mwandb\u001b[0m: \tlearning_rate: 0.001\n",
            "\u001b[34m\u001b[1mwandb\u001b[0m: \tmax_epoch: 15\n",
            "\u001b[34m\u001b[1mwandb\u001b[0m: \tneurons_per_hidden_layer: 128\n",
            "\u001b[34m\u001b[1mwandb\u001b[0m: \toptimization_algorithm: rms\n",
            "\u001b[34m\u001b[1mwandb\u001b[0m: \tweight_decay: 0.05\n"
          ]
        },
        {
          "output_type": "display_data",
          "data": {
            "text/plain": [
              "<IPython.core.display.HTML object>"
            ],
            "text/html": [
              "Tracking run with wandb version 0.13.11"
            ]
          },
          "metadata": {}
        },
        {
          "output_type": "display_data",
          "data": {
            "text/plain": [
              "<IPython.core.display.HTML object>"
            ],
            "text/html": [
              "Run data is saved locally in <code>/content/wandb/run-20230310_132953-qe0ivay0</code>"
            ]
          },
          "metadata": {}
        },
        {
          "output_type": "display_data",
          "data": {
            "text/plain": [
              "<IPython.core.display.HTML object>"
            ],
            "text/html": [
              "Syncing run <strong><a href='https://wandb.ai/madhes23/CS6910_Assignment-1/runs/qe0ivay0' target=\"_blank\">polished-sweep-1</a></strong> to <a href='https://wandb.ai/madhes23/CS6910_Assignment-1' target=\"_blank\">Weights & Biases</a> (<a href='https://wandb.me/run' target=\"_blank\">docs</a>)<br/>Sweep page: <a href='https://wandb.ai/madhes23/CS6910_Assignment-1/sweeps/qgsjjk4b' target=\"_blank\">https://wandb.ai/madhes23/CS6910_Assignment-1/sweeps/qgsjjk4b</a>"
            ]
          },
          "metadata": {}
        },
        {
          "output_type": "display_data",
          "data": {
            "text/plain": [
              "<IPython.core.display.HTML object>"
            ],
            "text/html": [
              " View project at <a href='https://wandb.ai/madhes23/CS6910_Assignment-1' target=\"_blank\">https://wandb.ai/madhes23/CS6910_Assignment-1</a>"
            ]
          },
          "metadata": {}
        },
        {
          "output_type": "display_data",
          "data": {
            "text/plain": [
              "<IPython.core.display.HTML object>"
            ],
            "text/html": [
              " View sweep at <a href='https://wandb.ai/madhes23/CS6910_Assignment-1/sweeps/qgsjjk4b' target=\"_blank\">https://wandb.ai/madhes23/CS6910_Assignment-1/sweeps/qgsjjk4b</a>"
            ]
          },
          "metadata": {}
        },
        {
          "output_type": "display_data",
          "data": {
            "text/plain": [
              "<IPython.core.display.HTML object>"
            ],
            "text/html": [
              " View run at <a href='https://wandb.ai/madhes23/CS6910_Assignment-1/runs/qe0ivay0' target=\"_blank\">https://wandb.ai/madhes23/CS6910_Assignment-1/runs/qe0ivay0</a>"
            ]
          },
          "metadata": {}
        },
        {
          "output_type": "stream",
          "name": "stdout",
          "text": [
            "Completed epoch : 1 \t Error: 2.4065552720286782 \t Accuracy: 0.10164583333333334\n",
            "Completed epoch : 2 \t Error: 2.352223190328669 \t Accuracy: 0.10041666666666667\n"
          ]
        }
      ],
      "source": [
        "#@title Sweep {vertical-output:true}\n",
        "sweep_config = {\n",
        "    \"method\": 'random',\n",
        "    \"metric\": {\n",
        "    'name': 'accuracy',\n",
        "    'goal': 'maximize'\n",
        "    },\n",
        "    'parameters' :{\n",
        "        \"hidden_layers\": {\"values\":[3,4,5,6]},\n",
        "        \"neurons_per_hidden_layer\": {\"values\": [32,64,128]},\n",
        "        \"learning_rate\": {\"values\":[1e-3,1e-4]},\n",
        "        \"max_epoch\": {\"values\":[5,10,15]},\n",
        "        \"batch_size\": {\"values\":[16,32,64]},  #todo: check if these values can take enum\n",
        "        \"activation_function\" : {\"values\" : [\"sigmoid\", \"relu\", \"tanh\"]},\n",
        "        \"optimization_algorithm\": {\"values\":[\"mini_batch\", \"momentum_gd\", \"nag\", \"rms\", \"adam\", \"nadam\"]},\n",
        "        \"initialization_method\" : {\"values\" : [\"uniform_rand\", \"uniform_xav\"]},\n",
        "        \"weight_decay\" : {\"values\":[0, 0.0005, 0.05, 0.5]}\n",
        "    }\n",
        "}\n",
        "\n",
        "def tune_nn():\n",
        "    \"\"\"A utility function for performing the sweep\"\"\"\n",
        "    wandb.init()\n",
        "    name = wandb.config.optimization_algorithm+str(np.random.randint(10, size=1)[0])\n",
        "    wandb.run.name = name\n",
        "    no_of_hidden = wandb.config.hidden_layers \n",
        "    layer_size = wandb.config.neurons_per_hidden_layer\n",
        "    hidden_layer = [layer_size] * no_of_hidden\n",
        "\n",
        "    model = Classification(_no_of_class=10,\n",
        "                           _hidden_layer = hidden_layer,\n",
        "                           _input_layer = 784,\n",
        "                           _max_epoch = wandb.config.max_epoch,\n",
        "                           _activation_fun = ActivationFunction(wandb.config.activation_function),\n",
        "                           _initialization_method = InitializationMethod(wandb.config.initialization_method),\n",
        "                           _learning_rate = wandb.config.learning_rate,\n",
        "                           _batch_size = wandb.config.batch_size,\n",
        "                           _optimization_algorithm = OptimizationAlgorithm(wandb.config.optimization_algorithm),\n",
        "                           _weight_decay_l2_reg = wandb.config.weight_decay)\n",
        "\n",
        "    model.init_weight_and_bias()\n",
        "    tr_err, val_err, tr_acc, val_acc = model.fit(x_train, y_train, x_validation, y_validation)\n",
        "    # accuracy = model.calc_accuracy(x_test, y_test)\n",
        "\n",
        "    for i in range(len(tr_err)):\n",
        "      wandb.log({\"tr_err\":tr_err[i],\n",
        "                 \"tr_acc\" : tr_acc[i],\n",
        "                 \"val_err\" : val_err[i],\n",
        "                 \"val_acc\" : val_acc[i],\n",
        "                 \"epoch\":(i+1)})\n",
        "      \n",
        "    wandb.log({\"accuracy\": val_acc[-1]})\n",
        "        \n",
        "\n",
        "sweep_id=wandb.sweep(sweep_config,project=\"CS6910_Assignment-1\")\n",
        "wandb.agent(sweep_id,function=tune_nn,count=10)"
      ]
    },
    {
      "cell_type": "code",
      "execution_count": null,
      "metadata": {
        "colab": {
          "base_uri": "https://localhost:8080/"
        },
        "id": "1cN7UBCKw4r7",
        "outputId": "0aa39b93-3646-4937-f030-e51a7c2ff8d1"
      },
      "outputs": [
        {
          "name": "stdout",
          "output_type": "stream",
          "text": [
            "[64, 64, 64, 64]\n",
            "Completed epoch : 1 \t Error: 2.3324575206176985 \t Accuracy: 0.10083333333333333\n",
            "Completed epoch : 2 \t Error: 2.302613882849023 \t Accuracy: 0.10083333333333333\n",
            "Completed epoch : 3 \t Error: 2.3026095453659683 \t Accuracy: 0.10083333333333333\n",
            "Completed epoch : 4 \t Error: 2.3026078910242624 \t Accuracy: 0.10083333333333333\n",
            "Completed epoch : 5 \t Error: 2.302607260679253 \t Accuracy: 0.10083333333333333\n",
            "Completed epoch : 6 \t Error: 2.302607021269706 \t Accuracy: 0.10083333333333333\n",
            "Completed epoch : 7 \t Error: 2.3026069309629533 \t Accuracy: 0.10083333333333333\n",
            "Completed epoch : 8 \t Error: 2.302606897357016 \t Accuracy: 0.10083333333333333\n",
            "Completed epoch : 9 \t Error: 2.302606885178098 \t Accuracy: 0.10083333333333333\n",
            "Completed epoch : 10 \t Error: 2.3026068809963767 \t Accuracy: 0.10083333333333333\n"
          ]
        }
      ],
      "source": [
        "no_of_hidden = 4\n",
        "layer_size = 64\n",
        "hidden_layer = [layer_size] * no_of_hidden\n",
        "print(hidden_layer)\n",
        "model = Classification(_no_of_class=10,\n",
        "                        _hidden_layer = hidden_layer,\n",
        "                        _input_layer = 784,\n",
        "                        _max_epoch = 10,\n",
        "                        _activation_fun = ActivationFunction(\"relu\"),\n",
        "                        _initialization_method = InitializationMethod(\"uniform_xav\"),\n",
        "                        _learning_rate = 0.0001,\n",
        "                        _batch_size = 64,\n",
        "                        _optimization_algorithm = OptimizationAlgorithm(\"nag\"))\n",
        "model.init_weight_and_bias()\n",
        "tr_err, val_err, tr_acc, val_acc = model.fit(x_train, y_train, x_validation, y_validation)"
      ]
    },
    {
      "cell_type": "code",
      "execution_count": null,
      "metadata": {
        "colab": {
          "base_uri": "https://localhost:8080/",
          "height": 455
        },
        "id": "ooea0AoWB657",
        "outputId": "58a2340d-8b45-4122-d8c3-3dca7491ca28"
      },
      "outputs": [
        {
          "name": "stdout",
          "output_type": "stream",
          "text": [
            "[64, 64, 64, 64]\n",
            "Completed epoch : 1 \t Error: 0.9486907707283349 \t Accuracy: 0.7903958333333333\n",
            "Completed epoch : 2 \t Error: 0.5036122304290188 \t Accuracy: 0.8411875\n",
            "Completed epoch : 3 \t Error: 0.43469063143773456 \t Accuracy: 0.8526666666666667\n",
            "Completed epoch : 4 \t Error: 0.39983682366396933 \t Accuracy: 0.8598541666666667\n",
            "Completed epoch : 5 \t Error: 0.37704989073770306 \t Accuracy: 0.8661875\n",
            "Completed epoch : 6 \t Error: 0.35988091912424747 \t Accuracy: 0.8724375\n",
            "Completed epoch : 7 \t Error: 0.34581784914271985 \t Accuracy: 0.8783125\n",
            "Completed epoch : 8 \t Error: 0.33401404451266875 \t Accuracy: 0.8836458333333334\n",
            "Completed epoch : 9 \t Error: 0.32391985205493723 \t Accuracy: 0.8867083333333333\n",
            "Completed epoch : 10 \t Error: 0.31505595275898374 \t Accuracy: 0.889875\n"
          ]
        },
        {
          "data": {
            "image/png": "[encoded data removed]",
            "text/plain": [
              "<Figure size 640x480 with 2 Axes>"
            ]
          },
          "metadata": {},
          "output_type": "display_data"
        }
      ],
      "source": [
        "#@title Sigmoid Mini GD Large data{vertical-output:true}\n",
        "print(hidden_layer)\n",
        "model = Classification(_no_of_class=10, \n",
        "                       _hidden_layer=hidden_layer, \n",
        "                       _input_layer=784,\n",
        "                       _initialization_method=InitializationMethod(\"uniform_xav\"),\n",
        "                       _learning_rate=0.001,\n",
        "                       _activation_fun=ActivationFunction(\"tanh\"), \n",
        "                       _optimization_algorithm=OptimizationAlgorithm(\"momentum_gd\"),\n",
        "                       _batch_size = 32,\n",
        "                       _max_epoch=10)\n",
        "\n",
        "model.init_weight_and_bias()\n",
        "tr_err, val_err, tr_acc, val_acc = model.fit(x_train, y_train, x_validation, y_validation)\n",
        "plot_graphs(tr_err, val_err, tr_acc, val_acc)\n"
      ]
    },
    {
      "cell_type": "code",
      "execution_count": null,
      "metadata": {
        "id": "j55ltnkGtYx9",
        "outputId": "3572b35c-ec42-4ba9-faa0-2b5c6abb31b3"
      },
      "outputs": [
        {
          "name": "stdout",
          "output_type": "stream",
          "text": [
            "[64, 64, 64, 64]\n",
            "Completed epoch : 1 \t Error: 1.1723902628756502 \t Accuracy: 0.6584375\n",
            "Completed epoch : 2 \t Error: 0.7516594362786209 \t Accuracy: 0.7416041666666666\n",
            "Completed epoch : 3 \t Error: 0.6055941774935134 \t Accuracy: 0.8089375\n",
            "Completed epoch : 4 \t Error: 0.5604056802814299 \t Accuracy: 0.8250208333333333\n",
            "Completed epoch : 5 \t Error: 0.5434083158575838 \t Accuracy: 0.8298541666666667\n",
            "Completed epoch : 6 \t Error: 0.5338994422580363 \t Accuracy: 0.8321041666666666\n",
            "Completed epoch : 7 \t Error: 0.5277323038413141 \t Accuracy: 0.8322708333333333\n",
            "Completed epoch : 8 \t Error: 0.5233223431117718 \t Accuracy: 0.8332708333333333\n",
            "Completed epoch : 9 \t Error: 0.5199112615277439 \t Accuracy: 0.8341041666666666\n",
            "Completed epoch : 10 \t Error: 0.517158322523028 \t Accuracy: 0.8346041666666667\n"
          ]
        },
        {
          "data": {
            "image/png": "[encoded data removed]",
            "text/plain": [
              "<Figure size 640x480 with 2 Axes>"
            ]
          },
          "metadata": {},
          "output_type": "display_data"
        }
      ],
      "source": [
        "print(hidden_layer)\n",
        "model = Classification(_no_of_class=10, \n",
        "                       _hidden_layer=hidden_layer, \n",
        "                       _input_layer=784,\n",
        "                       _initialization_method=InitializationMethod(\"uniform_xav\"),\n",
        "                       _learning_rate=0.001,\n",
        "                       _activation_fun=ActivationFunction(\"tanh\"), \n",
        "                       _optimization_algorithm=OptimizationAlgorithm(\"momentum_gd\"),\n",
        "                       _batch_size = 32,\n",
        "                       _max_epoch=10,\n",
        "                       _weight_decay_l2_reg = 0.5)\n",
        "\n",
        "model.init_weight_and_bias()\n",
        "tr_err, val_err, tr_acc, val_acc = model.fit(x_train, y_train, x_validation, y_validation)\n",
        "plot_graphs(tr_err, val_err, tr_acc, val_acc)"
      ]
    },
    {
      "cell_type": "code",
      "execution_count": null,
      "metadata": {
        "colab": {
          "base_uri": "https://localhost:8080/",
          "height": 432
        },
        "id": "ll89Ncjdy9kK",
        "outputId": "f0f63e7c-d94a-4d46-86b4-51866f6966f2"
      },
      "outputs": [
        {
          "name": "stdout",
          "output_type": "stream",
          "text": [
            "[32, 32]\n",
            "no_of_class 10\n",
            "hidden_lyaer [32, 32]\n",
            "activ  ActivationFunction.TAN_H\n",
            "optimi  OutputFunction.SOFTMAX\n"
          ]
        },
        {
          "ename": "IndexError",
          "evalue": "ignored",
          "output_type": "error",
          "traceback": [
            "\u001b[0;31m---------------------------------------------------------------------------\u001b[0m",
            "\u001b[0;31mIndexError\u001b[0m                                Traceback (most recent call last)",
            "\u001b[0;32m<ipython-input-62-2cc151a9640c>\u001b[0m in \u001b[0;36m<module>\u001b[0;34m\u001b[0m\n\u001b[1;32m      9\u001b[0m                         \u001b[0m_batch_size\u001b[0m \u001b[0;34m=\u001b[0m \u001b[0;36m32\u001b[0m\u001b[0;34m,\u001b[0m\u001b[0;34m\u001b[0m\u001b[0;34m\u001b[0m\u001b[0m\n\u001b[1;32m     10\u001b[0m                         _optimization_algorithm = OptimizationAlgorithm.ADAM)\n\u001b[0;32m---> 11\u001b[0;31m \u001b[0mmodel1\u001b[0m\u001b[0;34m.\u001b[0m\u001b[0mfit\u001b[0m\u001b[0;34m(\u001b[0m\u001b[0mx_train\u001b[0m\u001b[0;34m,\u001b[0m \u001b[0my_train\u001b[0m\u001b[0;34m,\u001b[0m \u001b[0mx_validation\u001b[0m\u001b[0;34m,\u001b[0m \u001b[0my_validation\u001b[0m\u001b[0;34m)\u001b[0m\u001b[0;34m\u001b[0m\u001b[0;34m\u001b[0m\u001b[0m\n\u001b[0m",
            "\u001b[0;32m<ipython-input-45-36ff8f950e74>\u001b[0m in \u001b[0;36mfit\u001b[0;34m(self, x_train, y_train, x_validation, y_validation)\u001b[0m\n\u001b[1;32m    329\u001b[0m             \u001b[0mend\u001b[0m \u001b[0;34m=\u001b[0m \u001b[0mself\u001b[0m\u001b[0;34m.\u001b[0m\u001b[0mdata_size\u001b[0m\u001b[0;34m\u001b[0m\u001b[0;34m\u001b[0m\u001b[0m\n\u001b[1;32m    330\u001b[0m \u001b[0;34m\u001b[0m\u001b[0m\n\u001b[0;32m--> 331\u001b[0;31m           \u001b[0ma\u001b[0m\u001b[0;34m,\u001b[0m \u001b[0mh\u001b[0m \u001b[0;34m=\u001b[0m \u001b[0mself\u001b[0m\u001b[0;34m.\u001b[0m\u001b[0mforward_propogation\u001b[0m\u001b[0;34m(\u001b[0m\u001b[0mx_train\u001b[0m\u001b[0;34m[\u001b[0m\u001b[0mbegin\u001b[0m\u001b[0;34m:\u001b[0m\u001b[0mend\u001b[0m\u001b[0;34m]\u001b[0m\u001b[0;34m)\u001b[0m\u001b[0;34m\u001b[0m\u001b[0;34m\u001b[0m\u001b[0m\n\u001b[0m\u001b[1;32m    332\u001b[0m           \u001b[0mdel_w\u001b[0m\u001b[0;34m,\u001b[0m \u001b[0mdel_b\u001b[0m \u001b[0;34m=\u001b[0m \u001b[0mself\u001b[0m\u001b[0;34m.\u001b[0m\u001b[0mbackward_propogation\u001b[0m\u001b[0;34m(\u001b[0m\u001b[0ma\u001b[0m\u001b[0;34m,\u001b[0m \u001b[0mh\u001b[0m\u001b[0;34m,\u001b[0m \u001b[0my_train\u001b[0m\u001b[0;34m[\u001b[0m\u001b[0mbegin\u001b[0m\u001b[0;34m:\u001b[0m\u001b[0mend\u001b[0m\u001b[0;34m]\u001b[0m\u001b[0;34m)\u001b[0m\u001b[0;34m\u001b[0m\u001b[0;34m\u001b[0m\u001b[0m\n\u001b[1;32m    333\u001b[0m \u001b[0;34m\u001b[0m\u001b[0m\n",
            "\u001b[0;32m<ipython-input-45-36ff8f950e74>\u001b[0m in \u001b[0;36mforward_propogation\u001b[0;34m(self, input_images)\u001b[0m\n\u001b[1;32m     90\u001b[0m \u001b[0;34m\u001b[0m\u001b[0m\n\u001b[1;32m     91\u001b[0m     \u001b[0;32mfor\u001b[0m \u001b[0mi\u001b[0m \u001b[0;32min\u001b[0m \u001b[0mrange\u001b[0m\u001b[0;34m(\u001b[0m\u001b[0;36m1\u001b[0m\u001b[0;34m,\u001b[0m \u001b[0mself\u001b[0m\u001b[0;34m.\u001b[0m\u001b[0mL\u001b[0m\u001b[0;34m)\u001b[0m\u001b[0;34m:\u001b[0m\u001b[0;34m\u001b[0m\u001b[0;34m\u001b[0m\u001b[0m\n\u001b[0;32m---> 92\u001b[0;31m       \u001b[0ma\u001b[0m\u001b[0;34m.\u001b[0m\u001b[0mappend\u001b[0m\u001b[0;34m(\u001b[0m\u001b[0mself\u001b[0m\u001b[0;34m.\u001b[0m\u001b[0mbias\u001b[0m\u001b[0;34m[\u001b[0m\u001b[0mi\u001b[0m\u001b[0;34m]\u001b[0m \u001b[0;34m+\u001b[0m \u001b[0mnp\u001b[0m\u001b[0;34m.\u001b[0m\u001b[0mdot\u001b[0m\u001b[0;34m(\u001b[0m\u001b[0mh\u001b[0m\u001b[0;34m[\u001b[0m\u001b[0mi\u001b[0m\u001b[0;34m-\u001b[0m\u001b[0;36m1\u001b[0m\u001b[0;34m]\u001b[0m\u001b[0;34m,\u001b[0m \u001b[0mself\u001b[0m\u001b[0;34m.\u001b[0m\u001b[0mweight\u001b[0m\u001b[0;34m[\u001b[0m\u001b[0mi\u001b[0m\u001b[0;34m]\u001b[0m\u001b[0;34m.\u001b[0m\u001b[0mT\u001b[0m\u001b[0;34m)\u001b[0m\u001b[0;34m)\u001b[0m\u001b[0;34m\u001b[0m\u001b[0;34m\u001b[0m\u001b[0m\n\u001b[0m\u001b[1;32m     93\u001b[0m       \u001b[0mh\u001b[0m\u001b[0;34m.\u001b[0m\u001b[0mappend\u001b[0m\u001b[0;34m(\u001b[0m\u001b[0mactivation_function\u001b[0m\u001b[0;34m(\u001b[0m\u001b[0ma\u001b[0m\u001b[0;34m[\u001b[0m\u001b[0mi\u001b[0m\u001b[0;34m]\u001b[0m\u001b[0;34m,\u001b[0m \u001b[0mself\u001b[0m\u001b[0;34m.\u001b[0m\u001b[0mactivation_func\u001b[0m\u001b[0;34m)\u001b[0m\u001b[0;34m)\u001b[0m\u001b[0;34m\u001b[0m\u001b[0;34m\u001b[0m\u001b[0m\n\u001b[1;32m     94\u001b[0m \u001b[0;34m\u001b[0m\u001b[0m\n",
            "\u001b[0;31mIndexError\u001b[0m: list index out of range"
          ]
        }
      ],
      "source": [
        "# print(hidden_layer)\n",
        "model1 = Classification(_no_of_class=10,\n",
        "                        _hidden_layer = [32, 32],\n",
        "                        _input_layer = 784,\n",
        "                        _max_epoch = 5,\n",
        "                        _activation_fun = ActivationFunction.TAN_H,\n",
        "                        _initialization_method = InitializationMethod.UNIFORM_XAVIER,\n",
        "                        _learning_rate = 0.001,\n",
        "                        _batch_size = 32,\n",
        "                        _optimization_algorithm = OptimizationAlgorithm.ADAM)\n",
        "model1.fit(x_train, y_train, x_validation, y_validation)"
      ]
    },
    {
      "cell_type": "code",
      "execution_count": null,
      "metadata": {
        "colab": {
          "base_uri": "https://localhost:8080/",
          "height": 217
        },
        "id": "WTEDUkt2Ip12",
        "outputId": "0eff985c-ab92-4cf3-c0bc-f858542bd252"
      },
      "outputs": [
        {
          "ename": "TypeError",
          "evalue": "ignored",
          "output_type": "error",
          "traceback": [
            "\u001b[0;31m---------------------------------------------------------------------------\u001b[0m",
            "\u001b[0;31mTypeError\u001b[0m                                 Traceback (most recent call last)",
            "\u001b[0;32m<ipython-input-63-8b55676de98a>\u001b[0m in \u001b[0;36m<module>\u001b[0;34m\u001b[0m\n\u001b[1;32m      9\u001b[0m                        _max_epoch=800)\n\u001b[1;32m     10\u001b[0m \u001b[0;34m\u001b[0m\u001b[0m\n\u001b[0;32m---> 11\u001b[0;31m \u001b[0merror_list\u001b[0m \u001b[0;34m=\u001b[0m \u001b[0mmodel1\u001b[0m\u001b[0;34m.\u001b[0m\u001b[0mfit\u001b[0m\u001b[0;34m(\u001b[0m\u001b[0mx_train\u001b[0m\u001b[0;34m[\u001b[0m\u001b[0;34m:\u001b[0m\u001b[0;36m10\u001b[0m\u001b[0;34m]\u001b[0m\u001b[0;34m,\u001b[0m \u001b[0my_train\u001b[0m\u001b[0;34m[\u001b[0m\u001b[0;34m:\u001b[0m\u001b[0;36m10\u001b[0m\u001b[0;34m]\u001b[0m\u001b[0;34m)\u001b[0m\u001b[0;34m\u001b[0m\u001b[0;34m\u001b[0m\u001b[0m\n\u001b[0m\u001b[1;32m     12\u001b[0m \u001b[0mmodel1\u001b[0m\u001b[0;34m.\u001b[0m\u001b[0mcalc_accuracy\u001b[0m\u001b[0;34m(\u001b[0m\u001b[0mx_test\u001b[0m\u001b[0;34m,\u001b[0m \u001b[0my_test\u001b[0m\u001b[0;34m)\u001b[0m\u001b[0;34m\u001b[0m\u001b[0;34m\u001b[0m\u001b[0m\n",
            "\u001b[0;31mTypeError\u001b[0m: fit() missing 2 required positional arguments: 'x_validation' and 'y_validation'"
          ]
        }
      ],
      "source": [
        "#@title ReLU GD Small Data { vertical-output: true}\n",
        "model1 = Classification(_no_of_class=10, \n",
        "                       _hidden_layer=[64, 64, 64], \n",
        "                       _input_layer=784,\n",
        "                       _initialization_method=InitializationMethod.UNIFORM_XAVIER,\n",
        "                       _learning_rate=0.01,\n",
        "                       _activation_fun=ActivationFunction.TAN_H, \n",
        "                       _optimization_algorithm=OptimizationAlgorithm.GD,\n",
        "                       _max_epoch=800)\n",
        "\n",
        "error_list = model1.fit(x_train[:10], y_train[:10])\n",
        "model1.calc_accuracy(x_test, y_test)"
      ]
    },
    {
      "cell_type": "code",
      "execution_count": null,
      "metadata": {
        "colab": {
          "base_uri": "https://localhost:8080/"
        },
        "id": "-Y5YRYIYsYcl",
        "outputId": "59410252-57f0-4bf5-abb8-b8d8e8926a53"
      },
      "outputs": [
        {
          "data": {
            "text/plain": [
              "([2.3698478633152167, 2.303304687706764],\n",
              " [2.3034950679616024, 2.3030238793530735],\n",
              " [0.09952083333333334, 0.10095833333333333],\n",
              " [0.102, 0.09616666666666666])"
            ]
          },
          "execution_count": 32,
          "metadata": {},
          "output_type": "execute_result"
        }
      ],
      "source": [
        "tr_err, val_err, tr_acc, val_acc"
      ]
    },
    {
      "cell_type": "code",
      "execution_count": null,
      "metadata": {
        "cellView": "form",
        "id": "9XXZ0fZmEUO6"
      },
      "outputs": [],
      "source": [
        "#@title Sigmoid GD Small data{ vertical-output: true}\n",
        "model1 = Classification(_no_of_class=10, \n",
        "                       _hidden_layer=[64, 64], \n",
        "                       _input_layer=784,\n",
        "                       _initialization_method=InitializationMethod.UNIFORM_XAVIER,\n",
        "                       _learning_rate=0.01,\n",
        "                       _activation_fun=ActivationFunction.SIGMOID, \n",
        "                       _optimization_algorithm=OptimizationAlgorithm.GD,\n",
        "                       _max_epoch=400)\n",
        "model1.init_weight_and_bias()\n",
        "\n",
        "model1.fit(x_train[:10], y_train[:10])"
      ]
    },
    {
      "cell_type": "code",
      "execution_count": null,
      "metadata": {
        "cellView": "form",
        "id": "h0_GdmG_Jy_l"
      },
      "outputs": [],
      "source": [
        "#@title Sigmoid Momentum Whole data{vertical-output:true}\n",
        "model3 = Classification(_no_of_class=10, \n",
        "                       _hidden_layer=[32, 32], \n",
        "                       _input_layer=784,\n",
        "                       _initialization_method=InitializationMethod.UNIFORM_XAVIER,\n",
        "                       _learning_rate=0.01,\n",
        "                       _activation_fun=ActivationFunction.SIGMOID, \n",
        "                       _optimization_algorithm=OptimizationAlgorithm.MOMENTUM_GD,\n",
        "                       _batch_size = 50,\n",
        "                       _momentum = 0.9,\n",
        "                       _max_epoch=80)\n",
        "\n",
        "model3.init_weight_and_bias()\n",
        "\n",
        "model3.fit(x_train, y_train)\n"
      ]
    },
    {
      "cell_type": "code",
      "execution_count": null,
      "metadata": {
        "cellView": "form",
        "id": "9_QxP5GGghKL"
      },
      "outputs": [],
      "source": [
        "#@title Sigmoid NAG Whole data{vertical-output:true}\n",
        "model4 = Classification(_no_of_class=10, \n",
        "                       _hidden_layer=[32, 32], \n",
        "                       _input_layer=784,\n",
        "                       _initialization_method=InitializationMethod.UNIFORM_XAVIER,\n",
        "                       _learning_rate=0.01,\n",
        "                       _activation_fun=ActivationFunction.SIGMOID, \n",
        "                       _optimization_algorithm=OptimizationAlgorithm.NAG,\n",
        "                       _batch_size = 50,\n",
        "                       _momentum = 0.9,\n",
        "                       _max_epoch=80)\n",
        "\n",
        "model4.init_weight_and_bias()\n",
        "\n",
        "model4.fit(x_train, y_train)"
      ]
    },
    {
      "cell_type": "code",
      "execution_count": null,
      "metadata": {
        "cellView": "form",
        "id": "cFcldgaNpKkX"
      },
      "outputs": [],
      "source": [
        "#@title Sigmoid SGD whole data{ vertical-output: true}\n",
        "model5 = Classification(_no_of_class=10, \n",
        "                       _hidden_layer=[64, 64], \n",
        "                       _input_layer=784,\n",
        "                       _initialization_method=InitializationMethod.UNIFORM_XAVIER,\n",
        "                       _learning_rate=0.01,\n",
        "                       _activation_fun=ActivationFunction.SIGMOID, \n",
        "                       _optimization_algorithm=OptimizationAlgorithm.SGD,\n",
        "                       _max_epoch=10)\n",
        "model5.init_weight_and_bias()\n",
        "\n",
        "model5.fit(x_train, y_train)"
      ]
    },
    {
      "cell_type": "code",
      "execution_count": null,
      "metadata": {
        "cellView": "form",
        "id": "cTln1aXTz3AW"
      },
      "outputs": [],
      "source": [
        "#@title Sigmoid RMS whole data{ vertical-output: true}\n",
        "model6 = Classification(_no_of_class=10, \n",
        "                       _hidden_layer=[32, 32], \n",
        "                       _input_layer=784,\n",
        "                       _initialization_method=InitializationMethod.UNIFORM_XAVIER,\n",
        "                       _learning_rate=0.1,\n",
        "                       _activation_fun=ActivationFunction.SIGMOID, \n",
        "                       _optimization_algorithm=OptimizationAlgorithm.RMS_PROP,\n",
        "                       _batch_size = 100,\n",
        "                       _momentum = 0.9,\n",
        "                       _max_epoch=10)\n",
        "model6.init_weight_and_bias()\n",
        "\n",
        "model6.fit(x_train, y_train)"
      ]
    }
  ],
  "metadata": {
    "colab": {
      "provenance": [],
      "include_colab_link": true
    },
    "kernelspec": {
      "display_name": "Python 3",
      "language": "python",
      "name": "python3"
    },
    "language_info": {
      "codemirror_mode": {
        "name": "ipython",
        "version": 3
      },
      "file_extension": ".py",
      "mimetype": "text/x-python",
      "name": "python",
      "nbconvert_exporter": "python",
      "pygments_lexer": "ipython3",
      "version": "3.10.6"
    },
    "vscode": {
      "interpreter": {
        "hash": "2b7beba6bc4576b587b472b50647070571a61f12f0cc1be023be2a084234b362"
      }
    }
  },
  "nbformat": 4,
  "nbformat_minor": 0
}