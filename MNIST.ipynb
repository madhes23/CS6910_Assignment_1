{
  "cells": [
    {
      "cell_type": "markdown",
      "metadata": {
        "id": "view-in-github",
        "colab_type": "text"
      },
      "source": [
        "<a href=\"https://colab.research.google.com/github/madhes23/deep_learning/blob/main/MNIST.ipynb\" target=\"_parent\"><img src=\"https://colab.research.google.com/assets/colab-badge.svg\" alt=\"Open In Colab\"/></a>"
      ]
    },
    {
      "cell_type": "code",
      "execution_count": null,
      "metadata": {
        "id": "BKJei9hr3MlP"
      },
      "outputs": [],
      "source": [
        "from keras.datasets import fashion_mnist\n",
        "import matplotlib.pyplot as plt\n",
        "import numpy as np\n",
        "import math\n",
        "from enum import Enum\n",
        "import copy"
      ]
    },
    {
      "cell_type": "markdown",
      "metadata": {
        "id": "e_H7qxjT2_r8"
      },
      "source": [
        "# Importing and plotting samples"
      ]
    },
    {
      "cell_type": "code",
      "execution_count": null,
      "metadata": {
        "id": "jjBCjYrvwVre",
        "colab": {
          "base_uri": "https://localhost:8080/"
        },
        "outputId": "9dcbfe3d-5b55-4aae-df7c-11101c92b2a5"
      },
      "outputs": [
        {
          "output_type": "stream",
          "name": "stdout",
          "text": [
            "Downloading data from https://storage.googleapis.com/tensorflow/tf-keras-datasets/train-labels-idx1-ubyte.gz\n",
            "29515/29515 [==============================] - 0s 0us/step\n",
            "Downloading data from https://storage.googleapis.com/tensorflow/tf-keras-datasets/train-images-idx3-ubyte.gz\n",
            "26421880/26421880 [==============================] - 1s 0us/step\n",
            "Downloading data from https://storage.googleapis.com/tensorflow/tf-keras-datasets/t10k-labels-idx1-ubyte.gz\n",
            "5148/5148 [==============================] - 0s 0us/step\n",
            "Downloading data from https://storage.googleapis.com/tensorflow/tf-keras-datasets/t10k-images-idx3-ubyte.gz\n",
            "4422102/4422102 [==============================] - 0s 0us/step\n"
          ]
        }
      ],
      "source": [
        "(x_train, y_train), (x_test, y_test) = fashion_mnist.load_data()"
      ]
    },
    {
      "cell_type": "code",
      "execution_count": null,
      "metadata": {
        "colab": {
          "base_uri": "https://localhost:8080/",
          "height": 196
        },
        "id": "QKKTyjeynEAH",
        "outputId": "357b543f-458b-4d4e-d587-a52076256a48"
      },
      "outputs": [
        {
          "output_type": "display_data",
          "data": {
            "text/plain": [
              "<Figure size 2016x2016 with 10 Axes>"
            ],
            "image/png": "[encoded data removed]"
          },
          "metadata": {
            "needs_background": "light"
          }
        }
      ],
      "source": [
        "no_of_items = 10\n",
        "\n",
        "fig, axes = plt.subplots(nrows = 1, ncols=10, figsize = (28, 28))\n",
        "for item in range(no_of_items):\n",
        "  index = 0\n",
        "  while(y_train[index] != item): #searching for the first occurance of the element\n",
        "    index = index+1\n",
        "  \n",
        "  ax = axes[item]\n",
        "  ax.imshow(x_train[index], cmap='gray_r')\n",
        "  ax.set_title('Label {}'.format(item))"
      ]
    },
    {
      "cell_type": "markdown",
      "metadata": {
        "id": "PfO1a_Bl3F7U"
      },
      "source": [
        "# Reshaping the data for nerual network\n"
      ]
    },
    {
      "cell_type": "code",
      "execution_count": null,
      "metadata": {
        "id": "EX-O8TPP3FTm"
      },
      "outputs": [],
      "source": [
        "no_of_pixels = x_train[0].size\n",
        "x_train = x_train.reshape(-1, no_of_pixels)/255\n",
        "x_test = x_test.reshape(-1, no_of_pixels)/255"
      ]
    },
    {
      "cell_type": "markdown",
      "metadata": {
        "id": "UCrUeXGzewLj"
      },
      "source": [
        "# Some Utility functions"
      ]
    },
    {
      "cell_type": "code",
      "execution_count": 45,
      "metadata": {
        "id": "LMEmeqnafDw5"
      },
      "outputs": [],
      "source": [
        "class ActivationFunction(Enum):\n",
        "  SIGMOID = 1\n",
        "  RELU = 2\n",
        "  TAN_H = 3\n",
        "\n",
        "class InitializationMethod(Enum):\n",
        "  UNIFORM_RANDOM = 1\n",
        "  UNIFORM_XAVIER = 2\n",
        "  GAUSSIAN_XAVIER = 3\n",
        "\n",
        "class OutputFunction(Enum):\n",
        "  SOFTMAX = 1\n",
        "  SQUARE_ERROR = 2\n",
        "\n",
        "class OptimizationAlgorithm(Enum):\n",
        "  GD = 1\n",
        "  SGD = 2\n",
        "  MINI_BATCH = 3\n",
        "  MOMENTUM_GD = 4\n",
        "  NAG = 5\n",
        "\n",
        "class ErrorCalculationMethod(Enum):\n",
        "  CROSS_ENTROPY = 1\n",
        "  MEAN_SQUARE_ERROR = 2\n",
        "\n",
        "def calc_accuracy(predicted, expected):\n",
        "  return np.sum(predicted == expected) / expected.size"
      ]
    },
    {
      "cell_type": "markdown",
      "metadata": {
        "id": "ft8laK_twVri"
      },
      "source": [
        "# Main Class"
      ]
    },
    {
      "cell_type": "code",
      "execution_count": 49,
      "metadata": {
        "id": "D3Wcr7PFwVrj"
      },
      "outputs": [],
      "source": [
        "class Classification:\n",
        "  weight = []\n",
        "  bias = []\n",
        "  def __init__(self, _no_of_class, _hidden_layer, _input_layer, _max_epoch, _optimization_algorithm=OptimizationAlgorithm.SGD, _activation_fun=ActivationFunction.RELU, _initialization_method=InitializationMethod.UNIFORM_XAVIER, _output_function = OutputFunction.SOFTMAX, _error_calculation=ErrorCalculationMethod.CROSS_ENTROPY, _learning_rate = 0.01, _batch_size = 32, _momentum = 0.9) -> None:\n",
        "    self.no_of_class = _no_of_class\n",
        "    self.hidden_layer = _hidden_layer\n",
        "    self.activation_func = _activation_fun\n",
        "    self.max_epoch = _max_epoch\n",
        "    self.input_layer = _input_layer\n",
        "    self.output_func = _output_function\n",
        "    self.learning_rate = _learning_rate\n",
        "    self.initialization_method = _initialization_method\n",
        "    self.error_calculation = _error_calculation\n",
        "    self.L = len(_hidden_layer) + 1\n",
        "    self.optimization_algorithm = _optimization_algorithm\n",
        "    self.batch_size = _batch_size\n",
        "    self.momentum = _momentum\n",
        "\n",
        "\n",
        "  def set_weight_and_bias(self):\n",
        "    #appending all these in a single list (easy for initializing w and b)\n",
        "    layer = [self.input_layer]\n",
        "    layer = layer + self.hidden_layer\n",
        "    layer.append(self.no_of_class)\n",
        "\n",
        "    #going to use 1-based indexing (as tought in the class)\n",
        "    #so adding some random matrix in 0-th index\n",
        "    w = [np.random.rand(1,1)]\n",
        "    b = [np.random.rand(1,1)]\n",
        "    prev_w = [np.random.rand(1,1)]\n",
        "    prev_b = [np.random.rand(1,1)]\n",
        "    if(self.initialization_method == InitializationMethod.UNIFORM_RANDOM): \n",
        "      low = -1\n",
        "      high = 1\n",
        "      i = 1\n",
        "      while i < len(layer):\n",
        "        w.append(np.random.uniform(low, high, size=(layer[i], layer[i-1])))\n",
        "        b.append(np.zeros(layer[i]))\n",
        "        prev_w.append(np.zeros(shape=(layer[i], layer[i-1])))\n",
        "        prev_b.append(np.zeros(layer[i]))\n",
        "        i +=1\n",
        "    \n",
        "    if(self.initialization_method == InitializationMethod.UNIFORM_XAVIER): \n",
        "      for i in range(1, len(layer)):\n",
        "        inputs = layer[i-1]\n",
        "        outputs = layer[i]\n",
        "        # x = math.sqrt(6/ inputs+outputs)\n",
        "        x = math.sqrt(1/inputs)\n",
        "        w.append(np.random.uniform(low=-x, high=x, size=(layer[i], layer[i-1])))\n",
        "        b.append(np.zeros(layer[i]))\n",
        "        prev_w.append(np.zeros(shape=(layer[i], layer[i-1])))\n",
        "        prev_b.append(np.zeros(layer[i]))\n",
        "\n",
        "    if(self.initialization_method == InitializationMethod.GAUSSIAN_XAVIER): \n",
        "      mu = 0.0\n",
        "      for i in range(1, len(layer)):\n",
        "        inputs = layer[i-1]\n",
        "        outputs = layer[i]\n",
        "        # sigma = math.sqrt(6 / inputs+outputs)\n",
        "        sigma = math.sqrt(1/ inputs)\n",
        "        w.append(np.random.normal(mu, sigma, size=(layer[i], layer[i-1])))\n",
        "        b.append(np.zeros(layer[i]))\n",
        "        prev_w.append(np.zeros(shape=(layer[i], layer[i-1])))\n",
        "        prev_b.append(np.zeros(layer[i]))\n",
        "    self.weight = w\n",
        "    self.bias = b\n",
        "    self.prev_weight = prev_w \n",
        "    self.prev_bias = prev_b\n",
        "\n",
        "\n",
        "  def activation_function(self, a):\n",
        "    if(self.activation_func == ActivationFunction.SIGMOID):   \n",
        "      # clipping_limit = 400\n",
        "      # return 1.0 / (1.0 + np.exp(-np.clip(a,-clipping_limit,clipping_limit)))\n",
        "      new = a.copy()\n",
        "      new[a<0] = np.exp(a[a<0])/(1.0 + np.exp(a[a<0]))\n",
        "      new[a>=0] = 1/(1+np.exp(-a[a>=0]))\n",
        "      return new\n",
        "\n",
        "    if(self.activation_func == ActivationFunction.RELU):\n",
        "      return np.maximum(0,a)\n",
        "\n",
        "    if(self.activation_func == ActivationFunction.TAN_H):\n",
        "      e_pow_a = np.exp(a)\n",
        "      e_pow_neg_a = np.exp(-a)\n",
        "      return (e_pow_a - e_pow_neg_a)/(e_pow_a + e_pow_neg_a)\n",
        "\n",
        "\n",
        "  def df_activation_function(self, a):\n",
        "    if(self.activation_func == ActivationFunction.SIGMOID): #sigmoid\n",
        "      return self.activation_function(a) * (1 - self.activation_function(a))\n",
        "\n",
        "    if(self.activation_func == ActivationFunction.RELU):\n",
        "      result = a.copy()\n",
        "      result[result>=0] = 1\n",
        "      result[result<0] = 0\n",
        "      return result\n",
        "    \n",
        "    if(self.activation_func == ActivationFunction.TAN_H):\n",
        "      return 1 - np.square(self.activation_function(a))\n",
        "\n",
        "\n",
        "  def output_function(self, a):\n",
        "    if(self.output_func == OutputFunction.SOFTMAX): \n",
        "      # a = a - np.max(a)\n",
        "      # return np.exp(a) / np.sum(np.exp(a), axis=1, keepdims=True)\n",
        "      num = np.exp(a - ((np.ones(shape=(a.shape[1],a.shape[0]))* (np.max(a,axis=1))).transpose()))\n",
        "      den = ((np.ones(shape=(a.shape[1],a.shape[0]))* (1/(np.sum(num,axis=1)))).transpose())\n",
        "      return np.multiply(num,den)\n",
        "\n",
        "\n",
        "  def calc_total_error(self, predicted_distribution, true_label):\n",
        "    if(self.error_calculation == ErrorCalculationMethod.CROSS_ENTROPY):\n",
        "      rows = np.arange(true_label.shape[0]) #setting row number from 0 to length(true label)\n",
        "      cols = true_label\n",
        "      predicted_distribution = predicted_distribution[rows,cols]\n",
        "      predicted_distribution[predicted_distribution == 0] = 1e-6 #setting 0 values to very small value, so we dont get inf \n",
        "      return sum(-np.log(predicted_distribution)) \n",
        "\n",
        "\n",
        "  def forward_propogation(self, input_images):\n",
        "    #for using 1 based indexing, adding some random matrix in 0-th index\n",
        "    a = [np.random.rand(1,1)]\n",
        "    h = [input_images]\n",
        "\n",
        "    for i in range(1, self.L):\n",
        "      a.append(self.bias[i] + np.dot(h[i-1], self.weight[i].T))\n",
        "      h.append(self.activation_function(a[i]))\n",
        "\n",
        "    a.append(self.bias[self.L] + np.dot(h[self.L-1], self.weight[self.L].T))\n",
        "    h.append(self.output_function(a[-1]))\n",
        "    return a, h\n",
        "\n",
        "\n",
        "  def backward_propogation(self, a, h, true_label, weight = None):\n",
        "    if(weight == None):\n",
        "      weight = self.weight\n",
        "\n",
        "    del_a = [None] * (self.L+1)\n",
        "    del_h = [None] * (self.L+1)\n",
        "    del_w = [None] * (self.L+1)\n",
        "    del_b = [None] * (self.L+1)\n",
        "    \n",
        "    #computing del_a_l\n",
        "    del_a[-1] = h[-1].copy()\n",
        "    row_ind = np.arange(true_label.shape[0]) #creating numbers 0 to batch size (for row indices)\n",
        "    del_a[-1][row_ind,true_label] -= 1\n",
        "\n",
        "    for k in range(self.L, 0, -1):\n",
        "      #computing gradients w.r.t parameters\n",
        "      del_w[k] = np.dot(del_a[k].T, h[k-1])\n",
        "      del_b[k] = np.sum(del_a[k], axis=0)\n",
        "\n",
        "      #computing gradients w.r.t layer below (post-activation)\n",
        "      del_h[k-1] = np.dot(del_a[k],weight[k])\n",
        "\n",
        "      #computing gradients w.r.t layer below (pre-activation)\n",
        "      del_a[k-1] = del_h[k-1] * self.df_activation_function(a[k-1])\n",
        "    \n",
        "    #setting the 0-th index to some random array of (1,1)\n",
        "    #so that it won't cause dimention mismatch\n",
        "    del_w[0] = np.random.rand(1,1)\n",
        "    del_b[0] = np.random.rand(1,1)\n",
        "    return del_w, del_b\n",
        "\n",
        "\n",
        "  def fit(self, x_train, y_train): \n",
        "    self.data_size = x_train.shape[0]\n",
        "    error_list = []\n",
        "    if(self.optimization_algorithm == OptimizationAlgorithm.GD):\n",
        "      for i in range(self.max_epoch):\n",
        "        a, h = self.forward_propogation(x_train)\n",
        "        del_w, del_b = self.backward_propogation(a, h, y_train)\n",
        "\n",
        "        #converting to ndarray for easier calculations\n",
        "        del_w = np.array(del_w, dtype=object)\n",
        "        del_b = np.array(del_b, dtype=object)\n",
        "        self.weight -= self.learning_rate * del_w\n",
        "        self.bias -= self.learning_rate * del_b\n",
        "        err = self.calc_total_error(h[-1], y_train) / self.data_size\n",
        "        error_list.append(err)\n",
        "        print(\"Completed epoch : {} \\t Error: {}\".format(i, err))\n",
        "    \n",
        "    if(self.optimization_algorithm == OptimizationAlgorithm.MINI_BATCH):\n",
        "      no_of_batches = self.data_size // self.batch_size\n",
        "      for i in range(self.max_epoch):\n",
        "        err = 0\n",
        "        for j in range(no_of_batches): \n",
        "          begin = j * self.batch_size\n",
        "          end = begin + self.batch_size\n",
        "          if(end > self.data_size):\n",
        "            end = self.data_size\n",
        "\n",
        "          a, h = self.forward_propogation(x_train[begin:end])\n",
        "          del_w, del_b = self.backward_propogation(a, h, y_train[begin:end])\n",
        "\n",
        "          #converting to ndarray for easier calculations\n",
        "          del_w = np.array(del_w, dtype=object)\n",
        "          del_b = np.array(del_b, dtype=object)\n",
        "          self.weight -= self.learning_rate * del_w\n",
        "          self.bias -= self.learning_rate * del_b\n",
        "          err += self.calc_total_error(h[-1], y_train[begin:end])\n",
        "        err /= self.data_size\n",
        "        error_list.append(err)\n",
        "        print(\"Completed epoch : {} \\t Error: {}\".format(i, err))\n",
        "    \n",
        "    if(self.optimization_algorithm == OptimizationAlgorithm.SGD): #same as above code, but with batch size = 1\n",
        "      self.batch_size = 1\n",
        "      no_of_batches = self.data_size // self.batch_size\n",
        "      for i in range(self.max_epoch):\n",
        "        err = 0\n",
        "        for j in range(no_of_batches): \n",
        "          begin = j * self.batch_size\n",
        "          end = begin + self.batch_size\n",
        "          if(end > self.data_size):\n",
        "            end = self.data_size\n",
        "\n",
        "          a, h = self.forward_propogation(x_train[begin:end])\n",
        "          del_w, del_b = self.backward_propogation(a, h, y_train[begin:end])\n",
        "\n",
        "          #converting to ndarray for easier calculations\n",
        "          del_w = np.array(del_w, dtype=object)\n",
        "          del_b = np.array(del_b, dtype=object)\n",
        "          self.weight -= self.learning_rate * del_w\n",
        "          self.bias -= self.learning_rate * del_b\n",
        "          err += self.calc_total_error(h[-1], y_train[begin:end])\n",
        "        err /= self.data_size\n",
        "        error_list.append(err)\n",
        "        print(\"Completed epoch : {} \\t Error: {}\".format(i, err))\n",
        "    \n",
        "    if(self.optimization_algorithm == OptimizationAlgorithm.MOMENTUM_GD):\n",
        "      no_of_batches = self.data_size // self.batch_size\n",
        "\n",
        "      #converting to ndarray for faster calculation ( #todo: why not return it as ndarray )\n",
        "      prev_w = np.array(self.prev_weight, dtype=object)\n",
        "      prev_b = np.array(self.prev_bias, dtype=object)\n",
        "      for i in range(self.max_epoch):\n",
        "        err = 0\n",
        "        for j in range(no_of_batches):\n",
        "          begin = j * self.batch_size\n",
        "          end = begin + self.batch_size\n",
        "          if(end > self.data_size):\n",
        "            end = self.data_size\n",
        "          \n",
        "          a, h = self.forward_propogation(x_train[begin:end])\n",
        "          del_w, del_b = self.backward_propogation(a, h, y_train[begin:end])\n",
        "\n",
        "          #converting to ndarray for easier calculations\n",
        "          del_w = np.array(del_w, dtype=object)\n",
        "          del_b = np.array(del_b, dtype=object)\n",
        "          prev_w = self.momentum * prev_w + (1 - self.momentum) * del_w\n",
        "          prev_b = self.momentum * prev_b + (1 - self.momentum) * del_b\n",
        "\n",
        "          self.weight -= self.learning_rate * prev_w\n",
        "          self.bias -= self.learning_rate * prev_b\n",
        "          err += self.calc_total_error(h[-1], y_train[begin:end])\n",
        "        err /= self.data_size\n",
        "        error_list.append(err)\n",
        "        print(\"Completed epoch : {} \\t Error: {}\".format(i, err))\n",
        "\n",
        "    if(self.optimization_algorithm == OptimizationAlgorithm.NAG):\n",
        "      no_of_batches = self.data_size // self.batch_size\n",
        "\n",
        "      #converting to ndarray for faster calculation ( #todo: why not return it as ndarray )\n",
        "      prev_w = np.array(self.prev_weight, dtype=object)\n",
        "      prev_b = np.array(self.prev_bias, dtype=object)\n",
        "      for i in range(self.max_epoch):\n",
        "        err = 0\n",
        "        for j in range(no_of_batches):\n",
        "          begin = j * self.batch_size\n",
        "          end = begin + self.batch_size\n",
        "          if(end > self.data_size):\n",
        "            end = self.data_size\n",
        "          \n",
        "          a, h = self.forward_propogation(x_train[begin:end])\n",
        "          w_lookahead = self.weight - self.momentum * prev_w\n",
        "          del_w_lookahead, del_b = self.backward_propogation(a, h, y_train[begin:end],weight=w_lookahead)\n",
        "\n",
        "          #converting to ndarray for easier calculations\n",
        "          del_w_lookahead = np.array(del_w_lookahead, dtype=object)\n",
        "          del_b = np.array(del_b, dtype=object)\n",
        "          prev_w = self.momentum * prev_w + (1 - self.momentum) * del_w_lookahead\n",
        "          prev_b = self.momentum * prev_b + (1 - self.momentum) * del_b\n",
        "\n",
        "          self.weight -= self.learning_rate * prev_w\n",
        "          self.bias -= self.learning_rate * prev_b\n",
        "          err += self.calc_total_error(h[-1], y_train[begin:end])\n",
        "        err /= self.data_size\n",
        "        error_list.append(err)\n",
        "        print(\"Completed epoch : {} \\t Error: {}\".format(i, err))\n",
        "\n",
        "    plt.plot(error_list)\n",
        "    plt.show()\n",
        "\n",
        "        \n",
        "\n",
        "  def test(self, x_test, y_test):\n",
        "    print(\"x_test {} \\t y_test {}\".format(x_test.shape, y_test.shape))\n",
        "    _ , h = self.forward_propogation(x_test)\n",
        "    predicted_distribution = h[-1]\n",
        "    return calc_accuracy(np.argmax(predicted_distribution, axis=1), y_test)"
      ]
    },
    {
      "cell_type": "markdown",
      "source": [
        "# Models"
      ],
      "metadata": {
        "id": "AZ35jZd2e7Jr"
      }
    },
    {
      "cell_type": "code",
      "source": [
        "#@title Sigmoid SDG Whole data{vertical-output:true}\n",
        "model = Classification(_no_of_class=10, \n",
        "                       _hidden_layer=[32, 32], \n",
        "                       _input_layer=784,\n",
        "                       _initialization_method=InitializationMethod.UNIFORM_XAVIER,\n",
        "                       _learning_rate=0.01,\n",
        "                       _activation_fun=ActivationFunction.SIGMOID, \n",
        "                       _optimization_algorithm=OptimizationAlgorithm.SGD,\n",
        "                       _batch_size = 50,\n",
        "                       _max_epoch=40)\n",
        "\n",
        "model.set_weight_and_bias()\n",
        "\n",
        "model.fit(x_train, y_train)\n"
      ],
      "metadata": {
        "id": "ooea0AoWB657",
        "cellView": "form"
      },
      "execution_count": null,
      "outputs": []
    },
    {
      "cell_type": "code",
      "source": [
        "#@title ReLU GD Small Data { vertical-output: true}\n",
        "model1 = Classification(_no_of_class=10, \n",
        "                       _hidden_layer=[64, 64], \n",
        "                       _input_layer=784,\n",
        "                       _initialization_method=InitializationMethod.UNIFORM_XAVIER,\n",
        "                       _learning_rate=0.01,\n",
        "                       _activation_fun=ActivationFunction.RELU, \n",
        "                       _optimization_algorithm=OptimizationAlgorithm.GD,\n",
        "                       _max_epoch=800)\n",
        "model1.set_weight_and_bias()\n",
        "\n",
        "model1.fit(x_train[:50], y_train[:50])"
      ],
      "metadata": {
        "id": "WTEDUkt2Ip12",
        "cellView": "form"
      },
      "execution_count": null,
      "outputs": []
    },
    {
      "cell_type": "code",
      "source": [
        "#@title Sigmoid GD Small data{ vertical-output: true}\n",
        "model1 = Classification(_no_of_class=10, \n",
        "                       _hidden_layer=[64, 64], \n",
        "                       _input_layer=784,\n",
        "                       _initialization_method=InitializationMethod.UNIFORM_XAVIER,\n",
        "                       _learning_rate=0.01,\n",
        "                       _activation_fun=ActivationFunction.SIGMOID, \n",
        "                       _optimization_algorithm=OptimizationAlgorithm.GD,\n",
        "                       _max_epoch=600)\n",
        "model1.set_weight_and_bias()\n",
        "\n",
        "model1.fit(x_train[:10], y_train[:10])"
      ],
      "metadata": {
        "id": "9XXZ0fZmEUO6",
        "cellView": "form"
      },
      "execution_count": null,
      "outputs": []
    },
    {
      "cell_type": "code",
      "source": [
        "#@title Sigmoid Momentum Whole data{vertical-output:true}\n",
        "model3 = Classification(_no_of_class=10, \n",
        "                       _hidden_layer=[32, 32], \n",
        "                       _input_layer=784,\n",
        "                       _initialization_method=InitializationMethod.UNIFORM_XAVIER,\n",
        "                       _learning_rate=0.01,\n",
        "                       _activation_fun=ActivationFunction.SIGMOID, \n",
        "                       _optimization_algorithm=OptimizationAlgorithm.MOMENTUM_GD,\n",
        "                       _batch_size = 50,\n",
        "                       _momentum = 0.9,\n",
        "                       _max_epoch=80)\n",
        "\n",
        "model3.set_weight_and_bias()\n",
        "\n",
        "model3.fit(x_train, y_train)\n"
      ],
      "metadata": {
        "cellView": "form",
        "id": "h0_GdmG_Jy_l"
      },
      "execution_count": null,
      "outputs": []
    },
    {
      "cell_type": "code",
      "source": [
        "#@title Sigmoid NAG Whole data{vertical-output:true}\n",
        "model4 = Classification(_no_of_class=10, \n",
        "                       _hidden_layer=[32, 32], \n",
        "                       _input_layer=784,\n",
        "                       _initialization_method=InitializationMethod.UNIFORM_XAVIER,\n",
        "                       _learning_rate=0.01,\n",
        "                       _activation_fun=ActivationFunction.SIGMOID, \n",
        "                       _optimization_algorithm=OptimizationAlgorithm.NAG,\n",
        "                       _batch_size = 50,\n",
        "                       _momentum = 0.9,\n",
        "                       _max_epoch=80)\n",
        "\n",
        "model4.set_weight_and_bias()\n",
        "\n",
        "model4.fit(x_train, y_train)"
      ],
      "metadata": {
        "cellView": "form",
        "id": "9_QxP5GGghKL"
      },
      "execution_count": null,
      "outputs": []
    },
    {
      "cell_type": "code",
      "source": [
        "#@title Sigmoid SGD whole data{ vertical-output: true}\n",
        "model5 = Classification(_no_of_class=10, \n",
        "                       _hidden_layer=[64, 64], \n",
        "                       _input_layer=784,\n",
        "                       _initialization_method=InitializationMethod.UNIFORM_XAVIER,\n",
        "                       _learning_rate=0.01,\n",
        "                       _activation_fun=ActivationFunction.SIGMOID, \n",
        "                       _optimization_algorithm=OptimizationAlgorithm.SGD,\n",
        "                       _max_epoch=10)\n",
        "model5.set_weight_and_bias()\n",
        "\n",
        "model5.fit(x_train, y_train)"
      ],
      "metadata": {
        "cellView": "form",
        "id": "cFcldgaNpKkX"
      },
      "execution_count": null,
      "outputs": []
    }
  ],
  "metadata": {
    "colab": {
      "provenance": [],
      "include_colab_link": true
    },
    "kernelspec": {
      "display_name": "Python 3",
      "language": "python",
      "name": "python3"
    },
    "language_info": {
      "codemirror_mode": {
        "name": "ipython",
        "version": 3
      },
      "file_extension": ".py",
      "mimetype": "text/x-python",
      "name": "python",
      "nbconvert_exporter": "python",
      "pygments_lexer": "ipython3",
      "version": "3.10.6"
    },
    "vscode": {
      "interpreter": {
        "hash": "2b7beba6bc4576b587b472b50647070571a61f12f0cc1be023be2a084234b362"
      }
    }
  },
  "nbformat": 4,
  "nbformat_minor": 0
}