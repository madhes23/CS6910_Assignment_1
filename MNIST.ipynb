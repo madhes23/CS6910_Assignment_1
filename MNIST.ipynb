{
  "cells": [
    {
      "cell_type": "markdown",
      "metadata": {
        "id": "view-in-github",
        "colab_type": "text"
      },
      "source": [
        "<a href=\"https://colab.research.google.com/github/madhes23/deep_learning/blob/main/MNIST.ipynb\" target=\"_parent\"><img src=\"https://colab.research.google.com/assets/colab-badge.svg\" alt=\"Open In Colab\"/></a>"
      ]
    },
    {
      "cell_type": "code",
      "execution_count": null,
      "metadata": {
        "colab": {
          "base_uri": "https://localhost:8080/"
        },
        "id": "nAdxJ3ukrXg4",
        "outputId": "f0aa2d12-8400-45e1-c856-c2c5e49f0460"
      },
      "outputs": [
        {
          "name": "stdout",
          "output_type": "stream",
          "text": [
            "\u001b[2K     \u001b[90m━━━━━━━━━━━━━━━━━━━━━━━━━━━━━━━━━━━━━━━━\u001b[0m \u001b[32m2.0/2.0 MB\u001b[0m \u001b[31m10.6 MB/s\u001b[0m eta \u001b[36m0:00:00\u001b[0m\n",
            "\u001b[2K     \u001b[90m━━━━━━━━━━━━━━━━━━━━━━━━━━━━━━━━━━━━━━━\u001b[0m \u001b[32m184.3/184.3 KB\u001b[0m \u001b[31m8.4 MB/s\u001b[0m eta \u001b[36m0:00:00\u001b[0m\n",
            "\u001b[2K     \u001b[90m━━━━━━━━━━━━━━━━━━━━━━━━━━━━━━━━━━━━━━━\u001b[0m \u001b[32m184.3/184.3 KB\u001b[0m \u001b[31m7.3 MB/s\u001b[0m eta \u001b[36m0:00:00\u001b[0m\n",
            "\u001b[?25h  Preparing metadata (setup.py) ... \u001b[?25l\u001b[?25hdone\n",
            "\u001b[2K     \u001b[90m━━━━━━━━━━━━━━━━━━━━━━━━━━━━━━━━━━━━━━━━\u001b[0m \u001b[32m62.7/62.7 KB\u001b[0m \u001b[31m1.9 MB/s\u001b[0m eta \u001b[36m0:00:00\u001b[0m\n",
            "\u001b[?25h  Building wheel for pathtools (setup.py) ... \u001b[?25l\u001b[?25hdone\n"
          ]
        }
      ],
      "source": [
        "! pip install wandb -qU"
      ]
    },
    {
      "cell_type": "code",
      "execution_count": null,
      "metadata": {
        "id": "BKJei9hr3MlP"
      },
      "outputs": [],
      "source": [
        "from keras.datasets import fashion_mnist\n",
        "import matplotlib.pyplot as plt\n",
        "import numpy as np\n",
        "import math\n",
        "from enum import Enum\n",
        "import wandb\n",
        "from sklearn.model_selection import train_test_split"
      ]
    },
    {
      "cell_type": "markdown",
      "metadata": {
        "id": "e_H7qxjT2_r8"
      },
      "source": [
        "# Importing and plotting samples"
      ]
    },
    {
      "cell_type": "code",
      "execution_count": null,
      "metadata": {
        "colab": {
          "base_uri": "https://localhost:8080/"
        },
        "id": "jjBCjYrvwVre",
        "outputId": "2bff40a7-3fe5-4ac3-d88b-2b053d2e85cd"
      },
      "outputs": [
        {
          "name": "stdout",
          "output_type": "stream",
          "text": [
            "Downloading data from https://storage.googleapis.com/tensorflow/tf-keras-datasets/train-labels-idx1-ubyte.gz\n",
            "29515/29515 [==============================] - 0s 0us/step\n",
            "Downloading data from https://storage.googleapis.com/tensorflow/tf-keras-datasets/train-images-idx3-ubyte.gz\n",
            "26421880/26421880 [==============================] - 0s 0us/step\n",
            "Downloading data from https://storage.googleapis.com/tensorflow/tf-keras-datasets/t10k-labels-idx1-ubyte.gz\n",
            "5148/5148 [==============================] - 0s 0us/step\n",
            "Downloading data from https://storage.googleapis.com/tensorflow/tf-keras-datasets/t10k-images-idx3-ubyte.gz\n",
            "4422102/4422102 [==============================] - 0s 0us/step\n"
          ]
        }
      ],
      "source": [
        "(x_train, y_train), (x_test, y_test) = fashion_mnist.load_data()\n",
        "x_train, x_validation, y_train, y_validation = train_test_split(x_train, y_train, train_size=0.8)"
      ]
    },
    {
      "cell_type": "code",
      "execution_count": null,
      "metadata": {
        "colab": {
          "base_uri": "https://localhost:8080/",
          "height": 196
        },
        "id": "QKKTyjeynEAH",
        "outputId": "e217ef70-91cc-47f9-b2ce-657559738ff9"
      },
      "outputs": [
        {
          "data": {
            "image/png": "[encoded data removed]",
            "text/plain": [
              "<Figure size 2016x2016 with 10 Axes>"
            ]
          },
          "metadata": {
            "needs_background": "light"
          },
          "output_type": "display_data"
        }
      ],
      "source": [
        "no_of_items = 10\n",
        "\n",
        "fig, axes = plt.subplots(nrows = 1, ncols=10, figsize = (28, 28))\n",
        "for item in range(no_of_items):\n",
        "  index = 0\n",
        "  while(y_train[index] != item): #searching for the first occurance of the element\n",
        "    index = index+1\n",
        "  \n",
        "  ax = axes[item]\n",
        "  ax.imshow(x_train[index], cmap='gray_r')\n",
        "  ax.set_title('Label {}'.format(item))"
      ]
    },
    {
      "cell_type": "markdown",
      "metadata": {
        "id": "PfO1a_Bl3F7U"
      },
      "source": [
        "# Reshaping the data for nerual network\n"
      ]
    },
    {
      "cell_type": "code",
      "execution_count": null,
      "metadata": {
        "id": "EX-O8TPP3FTm"
      },
      "outputs": [],
      "source": [
        "no_of_pixels = x_train[0].size\n",
        "x_train = x_train.reshape(-1, no_of_pixels)/255\n",
        "x_test = x_test.reshape(-1, no_of_pixels)/255\n",
        "x_validation = x_validation.reshape(-1, no_of_pixels)/255"
      ]
    },
    {
      "cell_type": "markdown",
      "metadata": {
        "id": "UCrUeXGzewLj"
      },
      "source": [
        "# Some Utility functions"
      ]
    },
    {
      "cell_type": "code",
      "execution_count": null,
      "metadata": {
        "id": "LMEmeqnafDw5"
      },
      "outputs": [],
      "source": [
        "class ActivationFunction(Enum):\n",
        "  SIGMOID = \"sigmoid\"\n",
        "  RELU = \"relu\"\n",
        "  TAN_H = \"tanh\"\n",
        "\n",
        "class InitializationMethod(Enum):\n",
        "  UNIFORM_RANDOM = \"uniform_rand\"\n",
        "  UNIFORM_XAVIER = \"uniform_xav\"\n",
        "  GAUSSIAN_XAVIER = \"gaussian_xav\"\n",
        "\n",
        "class OutputFunction(Enum):\n",
        "  SOFTMAX = \"softmax\"\n",
        "\n",
        "class OptimizationAlgorithm(Enum):\n",
        "  GD = \"gd\"\n",
        "  SGD = \"sgd\"\n",
        "  MINI_BATCH = \"mini_batch\"\n",
        "  MOMENTUM_GD = \"momentum_gd\"\n",
        "  NAG = \"nag\"\n",
        "  RMS_PROP = \"rms\"\n",
        "  ADAM = \"adam\"\n",
        "  NADAM = \"nadam\"\n",
        "\n",
        "class ErrorCalculationMethod(Enum):\n",
        "  CROSS_ENTROPY = \"cross_entropy\"\n",
        "  MEAN_SQUARE_ERROR = \"mse\"\n",
        "\n",
        "\n",
        "def activation_function(a, func):\n",
        "  \"\"\"\n",
        "  Calculates post activation values from pre-activation values, functions implemented:\n",
        "  * Sigmoid\n",
        "  * ReLU\n",
        "  * Tan h\n",
        "\n",
        "  Parameters:\n",
        "  -----------\n",
        "  a: ndarray, pre-activation values\n",
        "  func: Enum describing the activation function type\n",
        "\n",
        "  Retruns:\n",
        "  -------\n",
        "  Post activation values in ndarray of the same dimention\n",
        "  \"\"\"\n",
        "  if(func == ActivationFunction.SIGMOID):   \n",
        "    # clipping_limit = 400\n",
        "    # return 1.0 / (1.0 + np.exp(-np.clip(a,-clipping_limit,clipping_limit)))\n",
        "    new = a.copy()\n",
        "    new[a<0] = np.exp(a[a<0])/(1.0 + np.exp(a[a<0]))\n",
        "    new[a>=0] = 1/(1+np.exp(-a[a>=0]))\n",
        "    return new\n",
        "\n",
        "  if(func == ActivationFunction.RELU):\n",
        "    return np.maximum(0,a)\n",
        "\n",
        "  if(func == ActivationFunction.TAN_H):\n",
        "    return np.tanh(a)\n",
        "\n",
        "\n",
        "def df_activation_function(a, func):\n",
        "  \"\"\"\n",
        "  Calculates the derivative of the activation function\n",
        "  \n",
        "  Parameters:\n",
        "  -------\n",
        "  a: ndarray, pre-activation values\n",
        "  func: Enum describing the activation function type\n",
        "  \n",
        "  \"\"\"\n",
        "  if(func == ActivationFunction.SIGMOID): \n",
        "    return activation_function(a, func) * (1 - activation_function(a, func))\n",
        "\n",
        "  if(func == ActivationFunction.RELU):\n",
        "    result = a.copy()\n",
        "    result[result>=0] = 1\n",
        "    result[result<0] = 0\n",
        "    return result\n",
        "  \n",
        "  if(func == ActivationFunction.TAN_H):\n",
        "    return 1 - np.square(activation_function(a, func))\n",
        "\n",
        "\n",
        "\n",
        "def output_function(a, func):\n",
        "  \"\"\"\n",
        "  Given the pre-activation values, post activation values of the output layer\n",
        "  \"\"\"\n",
        "  if(func == OutputFunction.SOFTMAX): \n",
        "    # a = a - np.max(a)\n",
        "    # return np.exp(a) / np.sum(np.exp(a), axis=1, keepdims=True)\n",
        "    num = np.exp(a - ((np.ones(shape=(a.shape[1],a.shape[0]))* (np.max(a,axis=1))).transpose()))\n",
        "    den = ((np.ones(shape=(a.shape[1],a.shape[0]))* (1/(np.sum(num,axis=1)))).transpose())\n",
        "    return np.multiply(num,den)\n",
        "\n",
        "\n",
        "def calc_total_error(predicted_distribution, true_label, method):\n",
        "  \"\"\"Calculates the total error based on the error calculation method\n",
        "  \n",
        "  Params:\n",
        "  --------\n",
        "  predicted_distribution:\n",
        "    ndarray containing the predicted probability distribution for each input\n",
        "  true label:\n",
        "    ndarray containing the true label for each inputs\n",
        "  method:\n",
        "    Enum describing the type of error calculation method used\n",
        "  \"\"\"\n",
        "  if(method == ErrorCalculationMethod.CROSS_ENTROPY):\n",
        "    rows = np.arange(true_label.shape[0]) #setting row number from 0 to length(true label)\n",
        "    cols = true_label\n",
        "    predicted_distribution = predicted_distribution[rows,cols]\n",
        "    predicted_distribution[predicted_distribution == 0] = 1e-6  #setting 0 values to very small value, so we dont get inf \n",
        "    return sum(-np.log(predicted_distribution)) \n",
        "\n",
        "\n",
        "\n",
        "def plot_graphs(training_errors, validation_errors, training_accuracy, validation_accuracy):\n",
        "  x = np.arange(len(training_errors))\n",
        "  fig, (ax1, ax2) = plt.subplots(1, 2)\n",
        "  ax1.plot(x, training_errors, label = \"Training Error\")\n",
        "  ax1.plot(x, validation_errors, label = \"Validation Error\")\n",
        "  ax1.set_title(\"Errors\")\n",
        "  ax1.legend()\n",
        "  ax2.plot(x, training_accuracy, label = \"Training Accuracy\")\n",
        "  ax2.plot(x, validation_accuracy, label = \"Validation Accuracy\")\n",
        "  ax2.set_title(\"Accuracy\")\n",
        "  ax2.legend()\n"
      ]
    },
    {
      "cell_type": "markdown",
      "metadata": {
        "id": "ft8laK_twVri"
      },
      "source": [
        "# Main Class"
      ]
    },
    {
      "cell_type": "code",
      "execution_count": null,
      "metadata": {
        "id": "D3Wcr7PFwVrj"
      },
      "outputs": [],
      "source": [
        "class Classification:\n",
        "  weight = []\n",
        "  bias = []\n",
        "  def __init__(self, _no_of_class, _hidden_layer, _input_layer, _max_epoch, _optimization_algorithm=OptimizationAlgorithm.SGD, _activation_fun=ActivationFunction.RELU, _initialization_method=InitializationMethod.UNIFORM_XAVIER, _output_function = OutputFunction.SOFTMAX, _error_calculation=ErrorCalculationMethod.CROSS_ENTROPY, _learning_rate = 0.01, _batch_size = 32, _momentum = 0.9, _decay_rate_for_update = 0.99) -> None:\n",
        "    self.no_of_class = _no_of_class\n",
        "    self.hidden_layer = _hidden_layer\n",
        "    self.activation_func = _activation_fun\n",
        "    self.max_epoch = _max_epoch\n",
        "    self.input_layer = _input_layer\n",
        "    self.output_func = _output_function\n",
        "    self.learning_rate = _learning_rate\n",
        "    self.initialization_method = _initialization_method\n",
        "    self.error_calculation = _error_calculation\n",
        "    self.optimization_algorithm = _optimization_algorithm\n",
        "    self.batch_size = _batch_size\n",
        "    self.momentum = _momentum\n",
        "    self.decay_rate_for_update = _decay_rate_for_update\n",
        "\n",
        "    #inferred values (for easier calculation)\n",
        "    self.layer = [_input_layer]\n",
        "    self.layer = self.layer + _hidden_layer\n",
        "    self.layer.append(_no_of_class)    \n",
        "    self.L = len(self.layer) - 1  #number of layers excluding the input layer (L value used in the lectures)\n",
        "\n",
        "    # print(\"no_of_class\", _no_of_class)\n",
        "    # print(\"hidden_lyaer\" , _hidden_layer)\n",
        "    # print(\"activ \", _activation_fun)\n",
        "    # print(\"optimi \", _output_function)\n",
        "\n",
        "  def init_weight_and_bias(self):\n",
        "    #going to use 1-based indexing (as tought in the class)\n",
        "    #so adding some random matrix in 0-th index\n",
        "    w = [np.random.rand(1,1)]\n",
        "    b = [np.random.rand(1,1)]\n",
        "    if(self.initialization_method == InitializationMethod.UNIFORM_RANDOM): \n",
        "      low = -1\n",
        "      high = 1\n",
        "      i = 1\n",
        "      while i < len(self.layer):\n",
        "        w.append(np.random.uniform(low, high, size=(self.layer[i], self.layer[i-1])))\n",
        "        b.append(np.zeros(self.layer[i]))\n",
        "        i +=1\n",
        "    \n",
        "    if(self.initialization_method == InitializationMethod.UNIFORM_XAVIER): \n",
        "      for i in range(1, len(self.layer)):\n",
        "        inputs = self.layer[i-1]\n",
        "        outputs = self.layer[i]\n",
        "        # x = math.sqrt(6/ inputs+outputs)\n",
        "        x = math.sqrt(1/inputs)\n",
        "        w.append(np.random.uniform(low=-x, high=x, size=(self.layer[i], self.layer[i-1])))\n",
        "        b.append(np.zeros(self.layer[i]))\n",
        "\n",
        "    if(self.initialization_method == InitializationMethod.GAUSSIAN_XAVIER): \n",
        "      mu = 0.0\n",
        "      for i in range(1, len(self.layer)):\n",
        "        inputs = self.layer[i-1]\n",
        "        outputs = self.layer[i]\n",
        "        # sigma = math.sqrt(6 / inputs+outputs)\n",
        "        sigma = math.sqrt(1/ inputs)\n",
        "        w.append(np.random.normal(mu, sigma, size=(self.layer[i], self.layer[i-1])))\n",
        "        b.append(np.zeros(self.layer[i]))\n",
        "    self.weight = np.array(w, dtype=object)\n",
        "    self.bias = np.array(b, dtype=object)\n",
        "\n",
        "  def init_prev_moments(self):\n",
        "    \"\"\"\n",
        "    Returns the previous moments for both weight and bias (ie zeros)\n",
        "\n",
        "    Returns:\n",
        "    ------\n",
        "    prev_moment_w: ndarray, dtype=object\n",
        "      All the values are initialized with zero, with same structure as weight matrix of the network\n",
        "    prev_moment_b: ndarray, dtype=object\n",
        "      All the values are initialized with zero, with same structure as bias matrix of the network\n",
        "    \"\"\"\n",
        "    #going to use 1-based indexing (as tought in the class)\n",
        "    #so adding some random matrix in 0-th index\n",
        "    prev_moment_w = [np.random.rand(1,1)]\n",
        "    prev_moment_b = [np.random.rand(1,1)]\n",
        "    for i in range(1, len(self.layer)):\n",
        "      prev_moment_w.append(np.zeros(shape=(self.layer[i], self.layer[i-1])))\n",
        "      prev_moment_b.append(np.zeros(self.layer[i]))\n",
        "\n",
        "    return np.array(prev_moment_w, dtype=object), np.array(prev_moment_b, dtype=object)\n",
        "\n",
        "  def forward_propogation(self, input_images):\n",
        "    #for using 1 based indexing, adding some random matrix in 0-th index\n",
        "    a = [np.random.rand(1,1)]\n",
        "    h = [input_images]\n",
        "\n",
        "    for i in range(1, self.L):\n",
        "      a.append(self.bias[i] + np.dot(h[i-1], self.weight[i].T))\n",
        "      h.append(activation_function(a[i], self.activation_func))\n",
        "\n",
        "    a.append(self.bias[self.L] + np.dot(h[self.L-1], self.weight[self.L].T))\n",
        "    h.append(output_function(a[-1], self.output_func))\n",
        "    return a, h\n",
        "\n",
        "\n",
        "  def backward_propogation(self, a, h, true_label, weight = None, use_custom_weight_matrix = False):\n",
        "    \"\"\"\n",
        "    Params:\n",
        "    ------\n",
        "    a: list of ndarray\n",
        "      pre activation values of the layers of the network (for the data points the in the batch)\n",
        "    h: list of ndarray\n",
        "      post activation values of the layers of the network (for the data points the in the batch)\n",
        "    true_label: ndarray\n",
        "      true label values of each of the data points in the batch\n",
        "    weight: ndarray\n",
        "      By default weight = weights populated in the network\n",
        "      But we can pass a custom weight matrix to perfom back propogation\n",
        "\n",
        "    Returns:\n",
        "    -------\n",
        "    del_w: ndarray\n",
        "    del_b: ndarray\n",
        "    \"\"\"\n",
        "    if(use_custom_weight_matrix == False):\n",
        "      weight = self.weight\n",
        "    \n",
        "    del_a = [None] * (self.L+1)\n",
        "    del_h = [None] * (self.L+1)\n",
        "    del_w = [None] * (self.L+1)\n",
        "    del_b = [None] * (self.L+1)\n",
        "    \n",
        "    #computing del_a_l\n",
        "    del_a[-1] = h[-1].copy()\n",
        "    row_ind = np.arange(true_label.shape[0]) #creating numbers 0 to batch size (for row indices)\n",
        "    del_a[-1][row_ind,true_label] -= 1\n",
        "\n",
        "    for k in range(self.L, 0, -1):\n",
        "      #computing gradients w.r.t parameters\n",
        "      del_w[k] = np.dot(del_a[k].T, h[k-1])\n",
        "      del_b[k] = np.sum(del_a[k], axis=0)\n",
        "\n",
        "      #computing gradients w.r.t layer below (post-activation)\n",
        "      del_h[k-1] = np.dot(del_a[k],weight[k])\n",
        "\n",
        "      #computing gradients w.r.t layer below (pre-activation)\n",
        "      del_a[k-1] = del_h[k-1] * df_activation_function(a[k-1], self.activation_func)\n",
        "    \n",
        "    #setting the 0-th index to some random array of (1,1)\n",
        "    #so that it won't cause dimention mismatch\n",
        "    del_w[0] = np.random.rand(1,1)\n",
        "    del_b[0] = np.random.rand(1,1)\n",
        "    return np.array(del_w, dtype=object), np.array(del_b, dtype=object)\n",
        "\n",
        "\n",
        "  def fit(self, x_train, y_train, x_validation, y_validation): \n",
        "    self.data_size = x_train.shape[0]\n",
        "    no_of_batches = self.data_size // self.batch_size\n",
        "\n",
        "    training_error_list = []\n",
        "    validation_error_list = []\n",
        "    training_accuracy = []\n",
        "    validation_accuracy = []\n",
        "\n",
        "    if(self.optimization_algorithm == OptimizationAlgorithm.GD):\n",
        "      for i in range(self.max_epoch):\n",
        "        a, h = self.forward_propogation(x_train)\n",
        "        del_w, del_b = self.backward_propogation(a, h, y_train) \n",
        "\n",
        "        if(self.activation_func == ActivationFunction.RELU):\n",
        "          #dividing by the batch size\n",
        "          del_w /= self.data_size\n",
        "          del_b /= self.data_size\n",
        "        self.weight -= self.learning_rate * del_w\n",
        "        self.bias -= self.learning_rate * del_b\n",
        "        err = calc_total_error(h[-1], y_train, self.error_calculation) / self.data_size \n",
        "        training_error_list.append(err)\n",
        "        _, h_val = self.forward_propogation(x_validation)\n",
        "        validation_error_list.append(calc_total_error(h_val[-1], y_validation, self.error_calculation) / y_validation.size)\n",
        "        acc = self.calc_accuracy(x_train, y_train)\n",
        "        training_accuracy.append(acc)\n",
        "        validation_accuracy.append(self.calc_accuracy(x_validation, y_validation))\n",
        "        print(\"Completed epoch : {} \\t Error: {} \\t Accuracy: {}\".format(i+1, err, acc))\n",
        "    \n",
        "    if(self.optimization_algorithm == OptimizationAlgorithm.MINI_BATCH):\n",
        "      for i in range(self.max_epoch):\n",
        "        err = 0\n",
        "        for j in range(no_of_batches+1): \n",
        "          begin = j * self.batch_size\n",
        "          end = begin + self.batch_size\n",
        "          if(end > self.data_size):\n",
        "            end = self.data_size\n",
        "\n",
        "          a, h = self.forward_propogation(x_train[begin:end])\n",
        "          del_w, del_b = self.backward_propogation(a, h, y_train[begin:end])\n",
        "\n",
        "          self.weight -= self.learning_rate * del_w\n",
        "          self.bias -= self.learning_rate * del_b\n",
        "          err += calc_total_error(h[-1], y_train[begin:end], self.error_calculation)\n",
        "        err /= self.data_size\n",
        "        training_error_list.append(err)\n",
        "        _, h_val = self.forward_propogation(x_validation)\n",
        "        validation_error_list.append(calc_total_error(h_val[-1], y_validation, self.error_calculation) / y_validation.size)\n",
        "        acc = self.calc_accuracy(x_train, y_train)\n",
        "        training_accuracy.append(acc)\n",
        "        validation_accuracy.append(self.calc_accuracy(x_validation, y_validation))\n",
        "        print(\"Completed epoch : {} \\t Error: {} \\t Accuracy: {}\".format(i+1, err, acc))\n",
        "    \n",
        "    if(self.optimization_algorithm == OptimizationAlgorithm.SGD): #same as above code, but with batch size = 1\n",
        "      self.batch_size = 1\n",
        "      no_of_batches = self.data_size // self.batch_size\n",
        "      for i in range(self.max_epoch):\n",
        "        err = 0\n",
        "        for j in range(no_of_batches+1): \n",
        "          begin = j * self.batch_size\n",
        "          end = begin + self.batch_size\n",
        "          if(end > self.data_size):\n",
        "            end = self.data_size\n",
        "\n",
        "          a, h = self.forward_propogation(x_train[begin:end])\n",
        "          del_w, del_b = self.backward_propogation(a, h, y_train[begin:end])\n",
        "\n",
        "          self.weight -= self.learning_rate * del_w\n",
        "          self.bias -= self.learning_rate * del_b\n",
        "          err += calc_total_error(h[-1], y_train[begin:end], self.error_calculation)\n",
        "        err /= self.data_size\n",
        "        training_error_list.append(err)\n",
        "        _, h_val = self.forward_propogation(x_validation)\n",
        "        validation_error_list.append(calc_total_error(h_val[-1], y_validation, self.error_calculation) / y_validation.size)\n",
        "        acc = self.calc_accuracy(x_train, y_train)\n",
        "        training_accuracy.append(acc)\n",
        "        validation_accuracy.append(self.calc_accuracy(x_validation, y_validation))\n",
        "        print(\"Completed epoch : {} \\t Error: {} \\t Accuracy: {}\".format(i+1, err, acc))\n",
        "    \n",
        "    if(self.optimization_algorithm == OptimizationAlgorithm.MOMENTUM_GD):\n",
        "      prev_moment_w, prev_moment_b = self.init_prev_moments()\n",
        "      for i in range(self.max_epoch):\n",
        "        err = 0\n",
        "        for j in range(no_of_batches+1):\n",
        "          begin = j * self.batch_size\n",
        "          end = begin + self.batch_size\n",
        "          if(end > self.data_size):\n",
        "            end = self.data_size\n",
        "          \n",
        "          a, h = self.forward_propogation(x_train[begin:end])\n",
        "          del_w, del_b = self.backward_propogation(a, h, y_train[begin:end])\n",
        "\n",
        "          prev_moment_w = self.momentum * prev_moment_w + (1 - self.momentum) * del_w\n",
        "          prev_moment_b = self.momentum * prev_moment_b + (1 - self.momentum) * del_b\n",
        "\n",
        "          self.weight -= self.learning_rate * prev_moment_w\n",
        "          self.bias -= self.learning_rate * prev_moment_b\n",
        "          err += calc_total_error(h[-1], y_train[begin:end], self.error_calculation)\n",
        "        err /= self.data_size\n",
        "        training_error_list.append(err)\n",
        "        _, h_val = self.forward_propogation(x_validation)\n",
        "        validation_error_list.append(calc_total_error(h_val[-1], y_validation, self.error_calculation) / y_validation.size)\n",
        "        acc = self.calc_accuracy(x_train, y_train)\n",
        "        training_accuracy.append(acc)\n",
        "        validation_accuracy.append(self.calc_accuracy(x_validation, y_validation))\n",
        "        print(\"Completed epoch : {} \\t Error: {} \\t Accuracy: {}\".format(i+1, err, acc))\n",
        "\n",
        "    if(self.optimization_algorithm == OptimizationAlgorithm.NAG):\n",
        "      prev_moment_w, prev_moment_b = self.init_prev_moments()\n",
        "      for i in range(self.max_epoch):\n",
        "        err = 0\n",
        "        for j in range(no_of_batches+1):\n",
        "          begin = j * self.batch_size\n",
        "          end = begin + self.batch_size\n",
        "          if(end > self.data_size):\n",
        "            end = self.data_size\n",
        "          \n",
        "          a, h = self.forward_propogation(x_train[begin:end])\n",
        "          w_lookahead = self.weight - self.momentum * prev_moment_w\n",
        "          del_w_lookahead, del_b = self.backward_propogation(a, h, y_train[begin:end],weight=w_lookahead, use_custom_weight_matrix=True)\n",
        "\n",
        "          prev_moment_w = self.momentum * prev_moment_w + (1 - self.momentum) * del_w_lookahead\n",
        "          prev_moment_b = self.momentum * prev_moment_b + (1 - self.momentum) * del_b\n",
        "\n",
        "          self.weight -= self.learning_rate * prev_moment_w\n",
        "          self.bias -= self.learning_rate * prev_moment_b\n",
        "          err += calc_total_error(h[-1], y_train[begin:end], self.error_calculation)\n",
        "        err /= self.data_size\n",
        "        training_error_list.append(err)\n",
        "        _, h_val = self.forward_propogation(x_validation)\n",
        "        validation_error_list.append(calc_total_error(h_val[-1], y_validation, self.error_calculation) / y_validation.size)\n",
        "        acc = self.calc_accuracy(x_train, y_train)\n",
        "        training_accuracy.append(acc)\n",
        "        validation_accuracy.append(self.calc_accuracy(x_validation, y_validation))\n",
        "        print(\"Completed epoch : {} \\t Error: {} \\t Accuracy: {}\".format(i+1, err, acc))\n",
        "\n",
        "    if(self.optimization_algorithm == OptimizationAlgorithm.RMS_PROP):\n",
        "      eta = 1e-7 #a very small constant \n",
        "      prev_update_w, prev_update_b = self.init_prev_moments()\n",
        "      for i in range(self.max_epoch):\n",
        "        err = 0\n",
        "        for j in range(no_of_batches+1):\n",
        "          begin = j * self.batch_size\n",
        "          end = begin + self.batch_size\n",
        "          if(end > self.data_size):\n",
        "            end = self.data_size\n",
        "          \n",
        "          a, h = self.forward_propogation(x_train[begin:end])\n",
        "          del_w, del_b = self.backward_propogation(a, h, y_train[begin:end])\n",
        "\n",
        "          prev_update_w = self.decay_rate_for_update * prev_update_w + (1 - self.decay_rate_for_update) * np.square(del_w)\n",
        "          prev_update_b = self.decay_rate_for_update * prev_update_b + (1 - self.decay_rate_for_update) * np.square(del_b)\n",
        "\n",
        "          new_lr_w = self.learning_rate / (prev_update_w**0.5 + eta)\n",
        "          new_lr_b = self.learning_rate / (prev_update_b**0.5 + eta)\n",
        "\n",
        "          self.weight -= new_lr_w * del_w\n",
        "          self.bias -= new_lr_b * del_b\n",
        "\n",
        "          err += calc_total_error(h[-1], y_train[begin:end], self.error_calculation)\n",
        "        err /= self.data_size\n",
        "        training_error_list.append(err)\n",
        "        _, h_val = self.forward_propogation(x_validation)\n",
        "        validation_error_list.append(calc_total_error(h_val[-1], y_validation, self.error_calculation) / y_validation.size)\n",
        "        acc = self.calc_accuracy(x_train, y_train)\n",
        "        training_accuracy.append(acc)\n",
        "        validation_accuracy.append(self.calc_accuracy(x_validation, y_validation))\n",
        "        print(\"Completed epoch : {} \\t Error: {} \\t Accuracy: {}\".format(i+1, err, acc))\n",
        "    \n",
        "    if(self.optimization_algorithm == OptimizationAlgorithm.ADAM):\n",
        "      eta = 1e-8 #a very small constant \n",
        "      prev_moment_w, prev_moment_b = self.init_prev_moments()\n",
        "      prev_update_w, prev_update_b = prev_moment_w.copy(), prev_moment_b.copy()\n",
        "      for i in range(self.max_epoch):\n",
        "        err = 0\n",
        "        for j in range(no_of_batches+1):\n",
        "          begin = j * self.batch_size\n",
        "          end = begin + self.batch_size\n",
        "          if(end > self.data_size):\n",
        "            end = self.data_size\n",
        "          \n",
        "          a, h = self.forward_propogation(x_train[begin:end])\n",
        "          del_w, del_b = self.backward_propogation(a, h, y_train[begin:end])\n",
        "\n",
        "          prev_moment_w = self.momentum * prev_moment_w + (1 - self.momentum) * del_w\n",
        "          prev_w_hat = prev_moment_w / (1 - self.momentum)\n",
        "          prev_moment_b = self.momentum * prev_moment_b + (1 - self.momentum) * del_b\n",
        "          prev_b_hat = prev_moment_b / (1 - self.momentum)\n",
        "\n",
        "          prev_update_w = self.momentum * prev_update_w + (1 - self.momentum) * np.square(del_w)\n",
        "          prev_update_m_hat = prev_update_w / (1 - self.momentum)\n",
        "          prev_update_b = self.momentum * prev_update_b + (1 - self.momentum) * np.square(del_b)\n",
        "          prev_update_b_hat = prev_update_b / (1 - self.momentum)\n",
        "\n",
        "          new_lr_w = self.learning_rate / (prev_update_m_hat**0.5 + eta)\n",
        "          new_lr_b = self.learning_rate / (prev_update_b_hat**0.5 + eta)\n",
        "\n",
        "          self.weight -= new_lr_w * prev_w_hat\n",
        "          self.bias -= new_lr_b * prev_b_hat\n",
        "          err += calc_total_error(h[-1], y_train[begin:end], self.error_calculation)\n",
        "        err /= self.data_size\n",
        "        training_error_list.append(err)\n",
        "        _, h_val = self.forward_propogation(x_validation)\n",
        "        validation_error_list.append(calc_total_error(h_val[-1], y_validation, self.error_calculation) / y_validation.size)\n",
        "        acc = self.calc_accuracy(x_train, y_train)\n",
        "        training_accuracy.append(acc)\n",
        "        validation_accuracy.append(self.calc_accuracy(x_validation, y_validation))\n",
        "        print(\"Completed epoch : {} \\t Error: {} \\t Accuracy: {}\".format(i+1, err, acc))\n",
        "      \n",
        "    if(self.optimization_algorithm == OptimizationAlgorithm.NADAM):\n",
        "      eta = 1e-8 #a very small constant \n",
        "      prev_moment_w, prev_moment_b = self.init_prev_moments()\n",
        "      prev_update_w, prev_update_b = prev_moment_w.copy(), prev_moment_b.copy()\n",
        "\n",
        "      for i in range(self.max_epoch):\n",
        "        err = 0\n",
        "        for j in range(no_of_batches+1):\n",
        "          begin = j * self.batch_size\n",
        "          end = begin + self.batch_size\n",
        "          if(end > self.data_size):\n",
        "            end = self.data_size\n",
        "          \n",
        "          a, h = self.forward_propogation(x_train[begin:end])\n",
        "          del_w, del_b = self.backward_propogation(a, h, y_train[begin:end])\n",
        "\n",
        "          prev_moment_w = self.momentum * prev_moment_w + (1 - self.momentum) * del_w\n",
        "          prev_w_hat = prev_moment_w / (1 - self.momentum)\n",
        "          prev_moment_b = self.momentum * prev_moment_b + (1 - self.momentum) * del_b\n",
        "          prev_b_hat = prev_moment_b / (1 - self.momentum)\n",
        "\n",
        "          prev_update_w = self.decay_rate_for_update * prev_update_w + (1 - self.decay_rate_for_update) * np.square(del_w)\n",
        "          prev_update_m_hat = prev_update_w / (1 - self.decay_rate_for_update)\n",
        "          prev_update_b = self.decay_rate_for_update * prev_update_b + (1 - self.decay_rate_for_update) * np.square(del_b)\n",
        "          prev_update_b_hat = prev_update_b / (1 - self.decay_rate_for_update)\n",
        "\n",
        "          new_lr_w = self.learning_rate / (prev_update_m_hat**0.5 + eta)\n",
        "          new_lr_b = self.learning_rate / (prev_update_b_hat**0.5 + eta)\n",
        "\n",
        "          self.weight -= new_lr_w * (self.momentum * prev_w_hat + (((1/self.momentum) * del_w) / (1-self.momentum)))\n",
        "          self.bias -= new_lr_b * (self.momentum * prev_b_hat + (((1/self.momentum) * del_b) / (1-self.momentum)))\n",
        "          err += calc_total_error(h[-1], y_train[begin:end], self.error_calculation)\n",
        "        err /= self.data_size\n",
        "        training_error_list.append(err)\n",
        "        _, h_val = self.forward_propogation(x_validation)\n",
        "        validation_error_list.append(calc_total_error(h_val[-1], y_validation, self.error_calculation) / y_validation.size)\n",
        "        acc = self.calc_accuracy(x_train, y_train)\n",
        "        training_accuracy.append(acc)\n",
        "        validation_accuracy.append(self.calc_accuracy(x_validation, y_validation))\n",
        "        print(\"Completed epoch : {} \\t Error: {} \\t Accuracy: {}\".format(i+1, err, acc))\n",
        "\n",
        "    return training_error_list, validation_error_list, training_accuracy, validation_accuracy\n",
        "\n",
        "        \n",
        "\n",
        "  def calc_accuracy(self, x_test, y_test):\n",
        "    _ , h = self.forward_propogation(x_test)\n",
        "    predicted_distribution = h[-1]\n",
        "    return np.sum(np.argmax(predicted_distribution, axis=1) == y_test) / y_test.size"
      ]
    },
    {
      "cell_type": "markdown",
      "metadata": {
        "id": "AZ35jZd2e7Jr"
      },
      "source": [
        "# Models"
      ]
    },
    {
      "cell_type": "code",
      "execution_count": null,
      "metadata": {
        "colab": {
          "base_uri": "https://localhost:8080/",
          "height": 1000,
          "referenced_widgets": [
            "5f957184299c4cd787a6b2fabc6468f2",
            "67610e85de554dcc9874e12df58ada08",
            "a10e1045b40c4190a00e400e08fdccd8",
            "5fbbdfcf590247a8b2b2315fc01f5688",
            "5563ef53f1864b1bb39b9e6736ac4b6c",
            "f399691303ac4894a3d3f9d5a4c5d966",
            "f914df6b743146aeb30d861b660196a6",
            "5192abfa0df24d13a95424578b9cbbbf",
            "1aaadc33b43c4708affc6079446099cb",
            "bb8f379b63154269a9f4100df5da9cc3",
            "9063b614fe7446a4abe88f4f9b7afde8",
            "915b1cb72f324679b1dcbed31921602f",
            "fec0f43bf4c74f119739ee9ba97aadb9",
            "bd1c35d2abc04e1ebafb4c052c637eac",
            "1366f2157adc4dbfbc07b8cd634ff8cd",
            "c2c26dfb3c554d17a31d99e9ab9981ca",
            "1fc1f6aa37294ceda014bdae67b101dd",
            "9bd26231e9e446a294c3904a0afd99af",
            "da8d4617203d423ba655b4563789a0ca",
            "a27a78d8235d42ada5e24e71b1cb9da0",
            "aff4cb5e44eb42a58ac09dc3ec2d275f",
            "401c345eb4a5491689ae11e39910e2c2",
            "6c2f54a713c743f2a9583fee3c9345e6",
            "91418c664c5d449087559325e1fb988d",
            "7cc217e28af040ceacf9ed2c489daae2",
            "994d3ebc0e1946e58f2ffa82c3f02605",
            "413f096faf224315bcbc5be8e2f9bdad",
            "237bd7d31c9c44ff82d5018753eeb987",
            "afb3e28a966f4849a554f421e7fb7a55",
            "d0007a71d6094d7194e4f145a271554a",
            "ee15149029c54646b1a6e00d856224c1",
            "d9f1edf87b994565817a2a16a7564425",
            "b6ccff2843cd466bafbdfde9d1c9330a",
            "1e6a055f1ff842ea8e91e2c1a7893df6",
            "9d9a547f775c424c9eca5ed7d45941a0",
            "fc8f2a1696d9411a9fededf6fdfbf1b2",
            "4bb7e91f2eb743ccbf7fdf0c76d3ff3b",
            "d0422c10fcdd402aab56d386867d1d3f",
            "291ef5e1abae4a47a400130639027e25",
            "57386386cd52482894fd60bc1a745b5a",
            "1e6d87b8f96840d6b4522b749e6168ec",
            "1b5f3836a9aa46b49423a6eea8dd996b",
            "79bba78858794cf6bd02b21700672da9",
            "3a7a7c8ef9db4aac8efd4ce44cb33e32",
            "e35f4576673f47019036ee284227982d",
            "db776aac00d1472bb5e4bdaa347346d3",
            "5bd7d07bc8ef42eaa29b163ac2747631",
            "ab5937b7ec334380b58f48125c3e1d45",
            "9c72ec73fda644238350f1cf39dce01a",
            "e9d77d482d534a18b13888e60f0c0010",
            "ea473ff284544f1fb5b5044b92442cbe",
            "f76a02fc2b9b4a33bd3cc6f170d09df6",
            "c2a4005e5ec4431a82ce79af8c191caa",
            "72b65012e91f4637ac6f2ecc413f4330",
            "a58f53c2b2104762b6278d17688e611b",
            "c5cca55d6947478c9ec6cb5983c5d7ba",
            "60f6cab862fa4bb2a60801148f5192df",
            "6b982a0cc5634976b52c1366f96b0d15",
            "38fed51678154f13816389f51d3e0070",
            "a541e75121fb40b78c9dbaf07fcc8fc9",
            "df4b77aa34e6473c806ec4a143a8dc36",
            "a80dffa616d74cf9a038fca247bd051d",
            "c19af268dcd84ebd993002ec90b8e6cb",
            "3bf36ae9c3bd411db2871288547c872b"
          ]
        },
        "id": "UMwVEtk2rXhA",
        "outputId": "7f0088b4-0481-4b3a-8965-1ece59d4b5c3"
      },
      "outputs": [
        {
          "data": {
            "application/javascript": "\n        window._wandbApiKey = new Promise((resolve, reject) => {\n            function loadScript(url) {\n            return new Promise(function(resolve, reject) {\n                let newScript = document.createElement(\"script\");\n                newScript.onerror = reject;\n                newScript.onload = resolve;\n                document.body.appendChild(newScript);\n                newScript.src = url;\n            });\n            }\n            loadScript(\"https://cdn.jsdelivr.net/npm/postmate/build/postmate.min.js\").then(() => {\n            const iframe = document.createElement('iframe')\n            iframe.style.cssText = \"width:0;height:0;border:none\"\n            document.body.appendChild(iframe)\n            const handshake = new Postmate({\n                container: iframe,\n                url: 'https://wandb.ai/authorize'\n            });\n            const timeout = setTimeout(() => reject(\"Couldn't auto authenticate\"), 5000)\n            handshake.then(function(child) {\n                child.on('authorize', data => {\n                    clearTimeout(timeout)\n                    resolve(data)\n                });\n            });\n            })\n        });\n    ",
            "text/plain": [
              "<IPython.core.display.Javascript object>"
            ]
          },
          "metadata": {},
          "output_type": "display_data"
        },
        {
          "name": "stderr",
          "output_type": "stream",
          "text": [
            "\u001b[34m\u001b[1mwandb\u001b[0m: Appending key for api.wandb.ai to your netrc file: /root/.netrc\n"
          ]
        },
        {
          "name": "stdout",
          "output_type": "stream",
          "text": [
            "Create sweep with ID: 7huwnh46\n",
            "Sweep URL: https://wandb.ai/madhes23/CS6910_Assignment-1/sweeps/7huwnh46\n"
          ]
        },
        {
          "name": "stderr",
          "output_type": "stream",
          "text": [
            "\u001b[34m\u001b[1mwandb\u001b[0m: Agent Starting Run: 1p6qy2dr with config:\n",
            "\u001b[34m\u001b[1mwandb\u001b[0m: \tactivation_function: tanh\n",
            "\u001b[34m\u001b[1mwandb\u001b[0m: \tbatch_size: 16\n",
            "\u001b[34m\u001b[1mwandb\u001b[0m: \thidden_layers: 6\n",
            "\u001b[34m\u001b[1mwandb\u001b[0m: \tinitialization_method: uniform_xav\n",
            "\u001b[34m\u001b[1mwandb\u001b[0m: \tlearning_rate: 0.0001\n",
            "\u001b[34m\u001b[1mwandb\u001b[0m: \tmax_epoch: 10\n",
            "\u001b[34m\u001b[1mwandb\u001b[0m: \tneurons_per_hidden_layer: 64\n",
            "\u001b[34m\u001b[1mwandb\u001b[0m: \toptimization_algorithm: adam\n",
            "\u001b[34m\u001b[1mwandb\u001b[0m: Currently logged in as: \u001b[33mmadhes23\u001b[0m. Use \u001b[1m`wandb login --relogin`\u001b[0m to force relogin\n"
          ]
        },
        {
          "data": {
            "text/html": [
              "Tracking run with wandb version 0.13.11"
            ],
            "text/plain": [
              "<IPython.core.display.HTML object>"
            ]
          },
          "metadata": {},
          "output_type": "display_data"
        },
        {
          "data": {
            "text/html": [
              "Run data is saved locally in <code>/content/wandb/run-20230310_114753-1p6qy2dr</code>"
            ],
            "text/plain": [
              "<IPython.core.display.HTML object>"
            ]
          },
          "metadata": {},
          "output_type": "display_data"
        },
        {
          "data": {
            "text/html": [
              "Syncing run <strong><a href='https://wandb.ai/madhes23/CS6910_Assignment-1/runs/1p6qy2dr' target=\"_blank\">faithful-sweep-1</a></strong> to <a href='https://wandb.ai/madhes23/CS6910_Assignment-1' target=\"_blank\">Weights & Biases</a> (<a href='https://wandb.me/run' target=\"_blank\">docs</a>)<br/>Sweep page: <a href='https://wandb.ai/madhes23/CS6910_Assignment-1/sweeps/7huwnh46' target=\"_blank\">https://wandb.ai/madhes23/CS6910_Assignment-1/sweeps/7huwnh46</a>"
            ],
            "text/plain": [
              "<IPython.core.display.HTML object>"
            ]
          },
          "metadata": {},
          "output_type": "display_data"
        },
        {
          "data": {
            "text/html": [
              " View project at <a href='https://wandb.ai/madhes23/CS6910_Assignment-1' target=\"_blank\">https://wandb.ai/madhes23/CS6910_Assignment-1</a>"
            ],
            "text/plain": [
              "<IPython.core.display.HTML object>"
            ]
          },
          "metadata": {},
          "output_type": "display_data"
        },
        {
          "data": {
            "text/html": [
              " View sweep at <a href='https://wandb.ai/madhes23/CS6910_Assignment-1/sweeps/7huwnh46' target=\"_blank\">https://wandb.ai/madhes23/CS6910_Assignment-1/sweeps/7huwnh46</a>"
            ],
            "text/plain": [
              "<IPython.core.display.HTML object>"
            ]
          },
          "metadata": {},
          "output_type": "display_data"
        },
        {
          "data": {
            "text/html": [
              " View run at <a href='https://wandb.ai/madhes23/CS6910_Assignment-1/runs/1p6qy2dr' target=\"_blank\">https://wandb.ai/madhes23/CS6910_Assignment-1/runs/1p6qy2dr</a>"
            ],
            "text/plain": [
              "<IPython.core.display.HTML object>"
            ]
          },
          "metadata": {},
          "output_type": "display_data"
        },
        {
          "name": "stdout",
          "output_type": "stream",
          "text": [
            "Completed epoch : 1 \t Error: 0.7498920183924178 \t Accuracy: 0.7973333333333333\n",
            "Completed epoch : 2 \t Error: 0.47103314556276005 \t Accuracy: 0.8378958333333333\n",
            "Completed epoch : 3 \t Error: 0.41546255434058266 \t Accuracy: 0.850125\n",
            "Completed epoch : 4 \t Error: 0.3820059940076875 \t Accuracy: 0.8632291666666667\n",
            "Completed epoch : 5 \t Error: 0.35977404997448487 \t Accuracy: 0.8692708333333333\n",
            "Completed epoch : 6 \t Error: 0.34413240824591074 \t Accuracy: 0.8729583333333333\n",
            "Completed epoch : 7 \t Error: 0.3318314986375744 \t Accuracy: 0.8773333333333333\n",
            "Completed epoch : 8 \t Error: 0.32173485555587455 \t Accuracy: 0.8820625\n",
            "Completed epoch : 9 \t Error: 0.31345442153041664 \t Accuracy: 0.886375\n",
            "Completed epoch : 10 \t Error: 0.30531263570878986 \t Accuracy: 0.8903541666666667\n"
          ]
        },
        {
          "data": {
            "text/html": [
              "Waiting for W&B process to finish... <strong style=\"color:green\">(success).</strong>"
            ],
            "text/plain": [
              "<IPython.core.display.HTML object>"
            ]
          },
          "metadata": {},
          "output_type": "display_data"
        },
        {
          "data": {
            "application/vnd.jupyter.widget-view+json": {
              "model_id": "5f957184299c4cd787a6b2fabc6468f2",
              "version_major": 2,
              "version_minor": 0
            },
            "text/plain": [
              "VBox(children=(Label(value='0.001 MB of 0.001 MB uploaded (0.000 MB deduped)\\r'), FloatProgress(value=1.0, max…"
            ]
          },
          "metadata": {},
          "output_type": "display_data"
        },
        {
          "data": {
            "text/html": [
              "<style>\n",
              "    table.wandb td:nth-child(1) { padding: 0 10px; text-align: left ; width: auto;} td:nth-child(2) {text-align: left ; width: 100%}\n",
              "    .wandb-row { display: flex; flex-direction: row; flex-wrap: wrap; justify-content: flex-start; width: 100% }\n",
              "    .wandb-col { display: flex; flex-direction: column; flex-basis: 100%; flex: 1; padding: 10px; }\n",
              "    </style>\n",
              "<div class=\"wandb-row\"><div class=\"wandb-col\"><h3>Run history:</h3><br/><table class=\"wandb\"><tr><td>accuracy</td><td>▁</td></tr><tr><td>epoch</td><td>▁▂▃▃▄▅▆▆▇█</td></tr><tr><td>tr_acc</td><td>▁▄▅▆▆▇▇▇██</td></tr><tr><td>tr_err</td><td>█▄▃▂▂▂▁▁▁▁</td></tr><tr><td>val_acc</td><td>▁▄▅▇▇▇▇███</td></tr><tr><td>val_err</td><td>█▅▄▂▂▂▂▂▁▁</td></tr></table><br/></div><div class=\"wandb-col\"><h3>Run summary:</h3><br/><table class=\"wandb\"><tr><td>accuracy</td><td>0.874</td></tr><tr><td>epoch</td><td>10</td></tr><tr><td>tr_acc</td><td>0.89035</td></tr><tr><td>tr_err</td><td>0.30531</td></tr><tr><td>val_acc</td><td>0.874</td></tr><tr><td>val_err</td><td>0.37038</td></tr></table><br/></div></div>"
            ],
            "text/plain": [
              "<IPython.core.display.HTML object>"
            ]
          },
          "metadata": {},
          "output_type": "display_data"
        },
        {
          "data": {
            "text/html": [
              " View run <strong style=\"color:#cdcd00\">faithful-sweep-1</strong> at: <a href='https://wandb.ai/madhes23/CS6910_Assignment-1/runs/1p6qy2dr' target=\"_blank\">https://wandb.ai/madhes23/CS6910_Assignment-1/runs/1p6qy2dr</a><br/>Synced 5 W&B file(s), 0 media file(s), 0 artifact file(s) and 0 other file(s)"
            ],
            "text/plain": [
              "<IPython.core.display.HTML object>"
            ]
          },
          "metadata": {},
          "output_type": "display_data"
        },
        {
          "data": {
            "text/html": [
              "Find logs at: <code>./wandb/run-20230310_114753-1p6qy2dr/logs</code>"
            ],
            "text/plain": [
              "<IPython.core.display.HTML object>"
            ]
          },
          "metadata": {},
          "output_type": "display_data"
        },
        {
          "name": "stderr",
          "output_type": "stream",
          "text": [
            "\u001b[34m\u001b[1mwandb\u001b[0m: Agent Starting Run: ftm5iq5l with config:\n",
            "\u001b[34m\u001b[1mwandb\u001b[0m: \tactivation_function: tanh\n",
            "\u001b[34m\u001b[1mwandb\u001b[0m: \tbatch_size: 64\n",
            "\u001b[34m\u001b[1mwandb\u001b[0m: \thidden_layers: 5\n",
            "\u001b[34m\u001b[1mwandb\u001b[0m: \tinitialization_method: uniform_rand\n",
            "\u001b[34m\u001b[1mwandb\u001b[0m: \tlearning_rate: 0.001\n",
            "\u001b[34m\u001b[1mwandb\u001b[0m: \tmax_epoch: 5\n",
            "\u001b[34m\u001b[1mwandb\u001b[0m: \tneurons_per_hidden_layer: 128\n",
            "\u001b[34m\u001b[1mwandb\u001b[0m: \toptimization_algorithm: nadam\n"
          ]
        },
        {
          "data": {
            "text/html": [
              "Tracking run with wandb version 0.13.11"
            ],
            "text/plain": [
              "<IPython.core.display.HTML object>"
            ]
          },
          "metadata": {},
          "output_type": "display_data"
        },
        {
          "data": {
            "text/html": [
              "Run data is saved locally in <code>/content/wandb/run-20230310_115055-ftm5iq5l</code>"
            ],
            "text/plain": [
              "<IPython.core.display.HTML object>"
            ]
          },
          "metadata": {},
          "output_type": "display_data"
        },
        {
          "data": {
            "text/html": [
              "Syncing run <strong><a href='https://wandb.ai/madhes23/CS6910_Assignment-1/runs/ftm5iq5l' target=\"_blank\">rose-sweep-2</a></strong> to <a href='https://wandb.ai/madhes23/CS6910_Assignment-1' target=\"_blank\">Weights & Biases</a> (<a href='https://wandb.me/run' target=\"_blank\">docs</a>)<br/>Sweep page: <a href='https://wandb.ai/madhes23/CS6910_Assignment-1/sweeps/7huwnh46' target=\"_blank\">https://wandb.ai/madhes23/CS6910_Assignment-1/sweeps/7huwnh46</a>"
            ],
            "text/plain": [
              "<IPython.core.display.HTML object>"
            ]
          },
          "metadata": {},
          "output_type": "display_data"
        },
        {
          "data": {
            "text/html": [
              " View project at <a href='https://wandb.ai/madhes23/CS6910_Assignment-1' target=\"_blank\">https://wandb.ai/madhes23/CS6910_Assignment-1</a>"
            ],
            "text/plain": [
              "<IPython.core.display.HTML object>"
            ]
          },
          "metadata": {},
          "output_type": "display_data"
        },
        {
          "data": {
            "text/html": [
              " View sweep at <a href='https://wandb.ai/madhes23/CS6910_Assignment-1/sweeps/7huwnh46' target=\"_blank\">https://wandb.ai/madhes23/CS6910_Assignment-1/sweeps/7huwnh46</a>"
            ],
            "text/plain": [
              "<IPython.core.display.HTML object>"
            ]
          },
          "metadata": {},
          "output_type": "display_data"
        },
        {
          "data": {
            "text/html": [
              " View run at <a href='https://wandb.ai/madhes23/CS6910_Assignment-1/runs/ftm5iq5l' target=\"_blank\">https://wandb.ai/madhes23/CS6910_Assignment-1/runs/ftm5iq5l</a>"
            ],
            "text/plain": [
              "<IPython.core.display.HTML object>"
            ]
          },
          "metadata": {},
          "output_type": "display_data"
        },
        {
          "name": "stdout",
          "output_type": "stream",
          "text": [
            "Completed epoch : 1 \t Error: 2.412694833948586 \t Accuracy: 0.099875\n",
            "Completed epoch : 2 \t Error: 2.320252092114683 \t Accuracy: 0.10708333333333334\n",
            "Completed epoch : 3 \t Error: 2.3136788312621794 \t Accuracy: 0.11589583333333334\n",
            "Completed epoch : 4 \t Error: 2.3061466801104364 \t Accuracy: 0.12608333333333333\n",
            "Completed epoch : 5 \t Error: 2.3205855693800093 \t Accuracy: 0.1045\n"
          ]
        },
        {
          "data": {
            "text/html": [
              "Waiting for W&B process to finish... <strong style=\"color:green\">(success).</strong>"
            ],
            "text/plain": [
              "<IPython.core.display.HTML object>"
            ]
          },
          "metadata": {},
          "output_type": "display_data"
        },
        {
          "data": {
            "application/vnd.jupyter.widget-view+json": {
              "model_id": "1aaadc33b43c4708affc6079446099cb",
              "version_major": 2,
              "version_minor": 0
            },
            "text/plain": [
              "VBox(children=(Label(value='0.001 MB of 0.001 MB uploaded (0.000 MB deduped)\\r'), FloatProgress(value=1.0, max…"
            ]
          },
          "metadata": {},
          "output_type": "display_data"
        },
        {
          "data": {
            "text/html": [
              "<style>\n",
              "    table.wandb td:nth-child(1) { padding: 0 10px; text-align: left ; width: auto;} td:nth-child(2) {text-align: left ; width: 100%}\n",
              "    .wandb-row { display: flex; flex-direction: row; flex-wrap: wrap; justify-content: flex-start; width: 100% }\n",
              "    .wandb-col { display: flex; flex-direction: column; flex-basis: 100%; flex: 1; padding: 10px; }\n",
              "    </style>\n",
              "<div class=\"wandb-row\"><div class=\"wandb-col\"><h3>Run history:</h3><br/><table class=\"wandb\"><tr><td>accuracy</td><td>▁</td></tr><tr><td>epoch</td><td>▁▃▅▆█</td></tr><tr><td>tr_acc</td><td>▁▃▅█▂</td></tr><tr><td>tr_err</td><td>█▂▁▁▂</td></tr><tr><td>val_acc</td><td>▁▃▅█▂</td></tr><tr><td>val_err</td><td>█▇▄▁▇</td></tr></table><br/></div><div class=\"wandb-col\"><h3>Run summary:</h3><br/><table class=\"wandb\"><tr><td>accuracy</td><td>0.10467</td></tr><tr><td>epoch</td><td>5</td></tr><tr><td>tr_acc</td><td>0.1045</td></tr><tr><td>tr_err</td><td>2.32059</td></tr><tr><td>val_acc</td><td>0.10467</td></tr><tr><td>val_err</td><td>2.31977</td></tr></table><br/></div></div>"
            ],
            "text/plain": [
              "<IPython.core.display.HTML object>"
            ]
          },
          "metadata": {},
          "output_type": "display_data"
        },
        {
          "data": {
            "text/html": [
              " View run <strong style=\"color:#cdcd00\">rose-sweep-2</strong> at: <a href='https://wandb.ai/madhes23/CS6910_Assignment-1/runs/ftm5iq5l' target=\"_blank\">https://wandb.ai/madhes23/CS6910_Assignment-1/runs/ftm5iq5l</a><br/>Synced 5 W&B file(s), 0 media file(s), 0 artifact file(s) and 0 other file(s)"
            ],
            "text/plain": [
              "<IPython.core.display.HTML object>"
            ]
          },
          "metadata": {},
          "output_type": "display_data"
        },
        {
          "data": {
            "text/html": [
              "Find logs at: <code>./wandb/run-20230310_115055-ftm5iq5l/logs</code>"
            ],
            "text/plain": [
              "<IPython.core.display.HTML object>"
            ]
          },
          "metadata": {},
          "output_type": "display_data"
        },
        {
          "name": "stderr",
          "output_type": "stream",
          "text": [
            "\u001b[34m\u001b[1mwandb\u001b[0m: Agent Starting Run: lhj19gdj with config:\n",
            "\u001b[34m\u001b[1mwandb\u001b[0m: \tactivation_function: sigmoid\n",
            "\u001b[34m\u001b[1mwandb\u001b[0m: \tbatch_size: 64\n",
            "\u001b[34m\u001b[1mwandb\u001b[0m: \thidden_layers: 6\n",
            "\u001b[34m\u001b[1mwandb\u001b[0m: \tinitialization_method: uniform_rand\n",
            "\u001b[34m\u001b[1mwandb\u001b[0m: \tlearning_rate: 0.0001\n",
            "\u001b[34m\u001b[1mwandb\u001b[0m: \tmax_epoch: 10\n",
            "\u001b[34m\u001b[1mwandb\u001b[0m: \tneurons_per_hidden_layer: 64\n",
            "\u001b[34m\u001b[1mwandb\u001b[0m: \toptimization_algorithm: nag\n"
          ]
        },
        {
          "data": {
            "text/html": [
              "Tracking run with wandb version 0.13.11"
            ],
            "text/plain": [
              "<IPython.core.display.HTML object>"
            ]
          },
          "metadata": {},
          "output_type": "display_data"
        },
        {
          "data": {
            "text/html": [
              "Run data is saved locally in <code>/content/wandb/run-20230310_115227-lhj19gdj</code>"
            ],
            "text/plain": [
              "<IPython.core.display.HTML object>"
            ]
          },
          "metadata": {},
          "output_type": "display_data"
        },
        {
          "data": {
            "text/html": [
              "Syncing run <strong><a href='https://wandb.ai/madhes23/CS6910_Assignment-1/runs/lhj19gdj' target=\"_blank\">fanciful-sweep-3</a></strong> to <a href='https://wandb.ai/madhes23/CS6910_Assignment-1' target=\"_blank\">Weights & Biases</a> (<a href='https://wandb.me/run' target=\"_blank\">docs</a>)<br/>Sweep page: <a href='https://wandb.ai/madhes23/CS6910_Assignment-1/sweeps/7huwnh46' target=\"_blank\">https://wandb.ai/madhes23/CS6910_Assignment-1/sweeps/7huwnh46</a>"
            ],
            "text/plain": [
              "<IPython.core.display.HTML object>"
            ]
          },
          "metadata": {},
          "output_type": "display_data"
        },
        {
          "data": {
            "text/html": [
              " View project at <a href='https://wandb.ai/madhes23/CS6910_Assignment-1' target=\"_blank\">https://wandb.ai/madhes23/CS6910_Assignment-1</a>"
            ],
            "text/plain": [
              "<IPython.core.display.HTML object>"
            ]
          },
          "metadata": {},
          "output_type": "display_data"
        },
        {
          "data": {
            "text/html": [
              " View sweep at <a href='https://wandb.ai/madhes23/CS6910_Assignment-1/sweeps/7huwnh46' target=\"_blank\">https://wandb.ai/madhes23/CS6910_Assignment-1/sweeps/7huwnh46</a>"
            ],
            "text/plain": [
              "<IPython.core.display.HTML object>"
            ]
          },
          "metadata": {},
          "output_type": "display_data"
        },
        {
          "data": {
            "text/html": [
              " View run at <a href='https://wandb.ai/madhes23/CS6910_Assignment-1/runs/lhj19gdj' target=\"_blank\">https://wandb.ai/madhes23/CS6910_Assignment-1/runs/lhj19gdj</a>"
            ],
            "text/plain": [
              "<IPython.core.display.HTML object>"
            ]
          },
          "metadata": {},
          "output_type": "display_data"
        },
        {
          "name": "stdout",
          "output_type": "stream",
          "text": [
            "Completed epoch : 1 \t Error: 2.5879432216913627 \t Accuracy: 0.10083333333333333\n",
            "Completed epoch : 2 \t Error: 2.3036171721967644 \t Accuracy: 0.10083333333333333\n",
            "Completed epoch : 3 \t Error: 2.30361716850884 \t Accuracy: 0.10083333333333333\n",
            "Completed epoch : 4 \t Error: 2.303617164820466 \t Accuracy: 0.10083333333333333\n",
            "Completed epoch : 5 \t Error: 2.303617161131589 \t Accuracy: 0.10083333333333333\n",
            "Completed epoch : 6 \t Error: 2.303617157442178 \t Accuracy: 0.10083333333333333\n",
            "Completed epoch : 7 \t Error: 2.3036171537522017 \t Accuracy: 0.10083333333333333\n",
            "Completed epoch : 8 \t Error: 2.303617150061615 \t Accuracy: 0.10083333333333333\n",
            "Completed epoch : 9 \t Error: 2.303617146370387 \t Accuracy: 0.10083333333333333\n",
            "Completed epoch : 10 \t Error: 2.303617142678471 \t Accuracy: 0.10083333333333333\n"
          ]
        },
        {
          "data": {
            "text/html": [
              "Waiting for W&B process to finish... <strong style=\"color:green\">(success).</strong>"
            ],
            "text/plain": [
              "<IPython.core.display.HTML object>"
            ]
          },
          "metadata": {},
          "output_type": "display_data"
        },
        {
          "data": {
            "application/vnd.jupyter.widget-view+json": {
              "model_id": "1fc1f6aa37294ceda014bdae67b101dd",
              "version_major": 2,
              "version_minor": 0
            },
            "text/plain": [
              "VBox(children=(Label(value='0.001 MB of 0.001 MB uploaded (0.000 MB deduped)\\r'), FloatProgress(value=1.0, max…"
            ]
          },
          "metadata": {},
          "output_type": "display_data"
        },
        {
          "data": {
            "text/html": [
              "<style>\n",
              "    table.wandb td:nth-child(1) { padding: 0 10px; text-align: left ; width: auto;} td:nth-child(2) {text-align: left ; width: 100%}\n",
              "    .wandb-row { display: flex; flex-direction: row; flex-wrap: wrap; justify-content: flex-start; width: 100% }\n",
              "    .wandb-col { display: flex; flex-direction: column; flex-basis: 100%; flex: 1; padding: 10px; }\n",
              "    </style>\n",
              "<div class=\"wandb-row\"><div class=\"wandb-col\"><h3>Run history:</h3><br/><table class=\"wandb\"><tr><td>accuracy</td><td>▁</td></tr><tr><td>epoch</td><td>▁▂▃▃▄▅▆▆▇█</td></tr><tr><td>tr_acc</td><td>▁▁▁▁▁▁▁▁▁▁</td></tr><tr><td>tr_err</td><td>█▁▁▁▁▁▁▁▁▁</td></tr><tr><td>val_acc</td><td>▁▁▁▁▁▁▁▁▁▁</td></tr><tr><td>val_err</td><td>▁▁▁▁▁▁▁▁▁▁</td></tr></table><br/></div><div class=\"wandb-col\"><h3>Run summary:</h3><br/><table class=\"wandb\"><tr><td>accuracy</td><td>0.09667</td></tr><tr><td>epoch</td><td>10</td></tr><tr><td>tr_acc</td><td>0.10083</td></tr><tr><td>tr_err</td><td>2.30362</td></tr><tr><td>val_acc</td><td>0.09667</td></tr><tr><td>val_err</td><td>2.30454</td></tr></table><br/></div></div>"
            ],
            "text/plain": [
              "<IPython.core.display.HTML object>"
            ]
          },
          "metadata": {},
          "output_type": "display_data"
        },
        {
          "data": {
            "text/html": [
              " View run <strong style=\"color:#cdcd00\">fanciful-sweep-3</strong> at: <a href='https://wandb.ai/madhes23/CS6910_Assignment-1/runs/lhj19gdj' target=\"_blank\">https://wandb.ai/madhes23/CS6910_Assignment-1/runs/lhj19gdj</a><br/>Synced 5 W&B file(s), 0 media file(s), 0 artifact file(s) and 0 other file(s)"
            ],
            "text/plain": [
              "<IPython.core.display.HTML object>"
            ]
          },
          "metadata": {},
          "output_type": "display_data"
        },
        {
          "data": {
            "text/html": [
              "Find logs at: <code>./wandb/run-20230310_115227-lhj19gdj/logs</code>"
            ],
            "text/plain": [
              "<IPython.core.display.HTML object>"
            ]
          },
          "metadata": {},
          "output_type": "display_data"
        },
        {
          "name": "stderr",
          "output_type": "stream",
          "text": [
            "\u001b[34m\u001b[1mwandb\u001b[0m: Agent Starting Run: gxys9p6b with config:\n",
            "\u001b[34m\u001b[1mwandb\u001b[0m: \tactivation_function: sigmoid\n",
            "\u001b[34m\u001b[1mwandb\u001b[0m: \tbatch_size: 16\n",
            "\u001b[34m\u001b[1mwandb\u001b[0m: \thidden_layers: 5\n",
            "\u001b[34m\u001b[1mwandb\u001b[0m: \tinitialization_method: uniform_xav\n",
            "\u001b[34m\u001b[1mwandb\u001b[0m: \tlearning_rate: 0.001\n",
            "\u001b[34m\u001b[1mwandb\u001b[0m: \tmax_epoch: 5\n",
            "\u001b[34m\u001b[1mwandb\u001b[0m: \tneurons_per_hidden_layer: 64\n",
            "\u001b[34m\u001b[1mwandb\u001b[0m: \toptimization_algorithm: adam\n"
          ]
        },
        {
          "data": {
            "text/html": [
              "Tracking run with wandb version 0.13.11"
            ],
            "text/plain": [
              "<IPython.core.display.HTML object>"
            ]
          },
          "metadata": {},
          "output_type": "display_data"
        },
        {
          "data": {
            "text/html": [
              "Run data is saved locally in <code>/content/wandb/run-20230310_115423-gxys9p6b</code>"
            ],
            "text/plain": [
              "<IPython.core.display.HTML object>"
            ]
          },
          "metadata": {},
          "output_type": "display_data"
        },
        {
          "data": {
            "text/html": [
              "Syncing run <strong><a href='https://wandb.ai/madhes23/CS6910_Assignment-1/runs/gxys9p6b' target=\"_blank\">kind-sweep-4</a></strong> to <a href='https://wandb.ai/madhes23/CS6910_Assignment-1' target=\"_blank\">Weights & Biases</a> (<a href='https://wandb.me/run' target=\"_blank\">docs</a>)<br/>Sweep page: <a href='https://wandb.ai/madhes23/CS6910_Assignment-1/sweeps/7huwnh46' target=\"_blank\">https://wandb.ai/madhes23/CS6910_Assignment-1/sweeps/7huwnh46</a>"
            ],
            "text/plain": [
              "<IPython.core.display.HTML object>"
            ]
          },
          "metadata": {},
          "output_type": "display_data"
        },
        {
          "data": {
            "text/html": [
              " View project at <a href='https://wandb.ai/madhes23/CS6910_Assignment-1' target=\"_blank\">https://wandb.ai/madhes23/CS6910_Assignment-1</a>"
            ],
            "text/plain": [
              "<IPython.core.display.HTML object>"
            ]
          },
          "metadata": {},
          "output_type": "display_data"
        },
        {
          "data": {
            "text/html": [
              " View sweep at <a href='https://wandb.ai/madhes23/CS6910_Assignment-1/sweeps/7huwnh46' target=\"_blank\">https://wandb.ai/madhes23/CS6910_Assignment-1/sweeps/7huwnh46</a>"
            ],
            "text/plain": [
              "<IPython.core.display.HTML object>"
            ]
          },
          "metadata": {},
          "output_type": "display_data"
        },
        {
          "data": {
            "text/html": [
              " View run at <a href='https://wandb.ai/madhes23/CS6910_Assignment-1/runs/gxys9p6b' target=\"_blank\">https://wandb.ai/madhes23/CS6910_Assignment-1/runs/gxys9p6b</a>"
            ],
            "text/plain": [
              "<IPython.core.display.HTML object>"
            ]
          },
          "metadata": {},
          "output_type": "display_data"
        },
        {
          "name": "stdout",
          "output_type": "stream",
          "text": [
            "Completed epoch : 1 \t Error: 1.065727830882448 \t Accuracy: 0.703\n",
            "Completed epoch : 2 \t Error: 0.6660370262350961 \t Accuracy: 0.7796458333333334\n",
            "Completed epoch : 3 \t Error: 0.5218379359505141 \t Accuracy: 0.8555416666666666\n",
            "Completed epoch : 4 \t Error: 0.47192947510312555 \t Accuracy: 0.860375\n",
            "Completed epoch : 5 \t Error: 0.4424668166451807 \t Accuracy: 0.8604166666666667\n"
          ]
        },
        {
          "data": {
            "text/html": [
              "Waiting for W&B process to finish... <strong style=\"color:green\">(success).</strong>"
            ],
            "text/plain": [
              "<IPython.core.display.HTML object>"
            ]
          },
          "metadata": {},
          "output_type": "display_data"
        },
        {
          "data": {
            "application/vnd.jupyter.widget-view+json": {
              "model_id": "7cc217e28af040ceacf9ed2c489daae2",
              "version_major": 2,
              "version_minor": 0
            },
            "text/plain": [
              "VBox(children=(Label(value='0.001 MB of 0.009 MB uploaded (0.000 MB deduped)\\r'), FloatProgress(value=0.071894…"
            ]
          },
          "metadata": {},
          "output_type": "display_data"
        },
        {
          "data": {
            "text/html": [
              "<style>\n",
              "    table.wandb td:nth-child(1) { padding: 0 10px; text-align: left ; width: auto;} td:nth-child(2) {text-align: left ; width: 100%}\n",
              "    .wandb-row { display: flex; flex-direction: row; flex-wrap: wrap; justify-content: flex-start; width: 100% }\n",
              "    .wandb-col { display: flex; flex-direction: column; flex-basis: 100%; flex: 1; padding: 10px; }\n",
              "    </style>\n",
              "<div class=\"wandb-row\"><div class=\"wandb-col\"><h3>Run history:</h3><br/><table class=\"wandb\"><tr><td>accuracy</td><td>▁</td></tr><tr><td>epoch</td><td>▁▃▅▆█</td></tr><tr><td>tr_acc</td><td>▁▄███</td></tr><tr><td>tr_err</td><td>█▄▂▁▁</td></tr><tr><td>val_acc</td><td>▁▄███</td></tr><tr><td>val_err</td><td>█▅▂▁▁</td></tr></table><br/></div><div class=\"wandb-col\"><h3>Run summary:</h3><br/><table class=\"wandb\"><tr><td>accuracy</td><td>0.85233</td></tr><tr><td>epoch</td><td>5</td></tr><tr><td>tr_acc</td><td>0.86042</td></tr><tr><td>tr_err</td><td>0.44247</td></tr><tr><td>val_acc</td><td>0.85233</td></tr><tr><td>val_err</td><td>0.46075</td></tr></table><br/></div></div>"
            ],
            "text/plain": [
              "<IPython.core.display.HTML object>"
            ]
          },
          "metadata": {},
          "output_type": "display_data"
        },
        {
          "data": {
            "text/html": [
              " View run <strong style=\"color:#cdcd00\">kind-sweep-4</strong> at: <a href='https://wandb.ai/madhes23/CS6910_Assignment-1/runs/gxys9p6b' target=\"_blank\">https://wandb.ai/madhes23/CS6910_Assignment-1/runs/gxys9p6b</a><br/>Synced 5 W&B file(s), 0 media file(s), 0 artifact file(s) and 0 other file(s)"
            ],
            "text/plain": [
              "<IPython.core.display.HTML object>"
            ]
          },
          "metadata": {},
          "output_type": "display_data"
        },
        {
          "data": {
            "text/html": [
              "Find logs at: <code>./wandb/run-20230310_115423-gxys9p6b/logs</code>"
            ],
            "text/plain": [
              "<IPython.core.display.HTML object>"
            ]
          },
          "metadata": {},
          "output_type": "display_data"
        },
        {
          "name": "stderr",
          "output_type": "stream",
          "text": [
            "\u001b[34m\u001b[1mwandb\u001b[0m: Agent Starting Run: jrue0o1m with config:\n",
            "\u001b[34m\u001b[1mwandb\u001b[0m: \tactivation_function: relu\n",
            "\u001b[34m\u001b[1mwandb\u001b[0m: \tbatch_size: 16\n",
            "\u001b[34m\u001b[1mwandb\u001b[0m: \thidden_layers: 3\n",
            "\u001b[34m\u001b[1mwandb\u001b[0m: \tinitialization_method: uniform_xav\n",
            "\u001b[34m\u001b[1mwandb\u001b[0m: \tlearning_rate: 0.0001\n",
            "\u001b[34m\u001b[1mwandb\u001b[0m: \tmax_epoch: 10\n",
            "\u001b[34m\u001b[1mwandb\u001b[0m: \tneurons_per_hidden_layer: 64\n",
            "\u001b[34m\u001b[1mwandb\u001b[0m: \toptimization_algorithm: nadam\n"
          ]
        },
        {
          "data": {
            "text/html": [
              "Tracking run with wandb version 0.13.11"
            ],
            "text/plain": [
              "<IPython.core.display.HTML object>"
            ]
          },
          "metadata": {},
          "output_type": "display_data"
        },
        {
          "data": {
            "text/html": [
              "Run data is saved locally in <code>/content/wandb/run-20230310_115632-jrue0o1m</code>"
            ],
            "text/plain": [
              "<IPython.core.display.HTML object>"
            ]
          },
          "metadata": {},
          "output_type": "display_data"
        },
        {
          "data": {
            "text/html": [
              "Syncing run <strong><a href='https://wandb.ai/madhes23/CS6910_Assignment-1/runs/jrue0o1m' target=\"_blank\">peachy-sweep-5</a></strong> to <a href='https://wandb.ai/madhes23/CS6910_Assignment-1' target=\"_blank\">Weights & Biases</a> (<a href='https://wandb.me/run' target=\"_blank\">docs</a>)<br/>Sweep page: <a href='https://wandb.ai/madhes23/CS6910_Assignment-1/sweeps/7huwnh46' target=\"_blank\">https://wandb.ai/madhes23/CS6910_Assignment-1/sweeps/7huwnh46</a>"
            ],
            "text/plain": [
              "<IPython.core.display.HTML object>"
            ]
          },
          "metadata": {},
          "output_type": "display_data"
        },
        {
          "data": {
            "text/html": [
              " View project at <a href='https://wandb.ai/madhes23/CS6910_Assignment-1' target=\"_blank\">https://wandb.ai/madhes23/CS6910_Assignment-1</a>"
            ],
            "text/plain": [
              "<IPython.core.display.HTML object>"
            ]
          },
          "metadata": {},
          "output_type": "display_data"
        },
        {
          "data": {
            "text/html": [
              " View sweep at <a href='https://wandb.ai/madhes23/CS6910_Assignment-1/sweeps/7huwnh46' target=\"_blank\">https://wandb.ai/madhes23/CS6910_Assignment-1/sweeps/7huwnh46</a>"
            ],
            "text/plain": [
              "<IPython.core.display.HTML object>"
            ]
          },
          "metadata": {},
          "output_type": "display_data"
        },
        {
          "data": {
            "text/html": [
              " View run at <a href='https://wandb.ai/madhes23/CS6910_Assignment-1/runs/jrue0o1m' target=\"_blank\">https://wandb.ai/madhes23/CS6910_Assignment-1/runs/jrue0o1m</a>"
            ],
            "text/plain": [
              "<IPython.core.display.HTML object>"
            ]
          },
          "metadata": {},
          "output_type": "display_data"
        },
        {
          "name": "stdout",
          "output_type": "stream",
          "text": [
            "Completed epoch : 1 \t Error: 0.784089553586482 \t Accuracy: 0.792\n",
            "Completed epoch : 2 \t Error: 1.3592554471491147 \t Accuracy: 0.135375\n",
            "Completed epoch : 3 \t Error: 2.283407304191881 \t Accuracy: 0.1070625\n",
            "Completed epoch : 4 \t Error: 2.294710951879581 \t Accuracy: 0.10466666666666667\n",
            "Completed epoch : 5 \t Error: 2.2959337738307806 \t Accuracy: 0.10408333333333333\n",
            "Completed epoch : 6 \t Error: 2.296771660367804 \t Accuracy: 0.1035625\n",
            "Completed epoch : 7 \t Error: 2.29725719606991 \t Accuracy: 0.10435416666666666\n",
            "Completed epoch : 8 \t Error: 2.29744897310467 \t Accuracy: 0.10447916666666666\n",
            "Completed epoch : 9 \t Error: 2.2975595517408642 \t Accuracy: 0.10414583333333334\n",
            "Completed epoch : 10 \t Error: 2.2976350887450807 \t Accuracy: 0.10402083333333334\n"
          ]
        },
        {
          "data": {
            "text/html": [
              "Waiting for W&B process to finish... <strong style=\"color:green\">(success).</strong>"
            ],
            "text/plain": [
              "<IPython.core.display.HTML object>"
            ]
          },
          "metadata": {},
          "output_type": "display_data"
        },
        {
          "data": {
            "application/vnd.jupyter.widget-view+json": {
              "model_id": "b6ccff2843cd466bafbdfde9d1c9330a",
              "version_major": 2,
              "version_minor": 0
            },
            "text/plain": [
              "VBox(children=(Label(value='0.001 MB of 0.009 MB uploaded (0.000 MB deduped)\\r'), FloatProgress(value=0.069334…"
            ]
          },
          "metadata": {},
          "output_type": "display_data"
        },
        {
          "data": {
            "text/html": [
              "<style>\n",
              "    table.wandb td:nth-child(1) { padding: 0 10px; text-align: left ; width: auto;} td:nth-child(2) {text-align: left ; width: 100%}\n",
              "    .wandb-row { display: flex; flex-direction: row; flex-wrap: wrap; justify-content: flex-start; width: 100% }\n",
              "    .wandb-col { display: flex; flex-direction: column; flex-basis: 100%; flex: 1; padding: 10px; }\n",
              "    </style>\n",
              "<div class=\"wandb-row\"><div class=\"wandb-col\"><h3>Run history:</h3><br/><table class=\"wandb\"><tr><td>accuracy</td><td>▁</td></tr><tr><td>epoch</td><td>▁▂▃▃▄▅▆▆▇█</td></tr><tr><td>tr_acc</td><td>█▁▁▁▁▁▁▁▁▁</td></tr><tr><td>tr_err</td><td>▁▄████████</td></tr><tr><td>val_acc</td><td>█▁▁▁▁▁▁▁▁▁</td></tr><tr><td>val_err</td><td>▁█████████</td></tr></table><br/></div><div class=\"wandb-col\"><h3>Run summary:</h3><br/><table class=\"wandb\"><tr><td>accuracy</td><td>0.10025</td></tr><tr><td>epoch</td><td>10</td></tr><tr><td>tr_acc</td><td>0.10402</td></tr><tr><td>tr_err</td><td>2.29764</td></tr><tr><td>val_acc</td><td>0.10025</td></tr><tr><td>val_err</td><td>2.29982</td></tr></table><br/></div></div>"
            ],
            "text/plain": [
              "<IPython.core.display.HTML object>"
            ]
          },
          "metadata": {},
          "output_type": "display_data"
        },
        {
          "data": {
            "text/html": [
              " View run <strong style=\"color:#cdcd00\">peachy-sweep-5</strong> at: <a href='https://wandb.ai/madhes23/CS6910_Assignment-1/runs/jrue0o1m' target=\"_blank\">https://wandb.ai/madhes23/CS6910_Assignment-1/runs/jrue0o1m</a><br/>Synced 5 W&B file(s), 0 media file(s), 0 artifact file(s) and 0 other file(s)"
            ],
            "text/plain": [
              "<IPython.core.display.HTML object>"
            ]
          },
          "metadata": {},
          "output_type": "display_data"
        },
        {
          "data": {
            "text/html": [
              "Find logs at: <code>./wandb/run-20230310_115632-jrue0o1m/logs</code>"
            ],
            "text/plain": [
              "<IPython.core.display.HTML object>"
            ]
          },
          "metadata": {},
          "output_type": "display_data"
        },
        {
          "name": "stderr",
          "output_type": "stream",
          "text": [
            "\u001b[34m\u001b[1mwandb\u001b[0m: Agent Starting Run: 2lmatkay with config:\n",
            "\u001b[34m\u001b[1mwandb\u001b[0m: \tactivation_function: tanh\n",
            "\u001b[34m\u001b[1mwandb\u001b[0m: \tbatch_size: 32\n",
            "\u001b[34m\u001b[1mwandb\u001b[0m: \thidden_layers: 6\n",
            "\u001b[34m\u001b[1mwandb\u001b[0m: \tinitialization_method: uniform_xav\n",
            "\u001b[34m\u001b[1mwandb\u001b[0m: \tlearning_rate: 0.001\n",
            "\u001b[34m\u001b[1mwandb\u001b[0m: \tmax_epoch: 10\n",
            "\u001b[34m\u001b[1mwandb\u001b[0m: \tneurons_per_hidden_layer: 64\n",
            "\u001b[34m\u001b[1mwandb\u001b[0m: \toptimization_algorithm: adam\n"
          ]
        },
        {
          "data": {
            "text/html": [
              "Tracking run with wandb version 0.13.11"
            ],
            "text/plain": [
              "<IPython.core.display.HTML object>"
            ]
          },
          "metadata": {},
          "output_type": "display_data"
        },
        {
          "data": {
            "text/html": [
              "Run data is saved locally in <code>/content/wandb/run-20230310_115859-2lmatkay</code>"
            ],
            "text/plain": [
              "<IPython.core.display.HTML object>"
            ]
          },
          "metadata": {},
          "output_type": "display_data"
        },
        {
          "data": {
            "text/html": [
              "Syncing run <strong><a href='https://wandb.ai/madhes23/CS6910_Assignment-1/runs/2lmatkay' target=\"_blank\">eternal-sweep-6</a></strong> to <a href='https://wandb.ai/madhes23/CS6910_Assignment-1' target=\"_blank\">Weights & Biases</a> (<a href='https://wandb.me/run' target=\"_blank\">docs</a>)<br/>Sweep page: <a href='https://wandb.ai/madhes23/CS6910_Assignment-1/sweeps/7huwnh46' target=\"_blank\">https://wandb.ai/madhes23/CS6910_Assignment-1/sweeps/7huwnh46</a>"
            ],
            "text/plain": [
              "<IPython.core.display.HTML object>"
            ]
          },
          "metadata": {},
          "output_type": "display_data"
        },
        {
          "data": {
            "text/html": [
              " View project at <a href='https://wandb.ai/madhes23/CS6910_Assignment-1' target=\"_blank\">https://wandb.ai/madhes23/CS6910_Assignment-1</a>"
            ],
            "text/plain": [
              "<IPython.core.display.HTML object>"
            ]
          },
          "metadata": {},
          "output_type": "display_data"
        },
        {
          "data": {
            "text/html": [
              " View sweep at <a href='https://wandb.ai/madhes23/CS6910_Assignment-1/sweeps/7huwnh46' target=\"_blank\">https://wandb.ai/madhes23/CS6910_Assignment-1/sweeps/7huwnh46</a>"
            ],
            "text/plain": [
              "<IPython.core.display.HTML object>"
            ]
          },
          "metadata": {},
          "output_type": "display_data"
        },
        {
          "data": {
            "text/html": [
              " View run at <a href='https://wandb.ai/madhes23/CS6910_Assignment-1/runs/2lmatkay' target=\"_blank\">https://wandb.ai/madhes23/CS6910_Assignment-1/runs/2lmatkay</a>"
            ],
            "text/plain": [
              "<IPython.core.display.HTML object>"
            ]
          },
          "metadata": {},
          "output_type": "display_data"
        },
        {
          "name": "stdout",
          "output_type": "stream",
          "text": [
            "Completed epoch : 1 \t Error: 0.7020811472587397 \t Accuracy: 0.804\n",
            "Completed epoch : 2 \t Error: 0.5490316284230857 \t Accuracy: 0.8335208333333334\n",
            "Completed epoch : 3 \t Error: 0.5067004332301277 \t Accuracy: 0.8281666666666667\n",
            "Completed epoch : 4 \t Error: 0.48827637241441396 \t Accuracy: 0.8275833333333333\n",
            "Completed epoch : 5 \t Error: 0.4754234811734031 \t Accuracy: 0.84275\n",
            "Completed epoch : 6 \t Error: 0.4675234894794734 \t Accuracy: 0.8432083333333333\n",
            "Completed epoch : 7 \t Error: 0.46223451466079774 \t Accuracy: 0.8525208333333333\n",
            "Completed epoch : 8 \t Error: 0.4529388508426871 \t Accuracy: 0.8529583333333334\n",
            "Completed epoch : 9 \t Error: 0.44586748286343975 \t Accuracy: 0.8615833333333334\n",
            "Completed epoch : 10 \t Error: 0.43936343937857525 \t Accuracy: 0.8442291666666667\n"
          ]
        },
        {
          "data": {
            "text/html": [
              "Waiting for W&B process to finish... <strong style=\"color:green\">(success).</strong>"
            ],
            "text/plain": [
              "<IPython.core.display.HTML object>"
            ]
          },
          "metadata": {},
          "output_type": "display_data"
        },
        {
          "data": {
            "text/html": [
              "<style>\n",
              "    table.wandb td:nth-child(1) { padding: 0 10px; text-align: left ; width: auto;} td:nth-child(2) {text-align: left ; width: 100%}\n",
              "    .wandb-row { display: flex; flex-direction: row; flex-wrap: wrap; justify-content: flex-start; width: 100% }\n",
              "    .wandb-col { display: flex; flex-direction: column; flex-basis: 100%; flex: 1; padding: 10px; }\n",
              "    </style>\n",
              "<div class=\"wandb-row\"><div class=\"wandb-col\"><h3>Run history:</h3><br/><table class=\"wandb\"><tr><td>accuracy</td><td>▁</td></tr><tr><td>epoch</td><td>▁▂▃▃▄▅▆▆▇█</td></tr><tr><td>tr_acc</td><td>▁▅▄▄▆▆▇▇█▆</td></tr><tr><td>tr_err</td><td>█▄▃▂▂▂▂▁▁▁</td></tr><tr><td>val_acc</td><td>▁▄▄▃▆▅▇▇█▅</td></tr><tr><td>val_err</td><td>█▃▃▄▂▂▁▁▁▂</td></tr></table><br/></div><div class=\"wandb-col\"><h3>Run summary:</h3><br/><table class=\"wandb\"><tr><td>accuracy</td><td>0.83442</td></tr><tr><td>epoch</td><td>10</td></tr><tr><td>tr_acc</td><td>0.84423</td></tr><tr><td>tr_err</td><td>0.43936</td></tr><tr><td>val_acc</td><td>0.83442</td></tr><tr><td>val_err</td><td>0.49223</td></tr></table><br/></div></div>"
            ],
            "text/plain": [
              "<IPython.core.display.HTML object>"
            ]
          },
          "metadata": {},
          "output_type": "display_data"
        },
        {
          "data": {
            "text/html": [
              " View run <strong style=\"color:#cdcd00\">eternal-sweep-6</strong> at: <a href='https://wandb.ai/madhes23/CS6910_Assignment-1/runs/2lmatkay' target=\"_blank\">https://wandb.ai/madhes23/CS6910_Assignment-1/runs/2lmatkay</a><br/>Synced 5 W&B file(s), 0 media file(s), 0 artifact file(s) and 0 other file(s)"
            ],
            "text/plain": [
              "<IPython.core.display.HTML object>"
            ]
          },
          "metadata": {},
          "output_type": "display_data"
        },
        {
          "data": {
            "text/html": [
              "Find logs at: <code>./wandb/run-20230310_115859-2lmatkay/logs</code>"
            ],
            "text/plain": [
              "<IPython.core.display.HTML object>"
            ]
          },
          "metadata": {},
          "output_type": "display_data"
        },
        {
          "name": "stderr",
          "output_type": "stream",
          "text": [
            "\u001b[34m\u001b[1mwandb\u001b[0m: Agent Starting Run: ag8w9pei with config:\n",
            "\u001b[34m\u001b[1mwandb\u001b[0m: \tactivation_function: sigmoid\n",
            "\u001b[34m\u001b[1mwandb\u001b[0m: \tbatch_size: 64\n",
            "\u001b[34m\u001b[1mwandb\u001b[0m: \thidden_layers: 4\n",
            "\u001b[34m\u001b[1mwandb\u001b[0m: \tinitialization_method: uniform_rand\n",
            "\u001b[34m\u001b[1mwandb\u001b[0m: \tlearning_rate: 0.001\n",
            "\u001b[34m\u001b[1mwandb\u001b[0m: \tmax_epoch: 5\n",
            "\u001b[34m\u001b[1mwandb\u001b[0m: \tneurons_per_hidden_layer: 128\n",
            "\u001b[34m\u001b[1mwandb\u001b[0m: \toptimization_algorithm: rms\n"
          ]
        },
        {
          "data": {
            "text/html": [
              "Tracking run with wandb version 0.13.11"
            ],
            "text/plain": [
              "<IPython.core.display.HTML object>"
            ]
          },
          "metadata": {},
          "output_type": "display_data"
        },
        {
          "data": {
            "text/html": [
              "Run data is saved locally in <code>/content/wandb/run-20230310_120111-ag8w9pei</code>"
            ],
            "text/plain": [
              "<IPython.core.display.HTML object>"
            ]
          },
          "metadata": {},
          "output_type": "display_data"
        },
        {
          "data": {
            "text/html": [
              "Syncing run <strong><a href='https://wandb.ai/madhes23/CS6910_Assignment-1/runs/ag8w9pei' target=\"_blank\">youthful-sweep-7</a></strong> to <a href='https://wandb.ai/madhes23/CS6910_Assignment-1' target=\"_blank\">Weights & Biases</a> (<a href='https://wandb.me/run' target=\"_blank\">docs</a>)<br/>Sweep page: <a href='https://wandb.ai/madhes23/CS6910_Assignment-1/sweeps/7huwnh46' target=\"_blank\">https://wandb.ai/madhes23/CS6910_Assignment-1/sweeps/7huwnh46</a>"
            ],
            "text/plain": [
              "<IPython.core.display.HTML object>"
            ]
          },
          "metadata": {},
          "output_type": "display_data"
        },
        {
          "data": {
            "text/html": [
              " View project at <a href='https://wandb.ai/madhes23/CS6910_Assignment-1' target=\"_blank\">https://wandb.ai/madhes23/CS6910_Assignment-1</a>"
            ],
            "text/plain": [
              "<IPython.core.display.HTML object>"
            ]
          },
          "metadata": {},
          "output_type": "display_data"
        },
        {
          "data": {
            "text/html": [
              " View sweep at <a href='https://wandb.ai/madhes23/CS6910_Assignment-1/sweeps/7huwnh46' target=\"_blank\">https://wandb.ai/madhes23/CS6910_Assignment-1/sweeps/7huwnh46</a>"
            ],
            "text/plain": [
              "<IPython.core.display.HTML object>"
            ]
          },
          "metadata": {},
          "output_type": "display_data"
        },
        {
          "data": {
            "text/html": [
              " View run at <a href='https://wandb.ai/madhes23/CS6910_Assignment-1/runs/ag8w9pei' target=\"_blank\">https://wandb.ai/madhes23/CS6910_Assignment-1/runs/ag8w9pei</a>"
            ],
            "text/plain": [
              "<IPython.core.display.HTML object>"
            ]
          },
          "metadata": {},
          "output_type": "display_data"
        },
        {
          "name": "stdout",
          "output_type": "stream",
          "text": [
            "Completed epoch : 1 \t Error: 1.4242354275361597 \t Accuracy: 0.2593125\n",
            "Completed epoch : 2 \t Error: 2.0919008182766143 \t Accuracy: 0.17233333333333334\n",
            "Completed epoch : 3 \t Error: 2.1976333919013533 \t Accuracy: 0.1451875\n",
            "Completed epoch : 4 \t Error: 2.2245339244415745 \t Accuracy: 0.142375\n",
            "Completed epoch : 5 \t Error: 2.237294118070375 \t Accuracy: 0.13495833333333335\n"
          ]
        },
        {
          "data": {
            "text/html": [
              "Waiting for W&B process to finish... <strong style=\"color:green\">(success).</strong>"
            ],
            "text/plain": [
              "<IPython.core.display.HTML object>"
            ]
          },
          "metadata": {},
          "output_type": "display_data"
        },
        {
          "data": {
            "text/html": [
              "<style>\n",
              "    table.wandb td:nth-child(1) { padding: 0 10px; text-align: left ; width: auto;} td:nth-child(2) {text-align: left ; width: 100%}\n",
              "    .wandb-row { display: flex; flex-direction: row; flex-wrap: wrap; justify-content: flex-start; width: 100% }\n",
              "    .wandb-col { display: flex; flex-direction: column; flex-basis: 100%; flex: 1; padding: 10px; }\n",
              "    </style>\n",
              "<div class=\"wandb-row\"><div class=\"wandb-col\"><h3>Run history:</h3><br/><table class=\"wandb\"><tr><td>accuracy</td><td>▁</td></tr><tr><td>epoch</td><td>▁▃▅▆█</td></tr><tr><td>tr_acc</td><td>█▃▂▁▁</td></tr><tr><td>tr_err</td><td>▁▇███</td></tr><tr><td>val_acc</td><td>█▃▂▁▁</td></tr><tr><td>val_err</td><td>▁▆▇██</td></tr></table><br/></div><div class=\"wandb-col\"><h3>Run summary:</h3><br/><table class=\"wandb\"><tr><td>accuracy</td><td>0.13667</td></tr><tr><td>epoch</td><td>5</td></tr><tr><td>tr_acc</td><td>0.13496</td></tr><tr><td>tr_err</td><td>2.23729</td></tr><tr><td>val_acc</td><td>0.13667</td></tr><tr><td>val_err</td><td>2.24551</td></tr></table><br/></div></div>"
            ],
            "text/plain": [
              "<IPython.core.display.HTML object>"
            ]
          },
          "metadata": {},
          "output_type": "display_data"
        },
        {
          "data": {
            "text/html": [
              " View run <strong style=\"color:#cdcd00\">youthful-sweep-7</strong> at: <a href='https://wandb.ai/madhes23/CS6910_Assignment-1/runs/ag8w9pei' target=\"_blank\">https://wandb.ai/madhes23/CS6910_Assignment-1/runs/ag8w9pei</a><br/>Synced 5 W&B file(s), 0 media file(s), 0 artifact file(s) and 0 other file(s)"
            ],
            "text/plain": [
              "<IPython.core.display.HTML object>"
            ]
          },
          "metadata": {},
          "output_type": "display_data"
        },
        {
          "data": {
            "text/html": [
              "Find logs at: <code>./wandb/run-20230310_120111-ag8w9pei/logs</code>"
            ],
            "text/plain": [
              "<IPython.core.display.HTML object>"
            ]
          },
          "metadata": {},
          "output_type": "display_data"
        },
        {
          "name": "stderr",
          "output_type": "stream",
          "text": [
            "\u001b[34m\u001b[1mwandb\u001b[0m: Agent Starting Run: r40oqxuy with config:\n",
            "\u001b[34m\u001b[1mwandb\u001b[0m: \tactivation_function: tanh\n",
            "\u001b[34m\u001b[1mwandb\u001b[0m: \tbatch_size: 16\n",
            "\u001b[34m\u001b[1mwandb\u001b[0m: \thidden_layers: 5\n",
            "\u001b[34m\u001b[1mwandb\u001b[0m: \tinitialization_method: uniform_xav\n",
            "\u001b[34m\u001b[1mwandb\u001b[0m: \tlearning_rate: 0.0001\n",
            "\u001b[34m\u001b[1mwandb\u001b[0m: \tmax_epoch: 5\n",
            "\u001b[34m\u001b[1mwandb\u001b[0m: \tneurons_per_hidden_layer: 64\n",
            "\u001b[34m\u001b[1mwandb\u001b[0m: \toptimization_algorithm: adam\n"
          ]
        },
        {
          "data": {
            "text/html": [
              "Tracking run with wandb version 0.13.11"
            ],
            "text/plain": [
              "<IPython.core.display.HTML object>"
            ]
          },
          "metadata": {},
          "output_type": "display_data"
        },
        {
          "data": {
            "text/html": [
              "Run data is saved locally in <code>/content/wandb/run-20230310_120249-r40oqxuy</code>"
            ],
            "text/plain": [
              "<IPython.core.display.HTML object>"
            ]
          },
          "metadata": {},
          "output_type": "display_data"
        },
        {
          "data": {
            "text/html": [
              "Syncing run <strong><a href='https://wandb.ai/madhes23/CS6910_Assignment-1/runs/r40oqxuy' target=\"_blank\">confused-sweep-8</a></strong> to <a href='https://wandb.ai/madhes23/CS6910_Assignment-1' target=\"_blank\">Weights & Biases</a> (<a href='https://wandb.me/run' target=\"_blank\">docs</a>)<br/>Sweep page: <a href='https://wandb.ai/madhes23/CS6910_Assignment-1/sweeps/7huwnh46' target=\"_blank\">https://wandb.ai/madhes23/CS6910_Assignment-1/sweeps/7huwnh46</a>"
            ],
            "text/plain": [
              "<IPython.core.display.HTML object>"
            ]
          },
          "metadata": {},
          "output_type": "display_data"
        },
        {
          "data": {
            "text/html": [
              " View project at <a href='https://wandb.ai/madhes23/CS6910_Assignment-1' target=\"_blank\">https://wandb.ai/madhes23/CS6910_Assignment-1</a>"
            ],
            "text/plain": [
              "<IPython.core.display.HTML object>"
            ]
          },
          "metadata": {},
          "output_type": "display_data"
        },
        {
          "data": {
            "text/html": [
              " View sweep at <a href='https://wandb.ai/madhes23/CS6910_Assignment-1/sweeps/7huwnh46' target=\"_blank\">https://wandb.ai/madhes23/CS6910_Assignment-1/sweeps/7huwnh46</a>"
            ],
            "text/plain": [
              "<IPython.core.display.HTML object>"
            ]
          },
          "metadata": {},
          "output_type": "display_data"
        },
        {
          "data": {
            "text/html": [
              " View run at <a href='https://wandb.ai/madhes23/CS6910_Assignment-1/runs/r40oqxuy' target=\"_blank\">https://wandb.ai/madhes23/CS6910_Assignment-1/runs/r40oqxuy</a>"
            ],
            "text/plain": [
              "<IPython.core.display.HTML object>"
            ]
          },
          "metadata": {},
          "output_type": "display_data"
        },
        {
          "name": "stdout",
          "output_type": "stream",
          "text": [
            "Completed epoch : 1 \t Error: 0.680588503174691 \t Accuracy: 0.839625\n",
            "Completed epoch : 2 \t Error: 0.43026524301684255 \t Accuracy: 0.8647708333333334\n",
            "Completed epoch : 3 \t Error: 0.3887565020611375 \t Accuracy: 0.8729583333333333\n",
            "Completed epoch : 4 \t Error: 0.3651054893609923 \t Accuracy: 0.8760625\n",
            "Completed epoch : 5 \t Error: 0.3482244511174375 \t Accuracy: 0.8808333333333334\n"
          ]
        },
        {
          "data": {
            "text/html": [
              "Waiting for W&B process to finish... <strong style=\"color:green\">(success).</strong>"
            ],
            "text/plain": [
              "<IPython.core.display.HTML object>"
            ]
          },
          "metadata": {},
          "output_type": "display_data"
        },
        {
          "data": {
            "application/vnd.jupyter.widget-view+json": {
              "model_id": "1e6d87b8f96840d6b4522b749e6168ec",
              "version_major": 2,
              "version_minor": 0
            },
            "text/plain": [
              "VBox(children=(Label(value='0.001 MB of 0.001 MB uploaded (0.000 MB deduped)\\r'), FloatProgress(value=1.0, max…"
            ]
          },
          "metadata": {},
          "output_type": "display_data"
        },
        {
          "data": {
            "text/html": [
              "<style>\n",
              "    table.wandb td:nth-child(1) { padding: 0 10px; text-align: left ; width: auto;} td:nth-child(2) {text-align: left ; width: 100%}\n",
              "    .wandb-row { display: flex; flex-direction: row; flex-wrap: wrap; justify-content: flex-start; width: 100% }\n",
              "    .wandb-col { display: flex; flex-direction: column; flex-basis: 100%; flex: 1; padding: 10px; }\n",
              "    </style>\n",
              "<div class=\"wandb-row\"><div class=\"wandb-col\"><h3>Run history:</h3><br/><table class=\"wandb\"><tr><td>accuracy</td><td>▁</td></tr><tr><td>epoch</td><td>▁▃▅▆█</td></tr><tr><td>tr_acc</td><td>▁▅▇▇█</td></tr><tr><td>tr_err</td><td>█▃▂▁▁</td></tr><tr><td>val_acc</td><td>▁▅▇██</td></tr><tr><td>val_err</td><td>█▃▂▁▁</td></tr></table><br/></div><div class=\"wandb-col\"><h3>Run summary:</h3><br/><table class=\"wandb\"><tr><td>accuracy</td><td>0.87258</td></tr><tr><td>epoch</td><td>5</td></tr><tr><td>tr_acc</td><td>0.88083</td></tr><tr><td>tr_err</td><td>0.34822</td></tr><tr><td>val_acc</td><td>0.87258</td></tr><tr><td>val_err</td><td>0.36702</td></tr></table><br/></div></div>"
            ],
            "text/plain": [
              "<IPython.core.display.HTML object>"
            ]
          },
          "metadata": {},
          "output_type": "display_data"
        },
        {
          "data": {
            "text/html": [
              " View run <strong style=\"color:#cdcd00\">confused-sweep-8</strong> at: <a href='https://wandb.ai/madhes23/CS6910_Assignment-1/runs/r40oqxuy' target=\"_blank\">https://wandb.ai/madhes23/CS6910_Assignment-1/runs/r40oqxuy</a><br/>Synced 5 W&B file(s), 0 media file(s), 0 artifact file(s) and 0 other file(s)"
            ],
            "text/plain": [
              "<IPython.core.display.HTML object>"
            ]
          },
          "metadata": {},
          "output_type": "display_data"
        },
        {
          "data": {
            "text/html": [
              "Find logs at: <code>./wandb/run-20230310_120249-r40oqxuy/logs</code>"
            ],
            "text/plain": [
              "<IPython.core.display.HTML object>"
            ]
          },
          "metadata": {},
          "output_type": "display_data"
        },
        {
          "name": "stderr",
          "output_type": "stream",
          "text": [
            "\u001b[34m\u001b[1mwandb\u001b[0m: Agent Starting Run: nrm2ky35 with config:\n",
            "\u001b[34m\u001b[1mwandb\u001b[0m: \tactivation_function: sigmoid\n",
            "\u001b[34m\u001b[1mwandb\u001b[0m: \tbatch_size: 32\n",
            "\u001b[34m\u001b[1mwandb\u001b[0m: \thidden_layers: 5\n",
            "\u001b[34m\u001b[1mwandb\u001b[0m: \tinitialization_method: uniform_rand\n",
            "\u001b[34m\u001b[1mwandb\u001b[0m: \tlearning_rate: 0.001\n",
            "\u001b[34m\u001b[1mwandb\u001b[0m: \tmax_epoch: 5\n",
            "\u001b[34m\u001b[1mwandb\u001b[0m: \tneurons_per_hidden_layer: 32\n",
            "\u001b[34m\u001b[1mwandb\u001b[0m: \toptimization_algorithm: nadam\n"
          ]
        },
        {
          "data": {
            "text/html": [
              "Tracking run with wandb version 0.13.11"
            ],
            "text/plain": [
              "<IPython.core.display.HTML object>"
            ]
          },
          "metadata": {},
          "output_type": "display_data"
        },
        {
          "data": {
            "text/html": [
              "Run data is saved locally in <code>/content/wandb/run-20230310_120417-nrm2ky35</code>"
            ],
            "text/plain": [
              "<IPython.core.display.HTML object>"
            ]
          },
          "metadata": {},
          "output_type": "display_data"
        },
        {
          "data": {
            "text/html": [
              "Syncing run <strong><a href='https://wandb.ai/madhes23/CS6910_Assignment-1/runs/nrm2ky35' target=\"_blank\">comfy-sweep-9</a></strong> to <a href='https://wandb.ai/madhes23/CS6910_Assignment-1' target=\"_blank\">Weights & Biases</a> (<a href='https://wandb.me/run' target=\"_blank\">docs</a>)<br/>Sweep page: <a href='https://wandb.ai/madhes23/CS6910_Assignment-1/sweeps/7huwnh46' target=\"_blank\">https://wandb.ai/madhes23/CS6910_Assignment-1/sweeps/7huwnh46</a>"
            ],
            "text/plain": [
              "<IPython.core.display.HTML object>"
            ]
          },
          "metadata": {},
          "output_type": "display_data"
        },
        {
          "data": {
            "text/html": [
              " View project at <a href='https://wandb.ai/madhes23/CS6910_Assignment-1' target=\"_blank\">https://wandb.ai/madhes23/CS6910_Assignment-1</a>"
            ],
            "text/plain": [
              "<IPython.core.display.HTML object>"
            ]
          },
          "metadata": {},
          "output_type": "display_data"
        },
        {
          "data": {
            "text/html": [
              " View sweep at <a href='https://wandb.ai/madhes23/CS6910_Assignment-1/sweeps/7huwnh46' target=\"_blank\">https://wandb.ai/madhes23/CS6910_Assignment-1/sweeps/7huwnh46</a>"
            ],
            "text/plain": [
              "<IPython.core.display.HTML object>"
            ]
          },
          "metadata": {},
          "output_type": "display_data"
        },
        {
          "data": {
            "text/html": [
              " View run at <a href='https://wandb.ai/madhes23/CS6910_Assignment-1/runs/nrm2ky35' target=\"_blank\">https://wandb.ai/madhes23/CS6910_Assignment-1/runs/nrm2ky35</a>"
            ],
            "text/plain": [
              "<IPython.core.display.HTML object>"
            ]
          },
          "metadata": {},
          "output_type": "display_data"
        },
        {
          "name": "stdout",
          "output_type": "stream",
          "text": [
            "Completed epoch : 1 \t Error: 0.693586192138626 \t Accuracy: 0.8247916666666667\n",
            "Completed epoch : 2 \t Error: 0.4551082294733383 \t Accuracy: 0.8482708333333333\n",
            "Completed epoch : 3 \t Error: 0.4114938678780407 \t Accuracy: 0.8605416666666666\n",
            "Completed epoch : 4 \t Error: 0.38569355621716944 \t Accuracy: 0.8665416666666667\n",
            "Completed epoch : 5 \t Error: 0.3668093623314794 \t Accuracy: 0.8710208333333334\n"
          ]
        },
        {
          "data": {
            "text/html": [
              "Waiting for W&B process to finish... <strong style=\"color:green\">(success).</strong>"
            ],
            "text/plain": [
              "<IPython.core.display.HTML object>"
            ]
          },
          "metadata": {},
          "output_type": "display_data"
        },
        {
          "data": {
            "application/vnd.jupyter.widget-view+json": {
              "model_id": "9c72ec73fda644238350f1cf39dce01a",
              "version_major": 2,
              "version_minor": 0
            },
            "text/plain": [
              "VBox(children=(Label(value='0.001 MB of 0.009 MB uploaded (0.000 MB deduped)\\r'), FloatProgress(value=0.071702…"
            ]
          },
          "metadata": {},
          "output_type": "display_data"
        },
        {
          "data": {
            "text/html": [
              "<style>\n",
              "    table.wandb td:nth-child(1) { padding: 0 10px; text-align: left ; width: auto;} td:nth-child(2) {text-align: left ; width: 100%}\n",
              "    .wandb-row { display: flex; flex-direction: row; flex-wrap: wrap; justify-content: flex-start; width: 100% }\n",
              "    .wandb-col { display: flex; flex-direction: column; flex-basis: 100%; flex: 1; padding: 10px; }\n",
              "    </style>\n",
              "<div class=\"wandb-row\"><div class=\"wandb-col\"><h3>Run history:</h3><br/><table class=\"wandb\"><tr><td>accuracy</td><td>▁</td></tr><tr><td>epoch</td><td>▁▃▅▆█</td></tr><tr><td>tr_acc</td><td>▁▅▆▇█</td></tr><tr><td>tr_err</td><td>█▃▂▁▁</td></tr><tr><td>val_acc</td><td>▁▅▆▇█</td></tr><tr><td>val_err</td><td>█▄▂▁▁</td></tr></table><br/></div><div class=\"wandb-col\"><h3>Run summary:</h3><br/><table class=\"wandb\"><tr><td>accuracy</td><td>0.85767</td></tr><tr><td>epoch</td><td>5</td></tr><tr><td>tr_acc</td><td>0.87102</td></tr><tr><td>tr_err</td><td>0.36681</td></tr><tr><td>val_acc</td><td>0.85767</td></tr><tr><td>val_err</td><td>0.39541</td></tr></table><br/></div></div>"
            ],
            "text/plain": [
              "<IPython.core.display.HTML object>"
            ]
          },
          "metadata": {},
          "output_type": "display_data"
        },
        {
          "data": {
            "text/html": [
              " View run <strong style=\"color:#cdcd00\">comfy-sweep-9</strong> at: <a href='https://wandb.ai/madhes23/CS6910_Assignment-1/runs/nrm2ky35' target=\"_blank\">https://wandb.ai/madhes23/CS6910_Assignment-1/runs/nrm2ky35</a><br/>Synced 5 W&B file(s), 0 media file(s), 0 artifact file(s) and 0 other file(s)"
            ],
            "text/plain": [
              "<IPython.core.display.HTML object>"
            ]
          },
          "metadata": {},
          "output_type": "display_data"
        },
        {
          "data": {
            "text/html": [
              "Find logs at: <code>./wandb/run-20230310_120417-nrm2ky35/logs</code>"
            ],
            "text/plain": [
              "<IPython.core.display.HTML object>"
            ]
          },
          "metadata": {},
          "output_type": "display_data"
        },
        {
          "name": "stderr",
          "output_type": "stream",
          "text": [
            "\u001b[34m\u001b[1mwandb\u001b[0m: Agent Starting Run: cvvfkf1z with config:\n",
            "\u001b[34m\u001b[1mwandb\u001b[0m: \tactivation_function: relu\n",
            "\u001b[34m\u001b[1mwandb\u001b[0m: \tbatch_size: 64\n",
            "\u001b[34m\u001b[1mwandb\u001b[0m: \thidden_layers: 6\n",
            "\u001b[34m\u001b[1mwandb\u001b[0m: \tinitialization_method: uniform_rand\n",
            "\u001b[34m\u001b[1mwandb\u001b[0m: \tlearning_rate: 0.001\n",
            "\u001b[34m\u001b[1mwandb\u001b[0m: \tmax_epoch: 5\n",
            "\u001b[34m\u001b[1mwandb\u001b[0m: \tneurons_per_hidden_layer: 32\n",
            "\u001b[34m\u001b[1mwandb\u001b[0m: \toptimization_algorithm: nag\n"
          ]
        },
        {
          "data": {
            "text/html": [
              "Tracking run with wandb version 0.13.11"
            ],
            "text/plain": [
              "<IPython.core.display.HTML object>"
            ]
          },
          "metadata": {},
          "output_type": "display_data"
        },
        {
          "data": {
            "text/html": [
              "Run data is saved locally in <code>/content/wandb/run-20230310_120524-cvvfkf1z</code>"
            ],
            "text/plain": [
              "<IPython.core.display.HTML object>"
            ]
          },
          "metadata": {},
          "output_type": "display_data"
        },
        {
          "data": {
            "text/html": [
              "Syncing run <strong><a href='https://wandb.ai/madhes23/CS6910_Assignment-1/runs/cvvfkf1z' target=\"_blank\">mild-sweep-10</a></strong> to <a href='https://wandb.ai/madhes23/CS6910_Assignment-1' target=\"_blank\">Weights & Biases</a> (<a href='https://wandb.me/run' target=\"_blank\">docs</a>)<br/>Sweep page: <a href='https://wandb.ai/madhes23/CS6910_Assignment-1/sweeps/7huwnh46' target=\"_blank\">https://wandb.ai/madhes23/CS6910_Assignment-1/sweeps/7huwnh46</a>"
            ],
            "text/plain": [
              "<IPython.core.display.HTML object>"
            ]
          },
          "metadata": {},
          "output_type": "display_data"
        },
        {
          "data": {
            "text/html": [
              " View project at <a href='https://wandb.ai/madhes23/CS6910_Assignment-1' target=\"_blank\">https://wandb.ai/madhes23/CS6910_Assignment-1</a>"
            ],
            "text/plain": [
              "<IPython.core.display.HTML object>"
            ]
          },
          "metadata": {},
          "output_type": "display_data"
        },
        {
          "data": {
            "text/html": [
              " View sweep at <a href='https://wandb.ai/madhes23/CS6910_Assignment-1/sweeps/7huwnh46' target=\"_blank\">https://wandb.ai/madhes23/CS6910_Assignment-1/sweeps/7huwnh46</a>"
            ],
            "text/plain": [
              "<IPython.core.display.HTML object>"
            ]
          },
          "metadata": {},
          "output_type": "display_data"
        },
        {
          "data": {
            "text/html": [
              " View run at <a href='https://wandb.ai/madhes23/CS6910_Assignment-1/runs/cvvfkf1z' target=\"_blank\">https://wandb.ai/madhes23/CS6910_Assignment-1/runs/cvvfkf1z</a>"
            ],
            "text/plain": [
              "<IPython.core.display.HTML object>"
            ]
          },
          "metadata": {},
          "output_type": "display_data"
        },
        {
          "name": "stdout",
          "output_type": "stream",
          "text": [
            "Completed epoch : 1 \t Error: 2.4870450049263595 \t Accuracy: 0.10083333333333333\n",
            "Completed epoch : 2 \t Error: 2.3028351836398273 \t Accuracy: 0.10083333333333333\n",
            "Completed epoch : 3 \t Error: 2.3028336552088344 \t Accuracy: 0.10083333333333333\n",
            "Completed epoch : 4 \t Error: 2.3028336468253605 \t Accuracy: 0.10083333333333333\n",
            "Completed epoch : 5 \t Error: 2.3028336467774393 \t Accuracy: 0.10083333333333333\n"
          ]
        },
        {
          "data": {
            "text/html": [
              "Waiting for W&B process to finish... <strong style=\"color:green\">(success).</strong>"
            ],
            "text/plain": [
              "<IPython.core.display.HTML object>"
            ]
          },
          "metadata": {},
          "output_type": "display_data"
        },
        {
          "data": {
            "application/vnd.jupyter.widget-view+json": {
              "model_id": "60f6cab862fa4bb2a60801148f5192df",
              "version_major": 2,
              "version_minor": 0
            },
            "text/plain": [
              "VBox(children=(Label(value='0.001 MB of 0.001 MB uploaded (0.000 MB deduped)\\r'), FloatProgress(value=1.0, max…"
            ]
          },
          "metadata": {},
          "output_type": "display_data"
        },
        {
          "data": {
            "text/html": [
              "<style>\n",
              "    table.wandb td:nth-child(1) { padding: 0 10px; text-align: left ; width: auto;} td:nth-child(2) {text-align: left ; width: 100%}\n",
              "    .wandb-row { display: flex; flex-direction: row; flex-wrap: wrap; justify-content: flex-start; width: 100% }\n",
              "    .wandb-col { display: flex; flex-direction: column; flex-basis: 100%; flex: 1; padding: 10px; }\n",
              "    </style>\n",
              "<div class=\"wandb-row\"><div class=\"wandb-col\"><h3>Run history:</h3><br/><table class=\"wandb\"><tr><td>accuracy</td><td>▁</td></tr><tr><td>epoch</td><td>▁▃▅▆█</td></tr><tr><td>tr_acc</td><td>▁▁▁▁▁</td></tr><tr><td>tr_err</td><td>█▁▁▁▁</td></tr><tr><td>val_acc</td><td>▁▁▁▁▁</td></tr><tr><td>val_err</td><td>▁████</td></tr></table><br/></div><div class=\"wandb-col\"><h3>Run summary:</h3><br/><table class=\"wandb\"><tr><td>accuracy</td><td>0.09667</td></tr><tr><td>epoch</td><td>5</td></tr><tr><td>tr_acc</td><td>0.10083</td></tr><tr><td>tr_err</td><td>2.30283</td></tr><tr><td>val_acc</td><td>0.09667</td></tr><tr><td>val_err</td><td>2.30305</td></tr></table><br/></div></div>"
            ],
            "text/plain": [
              "<IPython.core.display.HTML object>"
            ]
          },
          "metadata": {},
          "output_type": "display_data"
        },
        {
          "data": {
            "text/html": [
              " View run <strong style=\"color:#cdcd00\">mild-sweep-10</strong> at: <a href='https://wandb.ai/madhes23/CS6910_Assignment-1/runs/cvvfkf1z' target=\"_blank\">https://wandb.ai/madhes23/CS6910_Assignment-1/runs/cvvfkf1z</a><br/>Synced 5 W&B file(s), 0 media file(s), 0 artifact file(s) and 0 other file(s)"
            ],
            "text/plain": [
              "<IPython.core.display.HTML object>"
            ]
          },
          "metadata": {},
          "output_type": "display_data"
        },
        {
          "data": {
            "text/html": [
              "Find logs at: <code>./wandb/run-20230310_120524-cvvfkf1z/logs</code>"
            ],
            "text/plain": [
              "<IPython.core.display.HTML object>"
            ]
          },
          "metadata": {},
          "output_type": "display_data"
        }
      ],
      "source": [
        "#@title Sweep {vertical-output:true}\n",
        "sweep_config = {\n",
        "    \"method\": 'random',\n",
        "    \"metric\": {\n",
        "    'name': 'accuracy',\n",
        "    'goal': 'maximize'\n",
        "    },\n",
        "    'parameters' :{\n",
        "        \"hidden_layers\": {\"values\":[3,4,5,6]},\n",
        "        \"neurons_per_hidden_layer\": {\"values\": [32,64,128]},\n",
        "        \"learning_rate\": {\"values\":[1e-3,1e-4]},\n",
        "        \"max_epoch\": {\"values\":[5,10,15]},\n",
        "        \"batch_size\": {\"values\":[16,32,64]},  #todo: check if these values can take enum\n",
        "        \"activation_function\" : {\"values\" : [\"sigmoid\", \"relu\", \"tanh\"]},\n",
        "        \"optimization_algorithm\": {\"values\":[\"mini_batch\", \"momentum_gd\", \"nag\", \"rms\", \"adam\", \"nadam\"]},\n",
        "        \"initialization_method\" : {\"values\" : [\"uniform_rand\", \"uniform_xav\"]}\n",
        "    }\n",
        "}\n",
        "\n",
        "def tune_nn():\n",
        "    \"\"\"A utility function for performing the sweep\"\"\"\n",
        "    wandb.init()\n",
        "    name = wandb.config.optimization_algorithm+str(np.random.randint(10, size=1)[0])\n",
        "    wandb.run.name = name\n",
        "    no_of_hidden = wandb.config.hidden_layers \n",
        "    layer_size = wandb.config.neurons_per_hidden_layer\n",
        "    hidden_layer = [layer_size] * no_of_hidden\n",
        "\n",
        "    model = Classification(_no_of_class=10,\n",
        "                           _hidden_layer = hidden_layer,\n",
        "                           _input_layer = 784,\n",
        "                           _max_epoch = wandb.config.max_epoch,\n",
        "                           _activation_fun = ActivationFunction(wandb.config.activation_function),\n",
        "                           _initialization_method = InitializationMethod(wandb.config.initialization_method),\n",
        "                           _learning_rate = wandb.config.learning_rate,\n",
        "                           _batch_size = wandb.config.batch_size,\n",
        "                           _optimization_algorithm = OptimizationAlgorithm(wandb.config.optimization_algorithm))\n",
        "\n",
        "    model.init_weight_and_bias()\n",
        "    tr_err, val_err, tr_acc, val_acc = model.fit(x_train, y_train, x_validation, y_validation)\n",
        "    # accuracy = model.calc_accuracy(x_test, y_test)\n",
        "\n",
        "    for i in range(len(tr_err)):\n",
        "      wandb.log({\"tr_err\":tr_err[i],\n",
        "                 \"tr_acc\" : tr_acc[i],\n",
        "                 \"val_err\" : val_err[i],\n",
        "                 \"val_acc\" : val_acc[i],\n",
        "                 \"epoch\":(i+1)})\n",
        "      \n",
        "    wandb.log({\"accuracy\": val_acc[-1]})\n",
        "        \n",
        "\n",
        "sweep_id=wandb.sweep(sweep_config,project=\"CS6910_Assignment-1\")\n",
        "wandb.agent(sweep_id,function=tune_nn,count=10)"
      ]
    },
    {
      "cell_type": "code",
      "execution_count": null,
      "metadata": {
        "colab": {
          "base_uri": "https://localhost:8080/"
        },
        "id": "1cN7UBCKw4r7",
        "outputId": "0aa39b93-3646-4937-f030-e51a7c2ff8d1"
      },
      "outputs": [
        {
          "name": "stdout",
          "output_type": "stream",
          "text": [
            "[64, 64, 64, 64]\n",
            "Completed epoch : 1 \t Error: 2.3324575206176985 \t Accuracy: 0.10083333333333333\n",
            "Completed epoch : 2 \t Error: 2.302613882849023 \t Accuracy: 0.10083333333333333\n",
            "Completed epoch : 3 \t Error: 2.3026095453659683 \t Accuracy: 0.10083333333333333\n",
            "Completed epoch : 4 \t Error: 2.3026078910242624 \t Accuracy: 0.10083333333333333\n",
            "Completed epoch : 5 \t Error: 2.302607260679253 \t Accuracy: 0.10083333333333333\n",
            "Completed epoch : 6 \t Error: 2.302607021269706 \t Accuracy: 0.10083333333333333\n",
            "Completed epoch : 7 \t Error: 2.3026069309629533 \t Accuracy: 0.10083333333333333\n",
            "Completed epoch : 8 \t Error: 2.302606897357016 \t Accuracy: 0.10083333333333333\n",
            "Completed epoch : 9 \t Error: 2.302606885178098 \t Accuracy: 0.10083333333333333\n",
            "Completed epoch : 10 \t Error: 2.3026068809963767 \t Accuracy: 0.10083333333333333\n"
          ]
        }
      ],
      "source": [
        "no_of_hidden = 4\n",
        "layer_size = 64\n",
        "hidden_layer = [layer_size] * no_of_hidden\n",
        "print(hidden_layer)\n",
        "model = Classification(_no_of_class=10,\n",
        "                        _hidden_layer = hidden_layer,\n",
        "                        _input_layer = 784,\n",
        "                        _max_epoch = 10,\n",
        "                        _activation_fun = ActivationFunction(\"relu\"),\n",
        "                        _initialization_method = InitializationMethod(\"uniform_xav\"),\n",
        "                        _learning_rate = 0.0001,\n",
        "                        _batch_size = 64,\n",
        "                        _optimization_algorithm = OptimizationAlgorithm(\"nag\"))\n",
        "model.init_weight_and_bias()\n",
        "tr_err, val_err, tr_acc, val_acc = model.fit(x_train, y_train, x_validation, y_validation)"
      ]
    },
    {
      "cell_type": "code",
      "execution_count": null,
      "metadata": {
        "colab": {
          "base_uri": "https://localhost:8080/",
          "height": 455
        },
        "id": "ooea0AoWB657",
        "outputId": "58a2340d-8b45-4122-d8c3-3dca7491ca28"
      },
      "outputs": [
        {
          "name": "stdout",
          "output_type": "stream",
          "text": [
            "[32, 32]\n",
            "no_of_class 10\n",
            "hidden_lyaer [32, 32]\n",
            "activ  ActivationFunction.TAN_H\n",
            "optimi  OutputFunction.SOFTMAX\n",
            "Completed epoch : 1 \t Error: 0.8318716828055587 \t Accuracy: 0.8257708333333333\n",
            "Completed epoch : 2 \t Error: 0.46918964815623576 \t Accuracy: 0.8492083333333333\n",
            "Completed epoch : 3 \t Error: 0.42099717563670264 \t Accuracy: 0.8592291666666667\n",
            "Completed epoch : 4 \t Error: 0.3937165497591307 \t Accuracy: 0.8667291666666667\n",
            "Completed epoch : 5 \t Error: 0.3737182938582132 \t Accuracy: 0.8720625\n"
          ]
        },
        {
          "data": {
            "image/png": "[encoded data removed]",
            "text/plain": [
              "<Figure size 432x288 with 2 Axes>"
            ]
          },
          "metadata": {},
          "output_type": "display_data"
        }
      ],
      "source": [
        "#@title Sigmoid Mini GD Large data{vertical-output:true}\n",
        "print(hidden_layer)\n",
        "model = Classification(_no_of_class=10, \n",
        "                       _hidden_layer=hidden_layer, \n",
        "                       _input_layer=784,\n",
        "                       _initialization_method=InitializationMethod(\"uniform_xav\"),\n",
        "                       _learning_rate=0.001,\n",
        "                       _activation_fun=ActivationFunction(\"tanh\"), \n",
        "                       _optimization_algorithm=OptimizationAlgorithm(\"momentum_gd\"),\n",
        "                       _batch_size = 32,\n",
        "                       _max_epoch=5)\n",
        "\n",
        "model.init_weight_and_bias()\n",
        "tr_err, val_err, tr_acc, val_acc = model.fit(x_train, y_train, x_validation, y_validation)\n",
        "plot_graphs(tr_err, val_err, tr_acc, val_acc)\n"
      ]
    },
    {
      "cell_type": "code",
      "execution_count": null,
      "metadata": {
        "colab": {
          "base_uri": "https://localhost:8080/",
          "height": 432
        },
        "id": "ll89Ncjdy9kK",
        "outputId": "f0f63e7c-d94a-4d46-86b4-51866f6966f2"
      },
      "outputs": [
        {
          "name": "stdout",
          "output_type": "stream",
          "text": [
            "[32, 32]\n",
            "no_of_class 10\n",
            "hidden_lyaer [32, 32]\n",
            "activ  ActivationFunction.TAN_H\n",
            "optimi  OutputFunction.SOFTMAX\n"
          ]
        },
        {
          "ename": "IndexError",
          "evalue": "ignored",
          "output_type": "error",
          "traceback": [
            "\u001b[0;31m---------------------------------------------------------------------------\u001b[0m",
            "\u001b[0;31mIndexError\u001b[0m                                Traceback (most recent call last)",
            "\u001b[0;32m<ipython-input-62-2cc151a9640c>\u001b[0m in \u001b[0;36m<module>\u001b[0;34m\u001b[0m\n\u001b[1;32m      9\u001b[0m                         \u001b[0m_batch_size\u001b[0m \u001b[0;34m=\u001b[0m \u001b[0;36m32\u001b[0m\u001b[0;34m,\u001b[0m\u001b[0;34m\u001b[0m\u001b[0;34m\u001b[0m\u001b[0m\n\u001b[1;32m     10\u001b[0m                         _optimization_algorithm = OptimizationAlgorithm.ADAM)\n\u001b[0;32m---> 11\u001b[0;31m \u001b[0mmodel1\u001b[0m\u001b[0;34m.\u001b[0m\u001b[0mfit\u001b[0m\u001b[0;34m(\u001b[0m\u001b[0mx_train\u001b[0m\u001b[0;34m,\u001b[0m \u001b[0my_train\u001b[0m\u001b[0;34m,\u001b[0m \u001b[0mx_validation\u001b[0m\u001b[0;34m,\u001b[0m \u001b[0my_validation\u001b[0m\u001b[0;34m)\u001b[0m\u001b[0;34m\u001b[0m\u001b[0;34m\u001b[0m\u001b[0m\n\u001b[0m",
            "\u001b[0;32m<ipython-input-45-36ff8f950e74>\u001b[0m in \u001b[0;36mfit\u001b[0;34m(self, x_train, y_train, x_validation, y_validation)\u001b[0m\n\u001b[1;32m    329\u001b[0m             \u001b[0mend\u001b[0m \u001b[0;34m=\u001b[0m \u001b[0mself\u001b[0m\u001b[0;34m.\u001b[0m\u001b[0mdata_size\u001b[0m\u001b[0;34m\u001b[0m\u001b[0;34m\u001b[0m\u001b[0m\n\u001b[1;32m    330\u001b[0m \u001b[0;34m\u001b[0m\u001b[0m\n\u001b[0;32m--> 331\u001b[0;31m           \u001b[0ma\u001b[0m\u001b[0;34m,\u001b[0m \u001b[0mh\u001b[0m \u001b[0;34m=\u001b[0m \u001b[0mself\u001b[0m\u001b[0;34m.\u001b[0m\u001b[0mforward_propogation\u001b[0m\u001b[0;34m(\u001b[0m\u001b[0mx_train\u001b[0m\u001b[0;34m[\u001b[0m\u001b[0mbegin\u001b[0m\u001b[0;34m:\u001b[0m\u001b[0mend\u001b[0m\u001b[0;34m]\u001b[0m\u001b[0;34m)\u001b[0m\u001b[0;34m\u001b[0m\u001b[0;34m\u001b[0m\u001b[0m\n\u001b[0m\u001b[1;32m    332\u001b[0m           \u001b[0mdel_w\u001b[0m\u001b[0;34m,\u001b[0m \u001b[0mdel_b\u001b[0m \u001b[0;34m=\u001b[0m \u001b[0mself\u001b[0m\u001b[0;34m.\u001b[0m\u001b[0mbackward_propogation\u001b[0m\u001b[0;34m(\u001b[0m\u001b[0ma\u001b[0m\u001b[0;34m,\u001b[0m \u001b[0mh\u001b[0m\u001b[0;34m,\u001b[0m \u001b[0my_train\u001b[0m\u001b[0;34m[\u001b[0m\u001b[0mbegin\u001b[0m\u001b[0;34m:\u001b[0m\u001b[0mend\u001b[0m\u001b[0;34m]\u001b[0m\u001b[0;34m)\u001b[0m\u001b[0;34m\u001b[0m\u001b[0;34m\u001b[0m\u001b[0m\n\u001b[1;32m    333\u001b[0m \u001b[0;34m\u001b[0m\u001b[0m\n",
            "\u001b[0;32m<ipython-input-45-36ff8f950e74>\u001b[0m in \u001b[0;36mforward_propogation\u001b[0;34m(self, input_images)\u001b[0m\n\u001b[1;32m     90\u001b[0m \u001b[0;34m\u001b[0m\u001b[0m\n\u001b[1;32m     91\u001b[0m     \u001b[0;32mfor\u001b[0m \u001b[0mi\u001b[0m \u001b[0;32min\u001b[0m \u001b[0mrange\u001b[0m\u001b[0;34m(\u001b[0m\u001b[0;36m1\u001b[0m\u001b[0;34m,\u001b[0m \u001b[0mself\u001b[0m\u001b[0;34m.\u001b[0m\u001b[0mL\u001b[0m\u001b[0;34m)\u001b[0m\u001b[0;34m:\u001b[0m\u001b[0;34m\u001b[0m\u001b[0;34m\u001b[0m\u001b[0m\n\u001b[0;32m---> 92\u001b[0;31m       \u001b[0ma\u001b[0m\u001b[0;34m.\u001b[0m\u001b[0mappend\u001b[0m\u001b[0;34m(\u001b[0m\u001b[0mself\u001b[0m\u001b[0;34m.\u001b[0m\u001b[0mbias\u001b[0m\u001b[0;34m[\u001b[0m\u001b[0mi\u001b[0m\u001b[0;34m]\u001b[0m \u001b[0;34m+\u001b[0m \u001b[0mnp\u001b[0m\u001b[0;34m.\u001b[0m\u001b[0mdot\u001b[0m\u001b[0;34m(\u001b[0m\u001b[0mh\u001b[0m\u001b[0;34m[\u001b[0m\u001b[0mi\u001b[0m\u001b[0;34m-\u001b[0m\u001b[0;36m1\u001b[0m\u001b[0;34m]\u001b[0m\u001b[0;34m,\u001b[0m \u001b[0mself\u001b[0m\u001b[0;34m.\u001b[0m\u001b[0mweight\u001b[0m\u001b[0;34m[\u001b[0m\u001b[0mi\u001b[0m\u001b[0;34m]\u001b[0m\u001b[0;34m.\u001b[0m\u001b[0mT\u001b[0m\u001b[0;34m)\u001b[0m\u001b[0;34m)\u001b[0m\u001b[0;34m\u001b[0m\u001b[0;34m\u001b[0m\u001b[0m\n\u001b[0m\u001b[1;32m     93\u001b[0m       \u001b[0mh\u001b[0m\u001b[0;34m.\u001b[0m\u001b[0mappend\u001b[0m\u001b[0;34m(\u001b[0m\u001b[0mactivation_function\u001b[0m\u001b[0;34m(\u001b[0m\u001b[0ma\u001b[0m\u001b[0;34m[\u001b[0m\u001b[0mi\u001b[0m\u001b[0;34m]\u001b[0m\u001b[0;34m,\u001b[0m \u001b[0mself\u001b[0m\u001b[0;34m.\u001b[0m\u001b[0mactivation_func\u001b[0m\u001b[0;34m)\u001b[0m\u001b[0;34m)\u001b[0m\u001b[0;34m\u001b[0m\u001b[0;34m\u001b[0m\u001b[0m\n\u001b[1;32m     94\u001b[0m \u001b[0;34m\u001b[0m\u001b[0m\n",
            "\u001b[0;31mIndexError\u001b[0m: list index out of range"
          ]
        }
      ],
      "source": [
        "# print(hidden_layer)\n",
        "model1 = Classification(_no_of_class=10,\n",
        "                        _hidden_layer = [32, 32],\n",
        "                        _input_layer = 784,\n",
        "                        _max_epoch = 5,\n",
        "                        _activation_fun = ActivationFunction.TAN_H,\n",
        "                        _initialization_method = InitializationMethod.UNIFORM_XAVIER,\n",
        "                        _learning_rate = 0.001,\n",
        "                        _batch_size = 32,\n",
        "                        _optimization_algorithm = OptimizationAlgorithm.ADAM)\n",
        "model1.fit(x_train, y_train, x_validation, y_validation)"
      ]
    },
    {
      "cell_type": "code",
      "execution_count": null,
      "metadata": {
        "colab": {
          "base_uri": "https://localhost:8080/",
          "height": 217
        },
        "id": "WTEDUkt2Ip12",
        "outputId": "0eff985c-ab92-4cf3-c0bc-f858542bd252"
      },
      "outputs": [
        {
          "ename": "TypeError",
          "evalue": "ignored",
          "output_type": "error",
          "traceback": [
            "\u001b[0;31m---------------------------------------------------------------------------\u001b[0m",
            "\u001b[0;31mTypeError\u001b[0m                                 Traceback (most recent call last)",
            "\u001b[0;32m<ipython-input-63-8b55676de98a>\u001b[0m in \u001b[0;36m<module>\u001b[0;34m\u001b[0m\n\u001b[1;32m      9\u001b[0m                        _max_epoch=800)\n\u001b[1;32m     10\u001b[0m \u001b[0;34m\u001b[0m\u001b[0m\n\u001b[0;32m---> 11\u001b[0;31m \u001b[0merror_list\u001b[0m \u001b[0;34m=\u001b[0m \u001b[0mmodel1\u001b[0m\u001b[0;34m.\u001b[0m\u001b[0mfit\u001b[0m\u001b[0;34m(\u001b[0m\u001b[0mx_train\u001b[0m\u001b[0;34m[\u001b[0m\u001b[0;34m:\u001b[0m\u001b[0;36m10\u001b[0m\u001b[0;34m]\u001b[0m\u001b[0;34m,\u001b[0m \u001b[0my_train\u001b[0m\u001b[0;34m[\u001b[0m\u001b[0;34m:\u001b[0m\u001b[0;36m10\u001b[0m\u001b[0;34m]\u001b[0m\u001b[0;34m)\u001b[0m\u001b[0;34m\u001b[0m\u001b[0;34m\u001b[0m\u001b[0m\n\u001b[0m\u001b[1;32m     12\u001b[0m \u001b[0mmodel1\u001b[0m\u001b[0;34m.\u001b[0m\u001b[0mcalc_accuracy\u001b[0m\u001b[0;34m(\u001b[0m\u001b[0mx_test\u001b[0m\u001b[0;34m,\u001b[0m \u001b[0my_test\u001b[0m\u001b[0;34m)\u001b[0m\u001b[0;34m\u001b[0m\u001b[0;34m\u001b[0m\u001b[0m\n",
            "\u001b[0;31mTypeError\u001b[0m: fit() missing 2 required positional arguments: 'x_validation' and 'y_validation'"
          ]
        }
      ],
      "source": [
        "#@title ReLU GD Small Data { vertical-output: true}\n",
        "model1 = Classification(_no_of_class=10, \n",
        "                       _hidden_layer=[64, 64, 64], \n",
        "                       _input_layer=784,\n",
        "                       _initialization_method=InitializationMethod.UNIFORM_XAVIER,\n",
        "                       _learning_rate=0.01,\n",
        "                       _activation_fun=ActivationFunction.TAN_H, \n",
        "                       _optimization_algorithm=OptimizationAlgorithm.GD,\n",
        "                       _max_epoch=800)\n",
        "\n",
        "error_list = model1.fit(x_train[:10], y_train[:10])\n",
        "model1.calc_accuracy(x_test, y_test)"
      ]
    },
    {
      "cell_type": "code",
      "execution_count": null,
      "metadata": {
        "colab": {
          "base_uri": "https://localhost:8080/"
        },
        "id": "-Y5YRYIYsYcl",
        "outputId": "59410252-57f0-4bf5-abb8-b8d8e8926a53"
      },
      "outputs": [
        {
          "data": {
            "text/plain": [
              "([2.3698478633152167, 2.303304687706764],\n",
              " [2.3034950679616024, 2.3030238793530735],\n",
              " [0.09952083333333334, 0.10095833333333333],\n",
              " [0.102, 0.09616666666666666])"
            ]
          },
          "execution_count": 32,
          "metadata": {},
          "output_type": "execute_result"
        }
      ],
      "source": [
        "tr_err, val_err, tr_acc, val_acc"
      ]
    },
    {
      "cell_type": "code",
      "execution_count": null,
      "metadata": {
        "cellView": "form",
        "id": "9XXZ0fZmEUO6"
      },
      "outputs": [],
      "source": [
        "#@title Sigmoid GD Small data{ vertical-output: true}\n",
        "model1 = Classification(_no_of_class=10, \n",
        "                       _hidden_layer=[64, 64], \n",
        "                       _input_layer=784,\n",
        "                       _initialization_method=InitializationMethod.UNIFORM_XAVIER,\n",
        "                       _learning_rate=0.01,\n",
        "                       _activation_fun=ActivationFunction.SIGMOID, \n",
        "                       _optimization_algorithm=OptimizationAlgorithm.GD,\n",
        "                       _max_epoch=400)\n",
        "model1.init_weight_and_bias()\n",
        "\n",
        "model1.fit(x_train[:10], y_train[:10])"
      ]
    },
    {
      "cell_type": "code",
      "execution_count": null,
      "metadata": {
        "cellView": "form",
        "id": "h0_GdmG_Jy_l"
      },
      "outputs": [],
      "source": [
        "#@title Sigmoid Momentum Whole data{vertical-output:true}\n",
        "model3 = Classification(_no_of_class=10, \n",
        "                       _hidden_layer=[32, 32], \n",
        "                       _input_layer=784,\n",
        "                       _initialization_method=InitializationMethod.UNIFORM_XAVIER,\n",
        "                       _learning_rate=0.01,\n",
        "                       _activation_fun=ActivationFunction.SIGMOID, \n",
        "                       _optimization_algorithm=OptimizationAlgorithm.MOMENTUM_GD,\n",
        "                       _batch_size = 50,\n",
        "                       _momentum = 0.9,\n",
        "                       _max_epoch=80)\n",
        "\n",
        "model3.init_weight_and_bias()\n",
        "\n",
        "model3.fit(x_train, y_train)\n"
      ]
    },
    {
      "cell_type": "code",
      "execution_count": null,
      "metadata": {
        "cellView": "form",
        "id": "9_QxP5GGghKL"
      },
      "outputs": [],
      "source": [
        "#@title Sigmoid NAG Whole data{vertical-output:true}\n",
        "model4 = Classification(_no_of_class=10, \n",
        "                       _hidden_layer=[32, 32], \n",
        "                       _input_layer=784,\n",
        "                       _initialization_method=InitializationMethod.UNIFORM_XAVIER,\n",
        "                       _learning_rate=0.01,\n",
        "                       _activation_fun=ActivationFunction.SIGMOID, \n",
        "                       _optimization_algorithm=OptimizationAlgorithm.NAG,\n",
        "                       _batch_size = 50,\n",
        "                       _momentum = 0.9,\n",
        "                       _max_epoch=80)\n",
        "\n",
        "model4.init_weight_and_bias()\n",
        "\n",
        "model4.fit(x_train, y_train)"
      ]
    },
    {
      "cell_type": "code",
      "execution_count": null,
      "metadata": {
        "cellView": "form",
        "id": "cFcldgaNpKkX"
      },
      "outputs": [],
      "source": [
        "#@title Sigmoid SGD whole data{ vertical-output: true}\n",
        "model5 = Classification(_no_of_class=10, \n",
        "                       _hidden_layer=[64, 64], \n",
        "                       _input_layer=784,\n",
        "                       _initialization_method=InitializationMethod.UNIFORM_XAVIER,\n",
        "                       _learning_rate=0.01,\n",
        "                       _activation_fun=ActivationFunction.SIGMOID, \n",
        "                       _optimization_algorithm=OptimizationAlgorithm.SGD,\n",
        "                       _max_epoch=10)\n",
        "model5.init_weight_and_bias()\n",
        "\n",
        "model5.fit(x_train, y_train)"
      ]
    },
    {
      "cell_type": "code",
      "execution_count": null,
      "metadata": {
        "cellView": "form",
        "id": "cTln1aXTz3AW"
      },
      "outputs": [],
      "source": [
        "#@title Sigmoid RMS whole data{ vertical-output: true}\n",
        "model6 = Classification(_no_of_class=10, \n",
        "                       _hidden_layer=[32, 32], \n",
        "                       _input_layer=784,\n",
        "                       _initialization_method=InitializationMethod.UNIFORM_XAVIER,\n",
        "                       _learning_rate=0.1,\n",
        "                       _activation_fun=ActivationFunction.SIGMOID, \n",
        "                       _optimization_algorithm=OptimizationAlgorithm.RMS_PROP,\n",
        "                       _batch_size = 100,\n",
        "                       _momentum = 0.9,\n",
        "                       _max_epoch=10)\n",
        "model6.init_weight_and_bias()\n",
        "\n",
        "model6.fit(x_train, y_train)"
      ]
    }
  ],
  "metadata": {
    "colab": {
      "provenance": [],
      "include_colab_link": true
    },
    "kernelspec": {
      "display_name": "Python 3",
      "language": "python",
      "name": "python3"
    },
    "language_info": {
      "codemirror_mode": {
        "name": "ipython",
        "version": 3
      },
      "file_extension": ".py",
      "mimetype": "text/x-python",
      "name": "python",
      "nbconvert_exporter": "python",
      "pygments_lexer": "ipython3",
      "version": "3.10.6"
    },
    "vscode": {
      "interpreter": {
        "hash": "2b7beba6bc4576b587b472b50647070571a61f12f0cc1be023be2a084234b362"
      }
    },
    "widgets": {
      "application/vnd.jupyter.widget-state+json": {
        "1366f2157adc4dbfbc07b8cd634ff8cd": {
          "model_module": "@jupyter-widgets/base",
          "model_module_version": "1.2.0",
          "model_name": "LayoutModel",
          "state": {
            "_model_module": "@jupyter-widgets/base",
            "_model_module_version": "1.2.0",
            "_model_name": "LayoutModel",
            "_view_count": null,
            "_view_module": "@jupyter-widgets/base",
            "_view_module_version": "1.2.0",
            "_view_name": "LayoutView",
            "align_content": null,
            "align_items": null,
            "align_self": null,
            "border": null,
            "bottom": null,
            "display": null,
            "flex": null,
            "flex_flow": null,
            "grid_area": null,
            "grid_auto_columns": null,
            "grid_auto_flow": null,
            "grid_auto_rows": null,
            "grid_column": null,
            "grid_gap": null,
            "grid_row": null,
            "grid_template_areas": null,
            "grid_template_columns": null,
            "grid_template_rows": null,
            "height": null,
            "justify_content": null,
            "justify_items": null,
            "left": null,
            "margin": null,
            "max_height": null,
            "max_width": null,
            "min_height": null,
            "min_width": null,
            "object_fit": null,
            "object_position": null,
            "order": null,
            "overflow": null,
            "overflow_x": null,
            "overflow_y": null,
            "padding": null,
            "right": null,
            "top": null,
            "visibility": null,
            "width": null
          }
        },
        "1aaadc33b43c4708affc6079446099cb": {
          "model_module": "@jupyter-widgets/controls",
          "model_module_version": "1.5.0",
          "model_name": "VBoxModel",
          "state": {
            "_dom_classes": [],
            "_model_module": "@jupyter-widgets/controls",
            "_model_module_version": "1.5.0",
            "_model_name": "VBoxModel",
            "_view_count": null,
            "_view_module": "@jupyter-widgets/controls",
            "_view_module_version": "1.5.0",
            "_view_name": "VBoxView",
            "box_style": "",
            "children": [
              "IPY_MODEL_bb8f379b63154269a9f4100df5da9cc3",
              "IPY_MODEL_9063b614fe7446a4abe88f4f9b7afde8"
            ],
            "layout": "IPY_MODEL_915b1cb72f324679b1dcbed31921602f"
          }
        },
        "1b5f3836a9aa46b49423a6eea8dd996b": {
          "model_module": "@jupyter-widgets/controls",
          "model_module_version": "1.5.0",
          "model_name": "LabelModel",
          "state": {
            "_dom_classes": [],
            "_model_module": "@jupyter-widgets/controls",
            "_model_module_version": "1.5.0",
            "_model_name": "LabelModel",
            "_view_count": null,
            "_view_module": "@jupyter-widgets/controls",
            "_view_module_version": "1.5.0",
            "_view_name": "LabelView",
            "description": "",
            "description_tooltip": null,
            "layout": "IPY_MODEL_e35f4576673f47019036ee284227982d",
            "placeholder": "​",
            "style": "IPY_MODEL_db776aac00d1472bb5e4bdaa347346d3",
            "value": "0.001 MB of 0.001 MB uploaded (0.000 MB deduped)\r"
          }
        },
        "1e6a055f1ff842ea8e91e2c1a7893df6": {
          "model_module": "@jupyter-widgets/controls",
          "model_module_version": "1.5.0",
          "model_name": "LabelModel",
          "state": {
            "_dom_classes": [],
            "_model_module": "@jupyter-widgets/controls",
            "_model_module_version": "1.5.0",
            "_model_name": "LabelModel",
            "_view_count": null,
            "_view_module": "@jupyter-widgets/controls",
            "_view_module_version": "1.5.0",
            "_view_name": "LabelView",
            "description": "",
            "description_tooltip": null,
            "layout": "IPY_MODEL_4bb7e91f2eb743ccbf7fdf0c76d3ff3b",
            "placeholder": "​",
            "style": "IPY_MODEL_d0422c10fcdd402aab56d386867d1d3f",
            "value": "0.001 MB of 0.009 MB uploaded (0.000 MB deduped)\r"
          }
        },
        "1e6d87b8f96840d6b4522b749e6168ec": {
          "model_module": "@jupyter-widgets/controls",
          "model_module_version": "1.5.0",
          "model_name": "VBoxModel",
          "state": {
            "_dom_classes": [],
            "_model_module": "@jupyter-widgets/controls",
            "_model_module_version": "1.5.0",
            "_model_name": "VBoxModel",
            "_view_count": null,
            "_view_module": "@jupyter-widgets/controls",
            "_view_module_version": "1.5.0",
            "_view_name": "VBoxView",
            "box_style": "",
            "children": [
              "IPY_MODEL_1b5f3836a9aa46b49423a6eea8dd996b",
              "IPY_MODEL_79bba78858794cf6bd02b21700672da9"
            ],
            "layout": "IPY_MODEL_3a7a7c8ef9db4aac8efd4ce44cb33e32"
          }
        },
        "1fc1f6aa37294ceda014bdae67b101dd": {
          "model_module": "@jupyter-widgets/controls",
          "model_module_version": "1.5.0",
          "model_name": "VBoxModel",
          "state": {
            "_dom_classes": [],
            "_model_module": "@jupyter-widgets/controls",
            "_model_module_version": "1.5.0",
            "_model_name": "VBoxModel",
            "_view_count": null,
            "_view_module": "@jupyter-widgets/controls",
            "_view_module_version": "1.5.0",
            "_view_name": "VBoxView",
            "box_style": "",
            "children": [
              "IPY_MODEL_9bd26231e9e446a294c3904a0afd99af",
              "IPY_MODEL_da8d4617203d423ba655b4563789a0ca"
            ],
            "layout": "IPY_MODEL_a27a78d8235d42ada5e24e71b1cb9da0"
          }
        },
        "237bd7d31c9c44ff82d5018753eeb987": {
          "model_module": "@jupyter-widgets/base",
          "model_module_version": "1.2.0",
          "model_name": "LayoutModel",
          "state": {
            "_model_module": "@jupyter-widgets/base",
            "_model_module_version": "1.2.0",
            "_model_name": "LayoutModel",
            "_view_count": null,
            "_view_module": "@jupyter-widgets/base",
            "_view_module_version": "1.2.0",
            "_view_name": "LayoutView",
            "align_content": null,
            "align_items": null,
            "align_self": null,
            "border": null,
            "bottom": null,
            "display": null,
            "flex": null,
            "flex_flow": null,
            "grid_area": null,
            "grid_auto_columns": null,
            "grid_auto_flow": null,
            "grid_auto_rows": null,
            "grid_column": null,
            "grid_gap": null,
            "grid_row": null,
            "grid_template_areas": null,
            "grid_template_columns": null,
            "grid_template_rows": null,
            "height": null,
            "justify_content": null,
            "justify_items": null,
            "left": null,
            "margin": null,
            "max_height": null,
            "max_width": null,
            "min_height": null,
            "min_width": null,
            "object_fit": null,
            "object_position": null,
            "order": null,
            "overflow": null,
            "overflow_x": null,
            "overflow_y": null,
            "padding": null,
            "right": null,
            "top": null,
            "visibility": null,
            "width": null
          }
        },
        "291ef5e1abae4a47a400130639027e25": {
          "model_module": "@jupyter-widgets/base",
          "model_module_version": "1.2.0",
          "model_name": "LayoutModel",
          "state": {
            "_model_module": "@jupyter-widgets/base",
            "_model_module_version": "1.2.0",
            "_model_name": "LayoutModel",
            "_view_count": null,
            "_view_module": "@jupyter-widgets/base",
            "_view_module_version": "1.2.0",
            "_view_name": "LayoutView",
            "align_content": null,
            "align_items": null,
            "align_self": null,
            "border": null,
            "bottom": null,
            "display": null,
            "flex": null,
            "flex_flow": null,
            "grid_area": null,
            "grid_auto_columns": null,
            "grid_auto_flow": null,
            "grid_auto_rows": null,
            "grid_column": null,
            "grid_gap": null,
            "grid_row": null,
            "grid_template_areas": null,
            "grid_template_columns": null,
            "grid_template_rows": null,
            "height": null,
            "justify_content": null,
            "justify_items": null,
            "left": null,
            "margin": null,
            "max_height": null,
            "max_width": null,
            "min_height": null,
            "min_width": null,
            "object_fit": null,
            "object_position": null,
            "order": null,
            "overflow": null,
            "overflow_x": null,
            "overflow_y": null,
            "padding": null,
            "right": null,
            "top": null,
            "visibility": null,
            "width": null
          }
        },
        "38fed51678154f13816389f51d3e0070": {
          "model_module": "@jupyter-widgets/controls",
          "model_module_version": "1.5.0",
          "model_name": "FloatProgressModel",
          "state": {
            "_dom_classes": [],
            "_model_module": "@jupyter-widgets/controls",
            "_model_module_version": "1.5.0",
            "_model_name": "FloatProgressModel",
            "_view_count": null,
            "_view_module": "@jupyter-widgets/controls",
            "_view_module_version": "1.5.0",
            "_view_name": "ProgressView",
            "bar_style": "",
            "description": "",
            "description_tooltip": null,
            "layout": "IPY_MODEL_c19af268dcd84ebd993002ec90b8e6cb",
            "max": 1,
            "min": 0,
            "orientation": "horizontal",
            "style": "IPY_MODEL_3bf36ae9c3bd411db2871288547c872b",
            "value": 0.07180142750612549
          }
        },
        "3a7a7c8ef9db4aac8efd4ce44cb33e32": {
          "model_module": "@jupyter-widgets/base",
          "model_module_version": "1.2.0",
          "model_name": "LayoutModel",
          "state": {
            "_model_module": "@jupyter-widgets/base",
            "_model_module_version": "1.2.0",
            "_model_name": "LayoutModel",
            "_view_count": null,
            "_view_module": "@jupyter-widgets/base",
            "_view_module_version": "1.2.0",
            "_view_name": "LayoutView",
            "align_content": null,
            "align_items": null,
            "align_self": null,
            "border": null,
            "bottom": null,
            "display": null,
            "flex": null,
            "flex_flow": null,
            "grid_area": null,
            "grid_auto_columns": null,
            "grid_auto_flow": null,
            "grid_auto_rows": null,
            "grid_column": null,
            "grid_gap": null,
            "grid_row": null,
            "grid_template_areas": null,
            "grid_template_columns": null,
            "grid_template_rows": null,
            "height": null,
            "justify_content": null,
            "justify_items": null,
            "left": null,
            "margin": null,
            "max_height": null,
            "max_width": null,
            "min_height": null,
            "min_width": null,
            "object_fit": null,
            "object_position": null,
            "order": null,
            "overflow": null,
            "overflow_x": null,
            "overflow_y": null,
            "padding": null,
            "right": null,
            "top": null,
            "visibility": null,
            "width": null
          }
        },
        "3bf36ae9c3bd411db2871288547c872b": {
          "model_module": "@jupyter-widgets/controls",
          "model_module_version": "1.5.0",
          "model_name": "ProgressStyleModel",
          "state": {
            "_model_module": "@jupyter-widgets/controls",
            "_model_module_version": "1.5.0",
            "_model_name": "ProgressStyleModel",
            "_view_count": null,
            "_view_module": "@jupyter-widgets/base",
            "_view_module_version": "1.2.0",
            "_view_name": "StyleView",
            "bar_color": null,
            "description_width": ""
          }
        },
        "401c345eb4a5491689ae11e39910e2c2": {
          "model_module": "@jupyter-widgets/controls",
          "model_module_version": "1.5.0",
          "model_name": "DescriptionStyleModel",
          "state": {
            "_model_module": "@jupyter-widgets/controls",
            "_model_module_version": "1.5.0",
            "_model_name": "DescriptionStyleModel",
            "_view_count": null,
            "_view_module": "@jupyter-widgets/base",
            "_view_module_version": "1.2.0",
            "_view_name": "StyleView",
            "description_width": ""
          }
        },
        "413f096faf224315bcbc5be8e2f9bdad": {
          "model_module": "@jupyter-widgets/controls",
          "model_module_version": "1.5.0",
          "model_name": "FloatProgressModel",
          "state": {
            "_dom_classes": [],
            "_model_module": "@jupyter-widgets/controls",
            "_model_module_version": "1.5.0",
            "_model_name": "FloatProgressModel",
            "_view_count": null,
            "_view_module": "@jupyter-widgets/controls",
            "_view_module_version": "1.5.0",
            "_view_name": "ProgressView",
            "bar_style": "",
            "description": "",
            "description_tooltip": null,
            "layout": "IPY_MODEL_ee15149029c54646b1a6e00d856224c1",
            "max": 1,
            "min": 0,
            "orientation": "horizontal",
            "style": "IPY_MODEL_d9f1edf87b994565817a2a16a7564425",
            "value": 0.07189402841576754
          }
        },
        "4bb7e91f2eb743ccbf7fdf0c76d3ff3b": {
          "model_module": "@jupyter-widgets/base",
          "model_module_version": "1.2.0",
          "model_name": "LayoutModel",
          "state": {
            "_model_module": "@jupyter-widgets/base",
            "_model_module_version": "1.2.0",
            "_model_name": "LayoutModel",
            "_view_count": null,
            "_view_module": "@jupyter-widgets/base",
            "_view_module_version": "1.2.0",
            "_view_name": "LayoutView",
            "align_content": null,
            "align_items": null,
            "align_self": null,
            "border": null,
            "bottom": null,
            "display": null,
            "flex": null,
            "flex_flow": null,
            "grid_area": null,
            "grid_auto_columns": null,
            "grid_auto_flow": null,
            "grid_auto_rows": null,
            "grid_column": null,
            "grid_gap": null,
            "grid_row": null,
            "grid_template_areas": null,
            "grid_template_columns": null,
            "grid_template_rows": null,
            "height": null,
            "justify_content": null,
            "justify_items": null,
            "left": null,
            "margin": null,
            "max_height": null,
            "max_width": null,
            "min_height": null,
            "min_width": null,
            "object_fit": null,
            "object_position": null,
            "order": null,
            "overflow": null,
            "overflow_x": null,
            "overflow_y": null,
            "padding": null,
            "right": null,
            "top": null,
            "visibility": null,
            "width": null
          }
        },
        "5192abfa0df24d13a95424578b9cbbbf": {
          "model_module": "@jupyter-widgets/controls",
          "model_module_version": "1.5.0",
          "model_name": "ProgressStyleModel",
          "state": {
            "_model_module": "@jupyter-widgets/controls",
            "_model_module_version": "1.5.0",
            "_model_name": "ProgressStyleModel",
            "_view_count": null,
            "_view_module": "@jupyter-widgets/base",
            "_view_module_version": "1.2.0",
            "_view_name": "StyleView",
            "bar_color": null,
            "description_width": ""
          }
        },
        "5563ef53f1864b1bb39b9e6736ac4b6c": {
          "model_module": "@jupyter-widgets/base",
          "model_module_version": "1.2.0",
          "model_name": "LayoutModel",
          "state": {
            "_model_module": "@jupyter-widgets/base",
            "_model_module_version": "1.2.0",
            "_model_name": "LayoutModel",
            "_view_count": null,
            "_view_module": "@jupyter-widgets/base",
            "_view_module_version": "1.2.0",
            "_view_name": "LayoutView",
            "align_content": null,
            "align_items": null,
            "align_self": null,
            "border": null,
            "bottom": null,
            "display": null,
            "flex": null,
            "flex_flow": null,
            "grid_area": null,
            "grid_auto_columns": null,
            "grid_auto_flow": null,
            "grid_auto_rows": null,
            "grid_column": null,
            "grid_gap": null,
            "grid_row": null,
            "grid_template_areas": null,
            "grid_template_columns": null,
            "grid_template_rows": null,
            "height": null,
            "justify_content": null,
            "justify_items": null,
            "left": null,
            "margin": null,
            "max_height": null,
            "max_width": null,
            "min_height": null,
            "min_width": null,
            "object_fit": null,
            "object_position": null,
            "order": null,
            "overflow": null,
            "overflow_x": null,
            "overflow_y": null,
            "padding": null,
            "right": null,
            "top": null,
            "visibility": null,
            "width": null
          }
        },
        "57386386cd52482894fd60bc1a745b5a": {
          "model_module": "@jupyter-widgets/controls",
          "model_module_version": "1.5.0",
          "model_name": "ProgressStyleModel",
          "state": {
            "_model_module": "@jupyter-widgets/controls",
            "_model_module_version": "1.5.0",
            "_model_name": "ProgressStyleModel",
            "_view_count": null,
            "_view_module": "@jupyter-widgets/base",
            "_view_module_version": "1.2.0",
            "_view_name": "StyleView",
            "bar_color": null,
            "description_width": ""
          }
        },
        "5bd7d07bc8ef42eaa29b163ac2747631": {
          "model_module": "@jupyter-widgets/base",
          "model_module_version": "1.2.0",
          "model_name": "LayoutModel",
          "state": {
            "_model_module": "@jupyter-widgets/base",
            "_model_module_version": "1.2.0",
            "_model_name": "LayoutModel",
            "_view_count": null,
            "_view_module": "@jupyter-widgets/base",
            "_view_module_version": "1.2.0",
            "_view_name": "LayoutView",
            "align_content": null,
            "align_items": null,
            "align_self": null,
            "border": null,
            "bottom": null,
            "display": null,
            "flex": null,
            "flex_flow": null,
            "grid_area": null,
            "grid_auto_columns": null,
            "grid_auto_flow": null,
            "grid_auto_rows": null,
            "grid_column": null,
            "grid_gap": null,
            "grid_row": null,
            "grid_template_areas": null,
            "grid_template_columns": null,
            "grid_template_rows": null,
            "height": null,
            "justify_content": null,
            "justify_items": null,
            "left": null,
            "margin": null,
            "max_height": null,
            "max_width": null,
            "min_height": null,
            "min_width": null,
            "object_fit": null,
            "object_position": null,
            "order": null,
            "overflow": null,
            "overflow_x": null,
            "overflow_y": null,
            "padding": null,
            "right": null,
            "top": null,
            "visibility": null,
            "width": null
          }
        },
        "5f957184299c4cd787a6b2fabc6468f2": {
          "model_module": "@jupyter-widgets/controls",
          "model_module_version": "1.5.0",
          "model_name": "VBoxModel",
          "state": {
            "_dom_classes": [],
            "_model_module": "@jupyter-widgets/controls",
            "_model_module_version": "1.5.0",
            "_model_name": "VBoxModel",
            "_view_count": null,
            "_view_module": "@jupyter-widgets/controls",
            "_view_module_version": "1.5.0",
            "_view_name": "VBoxView",
            "box_style": "",
            "children": [
              "IPY_MODEL_67610e85de554dcc9874e12df58ada08",
              "IPY_MODEL_a10e1045b40c4190a00e400e08fdccd8"
            ],
            "layout": "IPY_MODEL_5fbbdfcf590247a8b2b2315fc01f5688"
          }
        },
        "5fbbdfcf590247a8b2b2315fc01f5688": {
          "model_module": "@jupyter-widgets/base",
          "model_module_version": "1.2.0",
          "model_name": "LayoutModel",
          "state": {
            "_model_module": "@jupyter-widgets/base",
            "_model_module_version": "1.2.0",
            "_model_name": "LayoutModel",
            "_view_count": null,
            "_view_module": "@jupyter-widgets/base",
            "_view_module_version": "1.2.0",
            "_view_name": "LayoutView",
            "align_content": null,
            "align_items": null,
            "align_self": null,
            "border": null,
            "bottom": null,
            "display": null,
            "flex": null,
            "flex_flow": null,
            "grid_area": null,
            "grid_auto_columns": null,
            "grid_auto_flow": null,
            "grid_auto_rows": null,
            "grid_column": null,
            "grid_gap": null,
            "grid_row": null,
            "grid_template_areas": null,
            "grid_template_columns": null,
            "grid_template_rows": null,
            "height": null,
            "justify_content": null,
            "justify_items": null,
            "left": null,
            "margin": null,
            "max_height": null,
            "max_width": null,
            "min_height": null,
            "min_width": null,
            "object_fit": null,
            "object_position": null,
            "order": null,
            "overflow": null,
            "overflow_x": null,
            "overflow_y": null,
            "padding": null,
            "right": null,
            "top": null,
            "visibility": null,
            "width": null
          }
        },
        "60f6cab862fa4bb2a60801148f5192df": {
          "model_module": "@jupyter-widgets/controls",
          "model_module_version": "1.5.0",
          "model_name": "VBoxModel",
          "state": {
            "_dom_classes": [],
            "_model_module": "@jupyter-widgets/controls",
            "_model_module_version": "1.5.0",
            "_model_name": "VBoxModel",
            "_view_count": null,
            "_view_module": "@jupyter-widgets/controls",
            "_view_module_version": "1.5.0",
            "_view_name": "VBoxView",
            "box_style": "",
            "children": [
              "IPY_MODEL_6b982a0cc5634976b52c1366f96b0d15",
              "IPY_MODEL_38fed51678154f13816389f51d3e0070"
            ],
            "layout": "IPY_MODEL_a541e75121fb40b78c9dbaf07fcc8fc9"
          }
        },
        "67610e85de554dcc9874e12df58ada08": {
          "model_module": "@jupyter-widgets/controls",
          "model_module_version": "1.5.0",
          "model_name": "LabelModel",
          "state": {
            "_dom_classes": [],
            "_model_module": "@jupyter-widgets/controls",
            "_model_module_version": "1.5.0",
            "_model_name": "LabelModel",
            "_view_count": null,
            "_view_module": "@jupyter-widgets/controls",
            "_view_module_version": "1.5.0",
            "_view_name": "LabelView",
            "description": "",
            "description_tooltip": null,
            "layout": "IPY_MODEL_5563ef53f1864b1bb39b9e6736ac4b6c",
            "placeholder": "​",
            "style": "IPY_MODEL_f399691303ac4894a3d3f9d5a4c5d966",
            "value": "0.001 MB of 0.009 MB uploaded (0.000 MB deduped)\r"
          }
        },
        "6b982a0cc5634976b52c1366f96b0d15": {
          "model_module": "@jupyter-widgets/controls",
          "model_module_version": "1.5.0",
          "model_name": "LabelModel",
          "state": {
            "_dom_classes": [],
            "_model_module": "@jupyter-widgets/controls",
            "_model_module_version": "1.5.0",
            "_model_name": "LabelModel",
            "_view_count": null,
            "_view_module": "@jupyter-widgets/controls",
            "_view_module_version": "1.5.0",
            "_view_name": "LabelView",
            "description": "",
            "description_tooltip": null,
            "layout": "IPY_MODEL_df4b77aa34e6473c806ec4a143a8dc36",
            "placeholder": "​",
            "style": "IPY_MODEL_a80dffa616d74cf9a038fca247bd051d",
            "value": "0.001 MB of 0.009 MB uploaded (0.000 MB deduped)\r"
          }
        },
        "6c2f54a713c743f2a9583fee3c9345e6": {
          "model_module": "@jupyter-widgets/base",
          "model_module_version": "1.2.0",
          "model_name": "LayoutModel",
          "state": {
            "_model_module": "@jupyter-widgets/base",
            "_model_module_version": "1.2.0",
            "_model_name": "LayoutModel",
            "_view_count": null,
            "_view_module": "@jupyter-widgets/base",
            "_view_module_version": "1.2.0",
            "_view_name": "LayoutView",
            "align_content": null,
            "align_items": null,
            "align_self": null,
            "border": null,
            "bottom": null,
            "display": null,
            "flex": null,
            "flex_flow": null,
            "grid_area": null,
            "grid_auto_columns": null,
            "grid_auto_flow": null,
            "grid_auto_rows": null,
            "grid_column": null,
            "grid_gap": null,
            "grid_row": null,
            "grid_template_areas": null,
            "grid_template_columns": null,
            "grid_template_rows": null,
            "height": null,
            "justify_content": null,
            "justify_items": null,
            "left": null,
            "margin": null,
            "max_height": null,
            "max_width": null,
            "min_height": null,
            "min_width": null,
            "object_fit": null,
            "object_position": null,
            "order": null,
            "overflow": null,
            "overflow_x": null,
            "overflow_y": null,
            "padding": null,
            "right": null,
            "top": null,
            "visibility": null,
            "width": null
          }
        },
        "72b65012e91f4637ac6f2ecc413f4330": {
          "model_module": "@jupyter-widgets/controls",
          "model_module_version": "1.5.0",
          "model_name": "DescriptionStyleModel",
          "state": {
            "_model_module": "@jupyter-widgets/controls",
            "_model_module_version": "1.5.0",
            "_model_name": "DescriptionStyleModel",
            "_view_count": null,
            "_view_module": "@jupyter-widgets/base",
            "_view_module_version": "1.2.0",
            "_view_name": "StyleView",
            "description_width": ""
          }
        },
        "79bba78858794cf6bd02b21700672da9": {
          "model_module": "@jupyter-widgets/controls",
          "model_module_version": "1.5.0",
          "model_name": "FloatProgressModel",
          "state": {
            "_dom_classes": [],
            "_model_module": "@jupyter-widgets/controls",
            "_model_module_version": "1.5.0",
            "_model_name": "FloatProgressModel",
            "_view_count": null,
            "_view_module": "@jupyter-widgets/controls",
            "_view_module_version": "1.5.0",
            "_view_name": "ProgressView",
            "bar_style": "",
            "description": "",
            "description_tooltip": null,
            "layout": "IPY_MODEL_5bd7d07bc8ef42eaa29b163ac2747631",
            "max": 1,
            "min": 0,
            "orientation": "horizontal",
            "style": "IPY_MODEL_ab5937b7ec334380b58f48125c3e1d45",
            "value": 1
          }
        },
        "7cc217e28af040ceacf9ed2c489daae2": {
          "model_module": "@jupyter-widgets/controls",
          "model_module_version": "1.5.0",
          "model_name": "VBoxModel",
          "state": {
            "_dom_classes": [],
            "_model_module": "@jupyter-widgets/controls",
            "_model_module_version": "1.5.0",
            "_model_name": "VBoxModel",
            "_view_count": null,
            "_view_module": "@jupyter-widgets/controls",
            "_view_module_version": "1.5.0",
            "_view_name": "VBoxView",
            "box_style": "",
            "children": [
              "IPY_MODEL_994d3ebc0e1946e58f2ffa82c3f02605",
              "IPY_MODEL_413f096faf224315bcbc5be8e2f9bdad"
            ],
            "layout": "IPY_MODEL_237bd7d31c9c44ff82d5018753eeb987"
          }
        },
        "9063b614fe7446a4abe88f4f9b7afde8": {
          "model_module": "@jupyter-widgets/controls",
          "model_module_version": "1.5.0",
          "model_name": "FloatProgressModel",
          "state": {
            "_dom_classes": [],
            "_model_module": "@jupyter-widgets/controls",
            "_model_module_version": "1.5.0",
            "_model_name": "FloatProgressModel",
            "_view_count": null,
            "_view_module": "@jupyter-widgets/controls",
            "_view_module_version": "1.5.0",
            "_view_name": "ProgressView",
            "bar_style": "",
            "description": "",
            "description_tooltip": null,
            "layout": "IPY_MODEL_1366f2157adc4dbfbc07b8cd634ff8cd",
            "max": 1,
            "min": 0,
            "orientation": "horizontal",
            "style": "IPY_MODEL_c2c26dfb3c554d17a31d99e9ab9981ca",
            "value": 1
          }
        },
        "91418c664c5d449087559325e1fb988d": {
          "model_module": "@jupyter-widgets/controls",
          "model_module_version": "1.5.0",
          "model_name": "ProgressStyleModel",
          "state": {
            "_model_module": "@jupyter-widgets/controls",
            "_model_module_version": "1.5.0",
            "_model_name": "ProgressStyleModel",
            "_view_count": null,
            "_view_module": "@jupyter-widgets/base",
            "_view_module_version": "1.2.0",
            "_view_name": "StyleView",
            "bar_color": null,
            "description_width": ""
          }
        },
        "915b1cb72f324679b1dcbed31921602f": {
          "model_module": "@jupyter-widgets/base",
          "model_module_version": "1.2.0",
          "model_name": "LayoutModel",
          "state": {
            "_model_module": "@jupyter-widgets/base",
            "_model_module_version": "1.2.0",
            "_model_name": "LayoutModel",
            "_view_count": null,
            "_view_module": "@jupyter-widgets/base",
            "_view_module_version": "1.2.0",
            "_view_name": "LayoutView",
            "align_content": null,
            "align_items": null,
            "align_self": null,
            "border": null,
            "bottom": null,
            "display": null,
            "flex": null,
            "flex_flow": null,
            "grid_area": null,
            "grid_auto_columns": null,
            "grid_auto_flow": null,
            "grid_auto_rows": null,
            "grid_column": null,
            "grid_gap": null,
            "grid_row": null,
            "grid_template_areas": null,
            "grid_template_columns": null,
            "grid_template_rows": null,
            "height": null,
            "justify_content": null,
            "justify_items": null,
            "left": null,
            "margin": null,
            "max_height": null,
            "max_width": null,
            "min_height": null,
            "min_width": null,
            "object_fit": null,
            "object_position": null,
            "order": null,
            "overflow": null,
            "overflow_x": null,
            "overflow_y": null,
            "padding": null,
            "right": null,
            "top": null,
            "visibility": null,
            "width": null
          }
        },
        "994d3ebc0e1946e58f2ffa82c3f02605": {
          "model_module": "@jupyter-widgets/controls",
          "model_module_version": "1.5.0",
          "model_name": "LabelModel",
          "state": {
            "_dom_classes": [],
            "_model_module": "@jupyter-widgets/controls",
            "_model_module_version": "1.5.0",
            "_model_name": "LabelModel",
            "_view_count": null,
            "_view_module": "@jupyter-widgets/controls",
            "_view_module_version": "1.5.0",
            "_view_name": "LabelView",
            "description": "",
            "description_tooltip": null,
            "layout": "IPY_MODEL_afb3e28a966f4849a554f421e7fb7a55",
            "placeholder": "​",
            "style": "IPY_MODEL_d0007a71d6094d7194e4f145a271554a",
            "value": "0.001 MB of 0.009 MB uploaded (0.000 MB deduped)\r"
          }
        },
        "9bd26231e9e446a294c3904a0afd99af": {
          "model_module": "@jupyter-widgets/controls",
          "model_module_version": "1.5.0",
          "model_name": "LabelModel",
          "state": {
            "_dom_classes": [],
            "_model_module": "@jupyter-widgets/controls",
            "_model_module_version": "1.5.0",
            "_model_name": "LabelModel",
            "_view_count": null,
            "_view_module": "@jupyter-widgets/controls",
            "_view_module_version": "1.5.0",
            "_view_name": "LabelView",
            "description": "",
            "description_tooltip": null,
            "layout": "IPY_MODEL_aff4cb5e44eb42a58ac09dc3ec2d275f",
            "placeholder": "​",
            "style": "IPY_MODEL_401c345eb4a5491689ae11e39910e2c2",
            "value": "0.001 MB of 0.001 MB uploaded (0.000 MB deduped)\r"
          }
        },
        "9c72ec73fda644238350f1cf39dce01a": {
          "model_module": "@jupyter-widgets/controls",
          "model_module_version": "1.5.0",
          "model_name": "VBoxModel",
          "state": {
            "_dom_classes": [],
            "_model_module": "@jupyter-widgets/controls",
            "_model_module_version": "1.5.0",
            "_model_name": "VBoxModel",
            "_view_count": null,
            "_view_module": "@jupyter-widgets/controls",
            "_view_module_version": "1.5.0",
            "_view_name": "VBoxView",
            "box_style": "",
            "children": [
              "IPY_MODEL_e9d77d482d534a18b13888e60f0c0010",
              "IPY_MODEL_ea473ff284544f1fb5b5044b92442cbe"
            ],
            "layout": "IPY_MODEL_f76a02fc2b9b4a33bd3cc6f170d09df6"
          }
        },
        "9d9a547f775c424c9eca5ed7d45941a0": {
          "model_module": "@jupyter-widgets/controls",
          "model_module_version": "1.5.0",
          "model_name": "FloatProgressModel",
          "state": {
            "_dom_classes": [],
            "_model_module": "@jupyter-widgets/controls",
            "_model_module_version": "1.5.0",
            "_model_name": "FloatProgressModel",
            "_view_count": null,
            "_view_module": "@jupyter-widgets/controls",
            "_view_module_version": "1.5.0",
            "_view_name": "ProgressView",
            "bar_style": "",
            "description": "",
            "description_tooltip": null,
            "layout": "IPY_MODEL_291ef5e1abae4a47a400130639027e25",
            "max": 1,
            "min": 0,
            "orientation": "horizontal",
            "style": "IPY_MODEL_57386386cd52482894fd60bc1a745b5a",
            "value": 0.06933443061413434
          }
        },
        "a10e1045b40c4190a00e400e08fdccd8": {
          "model_module": "@jupyter-widgets/controls",
          "model_module_version": "1.5.0",
          "model_name": "FloatProgressModel",
          "state": {
            "_dom_classes": [],
            "_model_module": "@jupyter-widgets/controls",
            "_model_module_version": "1.5.0",
            "_model_name": "FloatProgressModel",
            "_view_count": null,
            "_view_module": "@jupyter-widgets/controls",
            "_view_module_version": "1.5.0",
            "_view_name": "ProgressView",
            "bar_style": "",
            "description": "",
            "description_tooltip": null,
            "layout": "IPY_MODEL_f914df6b743146aeb30d861b660196a6",
            "max": 1,
            "min": 0,
            "orientation": "horizontal",
            "style": "IPY_MODEL_5192abfa0df24d13a95424578b9cbbbf",
            "value": 0.06913910006163962
          }
        },
        "a27a78d8235d42ada5e24e71b1cb9da0": {
          "model_module": "@jupyter-widgets/base",
          "model_module_version": "1.2.0",
          "model_name": "LayoutModel",
          "state": {
            "_model_module": "@jupyter-widgets/base",
            "_model_module_version": "1.2.0",
            "_model_name": "LayoutModel",
            "_view_count": null,
            "_view_module": "@jupyter-widgets/base",
            "_view_module_version": "1.2.0",
            "_view_name": "LayoutView",
            "align_content": null,
            "align_items": null,
            "align_self": null,
            "border": null,
            "bottom": null,
            "display": null,
            "flex": null,
            "flex_flow": null,
            "grid_area": null,
            "grid_auto_columns": null,
            "grid_auto_flow": null,
            "grid_auto_rows": null,
            "grid_column": null,
            "grid_gap": null,
            "grid_row": null,
            "grid_template_areas": null,
            "grid_template_columns": null,
            "grid_template_rows": null,
            "height": null,
            "justify_content": null,
            "justify_items": null,
            "left": null,
            "margin": null,
            "max_height": null,
            "max_width": null,
            "min_height": null,
            "min_width": null,
            "object_fit": null,
            "object_position": null,
            "order": null,
            "overflow": null,
            "overflow_x": null,
            "overflow_y": null,
            "padding": null,
            "right": null,
            "top": null,
            "visibility": null,
            "width": null
          }
        },
        "a541e75121fb40b78c9dbaf07fcc8fc9": {
          "model_module": "@jupyter-widgets/base",
          "model_module_version": "1.2.0",
          "model_name": "LayoutModel",
          "state": {
            "_model_module": "@jupyter-widgets/base",
            "_model_module_version": "1.2.0",
            "_model_name": "LayoutModel",
            "_view_count": null,
            "_view_module": "@jupyter-widgets/base",
            "_view_module_version": "1.2.0",
            "_view_name": "LayoutView",
            "align_content": null,
            "align_items": null,
            "align_self": null,
            "border": null,
            "bottom": null,
            "display": null,
            "flex": null,
            "flex_flow": null,
            "grid_area": null,
            "grid_auto_columns": null,
            "grid_auto_flow": null,
            "grid_auto_rows": null,
            "grid_column": null,
            "grid_gap": null,
            "grid_row": null,
            "grid_template_areas": null,
            "grid_template_columns": null,
            "grid_template_rows": null,
            "height": null,
            "justify_content": null,
            "justify_items": null,
            "left": null,
            "margin": null,
            "max_height": null,
            "max_width": null,
            "min_height": null,
            "min_width": null,
            "object_fit": null,
            "object_position": null,
            "order": null,
            "overflow": null,
            "overflow_x": null,
            "overflow_y": null,
            "padding": null,
            "right": null,
            "top": null,
            "visibility": null,
            "width": null
          }
        },
        "a58f53c2b2104762b6278d17688e611b": {
          "model_module": "@jupyter-widgets/base",
          "model_module_version": "1.2.0",
          "model_name": "LayoutModel",
          "state": {
            "_model_module": "@jupyter-widgets/base",
            "_model_module_version": "1.2.0",
            "_model_name": "LayoutModel",
            "_view_count": null,
            "_view_module": "@jupyter-widgets/base",
            "_view_module_version": "1.2.0",
            "_view_name": "LayoutView",
            "align_content": null,
            "align_items": null,
            "align_self": null,
            "border": null,
            "bottom": null,
            "display": null,
            "flex": null,
            "flex_flow": null,
            "grid_area": null,
            "grid_auto_columns": null,
            "grid_auto_flow": null,
            "grid_auto_rows": null,
            "grid_column": null,
            "grid_gap": null,
            "grid_row": null,
            "grid_template_areas": null,
            "grid_template_columns": null,
            "grid_template_rows": null,
            "height": null,
            "justify_content": null,
            "justify_items": null,
            "left": null,
            "margin": null,
            "max_height": null,
            "max_width": null,
            "min_height": null,
            "min_width": null,
            "object_fit": null,
            "object_position": null,
            "order": null,
            "overflow": null,
            "overflow_x": null,
            "overflow_y": null,
            "padding": null,
            "right": null,
            "top": null,
            "visibility": null,
            "width": null
          }
        },
        "a80dffa616d74cf9a038fca247bd051d": {
          "model_module": "@jupyter-widgets/controls",
          "model_module_version": "1.5.0",
          "model_name": "DescriptionStyleModel",
          "state": {
            "_model_module": "@jupyter-widgets/controls",
            "_model_module_version": "1.5.0",
            "_model_name": "DescriptionStyleModel",
            "_view_count": null,
            "_view_module": "@jupyter-widgets/base",
            "_view_module_version": "1.2.0",
            "_view_name": "StyleView",
            "description_width": ""
          }
        },
        "ab5937b7ec334380b58f48125c3e1d45": {
          "model_module": "@jupyter-widgets/controls",
          "model_module_version": "1.5.0",
          "model_name": "ProgressStyleModel",
          "state": {
            "_model_module": "@jupyter-widgets/controls",
            "_model_module_version": "1.5.0",
            "_model_name": "ProgressStyleModel",
            "_view_count": null,
            "_view_module": "@jupyter-widgets/base",
            "_view_module_version": "1.2.0",
            "_view_name": "StyleView",
            "bar_color": null,
            "description_width": ""
          }
        },
        "afb3e28a966f4849a554f421e7fb7a55": {
          "model_module": "@jupyter-widgets/base",
          "model_module_version": "1.2.0",
          "model_name": "LayoutModel",
          "state": {
            "_model_module": "@jupyter-widgets/base",
            "_model_module_version": "1.2.0",
            "_model_name": "LayoutModel",
            "_view_count": null,
            "_view_module": "@jupyter-widgets/base",
            "_view_module_version": "1.2.0",
            "_view_name": "LayoutView",
            "align_content": null,
            "align_items": null,
            "align_self": null,
            "border": null,
            "bottom": null,
            "display": null,
            "flex": null,
            "flex_flow": null,
            "grid_area": null,
            "grid_auto_columns": null,
            "grid_auto_flow": null,
            "grid_auto_rows": null,
            "grid_column": null,
            "grid_gap": null,
            "grid_row": null,
            "grid_template_areas": null,
            "grid_template_columns": null,
            "grid_template_rows": null,
            "height": null,
            "justify_content": null,
            "justify_items": null,
            "left": null,
            "margin": null,
            "max_height": null,
            "max_width": null,
            "min_height": null,
            "min_width": null,
            "object_fit": null,
            "object_position": null,
            "order": null,
            "overflow": null,
            "overflow_x": null,
            "overflow_y": null,
            "padding": null,
            "right": null,
            "top": null,
            "visibility": null,
            "width": null
          }
        },
        "aff4cb5e44eb42a58ac09dc3ec2d275f": {
          "model_module": "@jupyter-widgets/base",
          "model_module_version": "1.2.0",
          "model_name": "LayoutModel",
          "state": {
            "_model_module": "@jupyter-widgets/base",
            "_model_module_version": "1.2.0",
            "_model_name": "LayoutModel",
            "_view_count": null,
            "_view_module": "@jupyter-widgets/base",
            "_view_module_version": "1.2.0",
            "_view_name": "LayoutView",
            "align_content": null,
            "align_items": null,
            "align_self": null,
            "border": null,
            "bottom": null,
            "display": null,
            "flex": null,
            "flex_flow": null,
            "grid_area": null,
            "grid_auto_columns": null,
            "grid_auto_flow": null,
            "grid_auto_rows": null,
            "grid_column": null,
            "grid_gap": null,
            "grid_row": null,
            "grid_template_areas": null,
            "grid_template_columns": null,
            "grid_template_rows": null,
            "height": null,
            "justify_content": null,
            "justify_items": null,
            "left": null,
            "margin": null,
            "max_height": null,
            "max_width": null,
            "min_height": null,
            "min_width": null,
            "object_fit": null,
            "object_position": null,
            "order": null,
            "overflow": null,
            "overflow_x": null,
            "overflow_y": null,
            "padding": null,
            "right": null,
            "top": null,
            "visibility": null,
            "width": null
          }
        },
        "b6ccff2843cd466bafbdfde9d1c9330a": {
          "model_module": "@jupyter-widgets/controls",
          "model_module_version": "1.5.0",
          "model_name": "VBoxModel",
          "state": {
            "_dom_classes": [],
            "_model_module": "@jupyter-widgets/controls",
            "_model_module_version": "1.5.0",
            "_model_name": "VBoxModel",
            "_view_count": null,
            "_view_module": "@jupyter-widgets/controls",
            "_view_module_version": "1.5.0",
            "_view_name": "VBoxView",
            "box_style": "",
            "children": [
              "IPY_MODEL_1e6a055f1ff842ea8e91e2c1a7893df6",
              "IPY_MODEL_9d9a547f775c424c9eca5ed7d45941a0"
            ],
            "layout": "IPY_MODEL_fc8f2a1696d9411a9fededf6fdfbf1b2"
          }
        },
        "bb8f379b63154269a9f4100df5da9cc3": {
          "model_module": "@jupyter-widgets/controls",
          "model_module_version": "1.5.0",
          "model_name": "LabelModel",
          "state": {
            "_dom_classes": [],
            "_model_module": "@jupyter-widgets/controls",
            "_model_module_version": "1.5.0",
            "_model_name": "LabelModel",
            "_view_count": null,
            "_view_module": "@jupyter-widgets/controls",
            "_view_module_version": "1.5.0",
            "_view_name": "LabelView",
            "description": "",
            "description_tooltip": null,
            "layout": "IPY_MODEL_fec0f43bf4c74f119739ee9ba97aadb9",
            "placeholder": "​",
            "style": "IPY_MODEL_bd1c35d2abc04e1ebafb4c052c637eac",
            "value": "0.001 MB of 0.001 MB uploaded (0.000 MB deduped)\r"
          }
        },
        "bd1c35d2abc04e1ebafb4c052c637eac": {
          "model_module": "@jupyter-widgets/controls",
          "model_module_version": "1.5.0",
          "model_name": "DescriptionStyleModel",
          "state": {
            "_model_module": "@jupyter-widgets/controls",
            "_model_module_version": "1.5.0",
            "_model_name": "DescriptionStyleModel",
            "_view_count": null,
            "_view_module": "@jupyter-widgets/base",
            "_view_module_version": "1.2.0",
            "_view_name": "StyleView",
            "description_width": ""
          }
        },
        "c19af268dcd84ebd993002ec90b8e6cb": {
          "model_module": "@jupyter-widgets/base",
          "model_module_version": "1.2.0",
          "model_name": "LayoutModel",
          "state": {
            "_model_module": "@jupyter-widgets/base",
            "_model_module_version": "1.2.0",
            "_model_name": "LayoutModel",
            "_view_count": null,
            "_view_module": "@jupyter-widgets/base",
            "_view_module_version": "1.2.0",
            "_view_name": "LayoutView",
            "align_content": null,
            "align_items": null,
            "align_self": null,
            "border": null,
            "bottom": null,
            "display": null,
            "flex": null,
            "flex_flow": null,
            "grid_area": null,
            "grid_auto_columns": null,
            "grid_auto_flow": null,
            "grid_auto_rows": null,
            "grid_column": null,
            "grid_gap": null,
            "grid_row": null,
            "grid_template_areas": null,
            "grid_template_columns": null,
            "grid_template_rows": null,
            "height": null,
            "justify_content": null,
            "justify_items": null,
            "left": null,
            "margin": null,
            "max_height": null,
            "max_width": null,
            "min_height": null,
            "min_width": null,
            "object_fit": null,
            "object_position": null,
            "order": null,
            "overflow": null,
            "overflow_x": null,
            "overflow_y": null,
            "padding": null,
            "right": null,
            "top": null,
            "visibility": null,
            "width": null
          }
        },
        "c2a4005e5ec4431a82ce79af8c191caa": {
          "model_module": "@jupyter-widgets/base",
          "model_module_version": "1.2.0",
          "model_name": "LayoutModel",
          "state": {
            "_model_module": "@jupyter-widgets/base",
            "_model_module_version": "1.2.0",
            "_model_name": "LayoutModel",
            "_view_count": null,
            "_view_module": "@jupyter-widgets/base",
            "_view_module_version": "1.2.0",
            "_view_name": "LayoutView",
            "align_content": null,
            "align_items": null,
            "align_self": null,
            "border": null,
            "bottom": null,
            "display": null,
            "flex": null,
            "flex_flow": null,
            "grid_area": null,
            "grid_auto_columns": null,
            "grid_auto_flow": null,
            "grid_auto_rows": null,
            "grid_column": null,
            "grid_gap": null,
            "grid_row": null,
            "grid_template_areas": null,
            "grid_template_columns": null,
            "grid_template_rows": null,
            "height": null,
            "justify_content": null,
            "justify_items": null,
            "left": null,
            "margin": null,
            "max_height": null,
            "max_width": null,
            "min_height": null,
            "min_width": null,
            "object_fit": null,
            "object_position": null,
            "order": null,
            "overflow": null,
            "overflow_x": null,
            "overflow_y": null,
            "padding": null,
            "right": null,
            "top": null,
            "visibility": null,
            "width": null
          }
        },
        "c2c26dfb3c554d17a31d99e9ab9981ca": {
          "model_module": "@jupyter-widgets/controls",
          "model_module_version": "1.5.0",
          "model_name": "ProgressStyleModel",
          "state": {
            "_model_module": "@jupyter-widgets/controls",
            "_model_module_version": "1.5.0",
            "_model_name": "ProgressStyleModel",
            "_view_count": null,
            "_view_module": "@jupyter-widgets/base",
            "_view_module_version": "1.2.0",
            "_view_name": "StyleView",
            "bar_color": null,
            "description_width": ""
          }
        },
        "c5cca55d6947478c9ec6cb5983c5d7ba": {
          "model_module": "@jupyter-widgets/controls",
          "model_module_version": "1.5.0",
          "model_name": "ProgressStyleModel",
          "state": {
            "_model_module": "@jupyter-widgets/controls",
            "_model_module_version": "1.5.0",
            "_model_name": "ProgressStyleModel",
            "_view_count": null,
            "_view_module": "@jupyter-widgets/base",
            "_view_module_version": "1.2.0",
            "_view_name": "StyleView",
            "bar_color": null,
            "description_width": ""
          }
        },
        "d0007a71d6094d7194e4f145a271554a": {
          "model_module": "@jupyter-widgets/controls",
          "model_module_version": "1.5.0",
          "model_name": "DescriptionStyleModel",
          "state": {
            "_model_module": "@jupyter-widgets/controls",
            "_model_module_version": "1.5.0",
            "_model_name": "DescriptionStyleModel",
            "_view_count": null,
            "_view_module": "@jupyter-widgets/base",
            "_view_module_version": "1.2.0",
            "_view_name": "StyleView",
            "description_width": ""
          }
        },
        "d0422c10fcdd402aab56d386867d1d3f": {
          "model_module": "@jupyter-widgets/controls",
          "model_module_version": "1.5.0",
          "model_name": "DescriptionStyleModel",
          "state": {
            "_model_module": "@jupyter-widgets/controls",
            "_model_module_version": "1.5.0",
            "_model_name": "DescriptionStyleModel",
            "_view_count": null,
            "_view_module": "@jupyter-widgets/base",
            "_view_module_version": "1.2.0",
            "_view_name": "StyleView",
            "description_width": ""
          }
        },
        "d9f1edf87b994565817a2a16a7564425": {
          "model_module": "@jupyter-widgets/controls",
          "model_module_version": "1.5.0",
          "model_name": "ProgressStyleModel",
          "state": {
            "_model_module": "@jupyter-widgets/controls",
            "_model_module_version": "1.5.0",
            "_model_name": "ProgressStyleModel",
            "_view_count": null,
            "_view_module": "@jupyter-widgets/base",
            "_view_module_version": "1.2.0",
            "_view_name": "StyleView",
            "bar_color": null,
            "description_width": ""
          }
        },
        "da8d4617203d423ba655b4563789a0ca": {
          "model_module": "@jupyter-widgets/controls",
          "model_module_version": "1.5.0",
          "model_name": "FloatProgressModel",
          "state": {
            "_dom_classes": [],
            "_model_module": "@jupyter-widgets/controls",
            "_model_module_version": "1.5.0",
            "_model_name": "FloatProgressModel",
            "_view_count": null,
            "_view_module": "@jupyter-widgets/controls",
            "_view_module_version": "1.5.0",
            "_view_name": "ProgressView",
            "bar_style": "",
            "description": "",
            "description_tooltip": null,
            "layout": "IPY_MODEL_6c2f54a713c743f2a9583fee3c9345e6",
            "max": 1,
            "min": 0,
            "orientation": "horizontal",
            "style": "IPY_MODEL_91418c664c5d449087559325e1fb988d",
            "value": 1
          }
        },
        "db776aac00d1472bb5e4bdaa347346d3": {
          "model_module": "@jupyter-widgets/controls",
          "model_module_version": "1.5.0",
          "model_name": "DescriptionStyleModel",
          "state": {
            "_model_module": "@jupyter-widgets/controls",
            "_model_module_version": "1.5.0",
            "_model_name": "DescriptionStyleModel",
            "_view_count": null,
            "_view_module": "@jupyter-widgets/base",
            "_view_module_version": "1.2.0",
            "_view_name": "StyleView",
            "description_width": ""
          }
        },
        "df4b77aa34e6473c806ec4a143a8dc36": {
          "model_module": "@jupyter-widgets/base",
          "model_module_version": "1.2.0",
          "model_name": "LayoutModel",
          "state": {
            "_model_module": "@jupyter-widgets/base",
            "_model_module_version": "1.2.0",
            "_model_name": "LayoutModel",
            "_view_count": null,
            "_view_module": "@jupyter-widgets/base",
            "_view_module_version": "1.2.0",
            "_view_name": "LayoutView",
            "align_content": null,
            "align_items": null,
            "align_self": null,
            "border": null,
            "bottom": null,
            "display": null,
            "flex": null,
            "flex_flow": null,
            "grid_area": null,
            "grid_auto_columns": null,
            "grid_auto_flow": null,
            "grid_auto_rows": null,
            "grid_column": null,
            "grid_gap": null,
            "grid_row": null,
            "grid_template_areas": null,
            "grid_template_columns": null,
            "grid_template_rows": null,
            "height": null,
            "justify_content": null,
            "justify_items": null,
            "left": null,
            "margin": null,
            "max_height": null,
            "max_width": null,
            "min_height": null,
            "min_width": null,
            "object_fit": null,
            "object_position": null,
            "order": null,
            "overflow": null,
            "overflow_x": null,
            "overflow_y": null,
            "padding": null,
            "right": null,
            "top": null,
            "visibility": null,
            "width": null
          }
        },
        "e35f4576673f47019036ee284227982d": {
          "model_module": "@jupyter-widgets/base",
          "model_module_version": "1.2.0",
          "model_name": "LayoutModel",
          "state": {
            "_model_module": "@jupyter-widgets/base",
            "_model_module_version": "1.2.0",
            "_model_name": "LayoutModel",
            "_view_count": null,
            "_view_module": "@jupyter-widgets/base",
            "_view_module_version": "1.2.0",
            "_view_name": "LayoutView",
            "align_content": null,
            "align_items": null,
            "align_self": null,
            "border": null,
            "bottom": null,
            "display": null,
            "flex": null,
            "flex_flow": null,
            "grid_area": null,
            "grid_auto_columns": null,
            "grid_auto_flow": null,
            "grid_auto_rows": null,
            "grid_column": null,
            "grid_gap": null,
            "grid_row": null,
            "grid_template_areas": null,
            "grid_template_columns": null,
            "grid_template_rows": null,
            "height": null,
            "justify_content": null,
            "justify_items": null,
            "left": null,
            "margin": null,
            "max_height": null,
            "max_width": null,
            "min_height": null,
            "min_width": null,
            "object_fit": null,
            "object_position": null,
            "order": null,
            "overflow": null,
            "overflow_x": null,
            "overflow_y": null,
            "padding": null,
            "right": null,
            "top": null,
            "visibility": null,
            "width": null
          }
        },
        "e9d77d482d534a18b13888e60f0c0010": {
          "model_module": "@jupyter-widgets/controls",
          "model_module_version": "1.5.0",
          "model_name": "LabelModel",
          "state": {
            "_dom_classes": [],
            "_model_module": "@jupyter-widgets/controls",
            "_model_module_version": "1.5.0",
            "_model_name": "LabelModel",
            "_view_count": null,
            "_view_module": "@jupyter-widgets/controls",
            "_view_module_version": "1.5.0",
            "_view_name": "LabelView",
            "description": "",
            "description_tooltip": null,
            "layout": "IPY_MODEL_c2a4005e5ec4431a82ce79af8c191caa",
            "placeholder": "​",
            "style": "IPY_MODEL_72b65012e91f4637ac6f2ecc413f4330",
            "value": "0.001 MB of 0.009 MB uploaded (0.000 MB deduped)\r"
          }
        },
        "ea473ff284544f1fb5b5044b92442cbe": {
          "model_module": "@jupyter-widgets/controls",
          "model_module_version": "1.5.0",
          "model_name": "FloatProgressModel",
          "state": {
            "_dom_classes": [],
            "_model_module": "@jupyter-widgets/controls",
            "_model_module_version": "1.5.0",
            "_model_name": "FloatProgressModel",
            "_view_count": null,
            "_view_module": "@jupyter-widgets/controls",
            "_view_module_version": "1.5.0",
            "_view_name": "ProgressView",
            "bar_style": "",
            "description": "",
            "description_tooltip": null,
            "layout": "IPY_MODEL_a58f53c2b2104762b6278d17688e611b",
            "max": 1,
            "min": 0,
            "orientation": "horizontal",
            "style": "IPY_MODEL_c5cca55d6947478c9ec6cb5983c5d7ba",
            "value": 0.07170253569145536
          }
        },
        "ee15149029c54646b1a6e00d856224c1": {
          "model_module": "@jupyter-widgets/base",
          "model_module_version": "1.2.0",
          "model_name": "LayoutModel",
          "state": {
            "_model_module": "@jupyter-widgets/base",
            "_model_module_version": "1.2.0",
            "_model_name": "LayoutModel",
            "_view_count": null,
            "_view_module": "@jupyter-widgets/base",
            "_view_module_version": "1.2.0",
            "_view_name": "LayoutView",
            "align_content": null,
            "align_items": null,
            "align_self": null,
            "border": null,
            "bottom": null,
            "display": null,
            "flex": null,
            "flex_flow": null,
            "grid_area": null,
            "grid_auto_columns": null,
            "grid_auto_flow": null,
            "grid_auto_rows": null,
            "grid_column": null,
            "grid_gap": null,
            "grid_row": null,
            "grid_template_areas": null,
            "grid_template_columns": null,
            "grid_template_rows": null,
            "height": null,
            "justify_content": null,
            "justify_items": null,
            "left": null,
            "margin": null,
            "max_height": null,
            "max_width": null,
            "min_height": null,
            "min_width": null,
            "object_fit": null,
            "object_position": null,
            "order": null,
            "overflow": null,
            "overflow_x": null,
            "overflow_y": null,
            "padding": null,
            "right": null,
            "top": null,
            "visibility": null,
            "width": null
          }
        },
        "f399691303ac4894a3d3f9d5a4c5d966": {
          "model_module": "@jupyter-widgets/controls",
          "model_module_version": "1.5.0",
          "model_name": "DescriptionStyleModel",
          "state": {
            "_model_module": "@jupyter-widgets/controls",
            "_model_module_version": "1.5.0",
            "_model_name": "DescriptionStyleModel",
            "_view_count": null,
            "_view_module": "@jupyter-widgets/base",
            "_view_module_version": "1.2.0",
            "_view_name": "StyleView",
            "description_width": ""
          }
        },
        "f76a02fc2b9b4a33bd3cc6f170d09df6": {
          "model_module": "@jupyter-widgets/base",
          "model_module_version": "1.2.0",
          "model_name": "LayoutModel",
          "state": {
            "_model_module": "@jupyter-widgets/base",
            "_model_module_version": "1.2.0",
            "_model_name": "LayoutModel",
            "_view_count": null,
            "_view_module": "@jupyter-widgets/base",
            "_view_module_version": "1.2.0",
            "_view_name": "LayoutView",
            "align_content": null,
            "align_items": null,
            "align_self": null,
            "border": null,
            "bottom": null,
            "display": null,
            "flex": null,
            "flex_flow": null,
            "grid_area": null,
            "grid_auto_columns": null,
            "grid_auto_flow": null,
            "grid_auto_rows": null,
            "grid_column": null,
            "grid_gap": null,
            "grid_row": null,
            "grid_template_areas": null,
            "grid_template_columns": null,
            "grid_template_rows": null,
            "height": null,
            "justify_content": null,
            "justify_items": null,
            "left": null,
            "margin": null,
            "max_height": null,
            "max_width": null,
            "min_height": null,
            "min_width": null,
            "object_fit": null,
            "object_position": null,
            "order": null,
            "overflow": null,
            "overflow_x": null,
            "overflow_y": null,
            "padding": null,
            "right": null,
            "top": null,
            "visibility": null,
            "width": null
          }
        },
        "f914df6b743146aeb30d861b660196a6": {
          "model_module": "@jupyter-widgets/base",
          "model_module_version": "1.2.0",
          "model_name": "LayoutModel",
          "state": {
            "_model_module": "@jupyter-widgets/base",
            "_model_module_version": "1.2.0",
            "_model_name": "LayoutModel",
            "_view_count": null,
            "_view_module": "@jupyter-widgets/base",
            "_view_module_version": "1.2.0",
            "_view_name": "LayoutView",
            "align_content": null,
            "align_items": null,
            "align_self": null,
            "border": null,
            "bottom": null,
            "display": null,
            "flex": null,
            "flex_flow": null,
            "grid_area": null,
            "grid_auto_columns": null,
            "grid_auto_flow": null,
            "grid_auto_rows": null,
            "grid_column": null,
            "grid_gap": null,
            "grid_row": null,
            "grid_template_areas": null,
            "grid_template_columns": null,
            "grid_template_rows": null,
            "height": null,
            "justify_content": null,
            "justify_items": null,
            "left": null,
            "margin": null,
            "max_height": null,
            "max_width": null,
            "min_height": null,
            "min_width": null,
            "object_fit": null,
            "object_position": null,
            "order": null,
            "overflow": null,
            "overflow_x": null,
            "overflow_y": null,
            "padding": null,
            "right": null,
            "top": null,
            "visibility": null,
            "width": null
          }
        },
        "fc8f2a1696d9411a9fededf6fdfbf1b2": {
          "model_module": "@jupyter-widgets/base",
          "model_module_version": "1.2.0",
          "model_name": "LayoutModel",
          "state": {
            "_model_module": "@jupyter-widgets/base",
            "_model_module_version": "1.2.0",
            "_model_name": "LayoutModel",
            "_view_count": null,
            "_view_module": "@jupyter-widgets/base",
            "_view_module_version": "1.2.0",
            "_view_name": "LayoutView",
            "align_content": null,
            "align_items": null,
            "align_self": null,
            "border": null,
            "bottom": null,
            "display": null,
            "flex": null,
            "flex_flow": null,
            "grid_area": null,
            "grid_auto_columns": null,
            "grid_auto_flow": null,
            "grid_auto_rows": null,
            "grid_column": null,
            "grid_gap": null,
            "grid_row": null,
            "grid_template_areas": null,
            "grid_template_columns": null,
            "grid_template_rows": null,
            "height": null,
            "justify_content": null,
            "justify_items": null,
            "left": null,
            "margin": null,
            "max_height": null,
            "max_width": null,
            "min_height": null,
            "min_width": null,
            "object_fit": null,
            "object_position": null,
            "order": null,
            "overflow": null,
            "overflow_x": null,
            "overflow_y": null,
            "padding": null,
            "right": null,
            "top": null,
            "visibility": null,
            "width": null
          }
        },
        "fec0f43bf4c74f119739ee9ba97aadb9": {
          "model_module": "@jupyter-widgets/base",
          "model_module_version": "1.2.0",
          "model_name": "LayoutModel",
          "state": {
            "_model_module": "@jupyter-widgets/base",
            "_model_module_version": "1.2.0",
            "_model_name": "LayoutModel",
            "_view_count": null,
            "_view_module": "@jupyter-widgets/base",
            "_view_module_version": "1.2.0",
            "_view_name": "LayoutView",
            "align_content": null,
            "align_items": null,
            "align_self": null,
            "border": null,
            "bottom": null,
            "display": null,
            "flex": null,
            "flex_flow": null,
            "grid_area": null,
            "grid_auto_columns": null,
            "grid_auto_flow": null,
            "grid_auto_rows": null,
            "grid_column": null,
            "grid_gap": null,
            "grid_row": null,
            "grid_template_areas": null,
            "grid_template_columns": null,
            "grid_template_rows": null,
            "height": null,
            "justify_content": null,
            "justify_items": null,
            "left": null,
            "margin": null,
            "max_height": null,
            "max_width": null,
            "min_height": null,
            "min_width": null,
            "object_fit": null,
            "object_position": null,
            "order": null,
            "overflow": null,
            "overflow_x": null,
            "overflow_y": null,
            "padding": null,
            "right": null,
            "top": null,
            "visibility": null,
            "width": null
          }
        }
      }
    }
  },
  "nbformat": 4,
  "nbformat_minor": 0
}